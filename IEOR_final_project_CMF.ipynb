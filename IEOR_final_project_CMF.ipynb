{
 "cells": [
  {
   "cell_type": "markdown",
   "metadata": {},
   "source": [
    "# 1. Load Data"
   ]
  },
  {
   "cell_type": "code",
   "execution_count": 1,
   "metadata": {},
   "outputs": [],
   "source": [
    "# import all packages needed\n",
    "import pandas as pd\n",
    "import json\n",
    "from tqdm import tqdm\n",
    "import numpy as np\n",
    "import matplotlib.pyplot as plt \n",
    "import os\n",
    "import sys\n",
    "import time\n",
    "import pickle\n",
    "from scipy.sparse import csr_matrix\n",
    "import seaborn as sns\n",
    "import matplotlib.pyplot as plt\n",
    "plt.style.use('ggplot')\n",
    "\n",
    "%matplotlib inline"
   ]
  },
  {
   "cell_type": "markdown",
   "metadata": {},
   "source": [
    "### 1.1 Load Ratings Data"
   ]
  },
  {
   "cell_type": "code",
   "execution_count": 2,
   "metadata": {},
   "outputs": [
    {
     "name": "stderr",
     "output_type": "stream",
     "text": [
      "100%|██████████| 6685900/6685900 [00:47<00:00, 142217.40it/s]\n"
     ]
    }
   ],
   "source": [
    "line_count = len(open(\"yelp_dataset/review.json\").readlines())\n",
    "user_ids, business_ids, stars, dates,reviews = [], [], [], [],[]\n",
    "with open(\"yelp_dataset/review.json\") as f:\n",
    "    for line in tqdm(f, total=line_count):\n",
    "        blob = json.loads(line)\n",
    "        user_ids += [blob[\"user_id\"]]\n",
    "        business_ids += [blob[\"business_id\"]] \n",
    "        stars += [blob[\"stars\"]]\n",
    "        dates += [blob[\"date\"]]\n",
    "        reviews +=[blob[\"text\"]]\n",
    "ratings=pd.DataFrame({\"UserId\": user_ids, \"ItemId\": business_ids, \"Rating\": stars, \"date\": dates,\"reviews\":reviews})\n",
    "user_counts = ratings[\"UserId\"].value_counts()\n",
    "active_users = user_counts.loc[user_counts >= 5].index.tolist()"
   ]
  },
  {
   "cell_type": "code",
   "execution_count": 3,
   "metadata": {},
   "outputs": [
    {
     "data": {
      "text/html": [
       "<div>\n",
       "<style scoped>\n",
       "    .dataframe tbody tr th:only-of-type {\n",
       "        vertical-align: middle;\n",
       "    }\n",
       "\n",
       "    .dataframe tbody tr th {\n",
       "        vertical-align: top;\n",
       "    }\n",
       "\n",
       "    .dataframe thead th {\n",
       "        text-align: right;\n",
       "    }\n",
       "</style>\n",
       "<table border=\"1\" class=\"dataframe\">\n",
       "  <thead>\n",
       "    <tr style=\"text-align: right;\">\n",
       "      <th></th>\n",
       "      <th>UserId</th>\n",
       "      <th>ItemId</th>\n",
       "      <th>Rating</th>\n",
       "      <th>date</th>\n",
       "      <th>reviews</th>\n",
       "    </tr>\n",
       "  </thead>\n",
       "  <tbody>\n",
       "    <tr>\n",
       "      <th>0</th>\n",
       "      <td>hG7b0MtEbXx5QzbzE6C_VA</td>\n",
       "      <td>ujmEBvifdJM6h6RLv4wQIg</td>\n",
       "      <td>1.0</td>\n",
       "      <td>2013-05-07 04:34:36</td>\n",
       "      <td>Total bill for this horrible service? Over $8G...</td>\n",
       "    </tr>\n",
       "    <tr>\n",
       "      <th>1</th>\n",
       "      <td>yXQM5uF2jS6es16SJzNHfg</td>\n",
       "      <td>NZnhc2sEQy3RmzKTZnqtwQ</td>\n",
       "      <td>5.0</td>\n",
       "      <td>2017-01-14 21:30:33</td>\n",
       "      <td>I *adore* Travis at the Hard Rock's new Kelly ...</td>\n",
       "    </tr>\n",
       "    <tr>\n",
       "      <th>2</th>\n",
       "      <td>n6-Gk65cPZL6Uz8qRm3NYw</td>\n",
       "      <td>WTqjgwHlXbSFevF32_DJVw</td>\n",
       "      <td>5.0</td>\n",
       "      <td>2016-11-09 20:09:03</td>\n",
       "      <td>I have to say that this office really has it t...</td>\n",
       "    </tr>\n",
       "    <tr>\n",
       "      <th>3</th>\n",
       "      <td>dacAIZ6fTM6mqwW5uxkskg</td>\n",
       "      <td>ikCg8xy5JIg_NGPx-MSIDA</td>\n",
       "      <td>5.0</td>\n",
       "      <td>2018-01-09 20:56:38</td>\n",
       "      <td>Went in for a lunch. Steak sandwich was delici...</td>\n",
       "    </tr>\n",
       "    <tr>\n",
       "      <th>4</th>\n",
       "      <td>ssoyf2_x0EQMed6fgHeMyQ</td>\n",
       "      <td>b1b1eb3uo-w561D0ZfCEiQ</td>\n",
       "      <td>1.0</td>\n",
       "      <td>2018-01-30 23:07:38</td>\n",
       "      <td>Today was my second out of three sessions I ha...</td>\n",
       "    </tr>\n",
       "  </tbody>\n",
       "</table>\n",
       "</div>"
      ],
      "text/plain": [
       "                   UserId                  ItemId  Rating  \\\n",
       "0  hG7b0MtEbXx5QzbzE6C_VA  ujmEBvifdJM6h6RLv4wQIg     1.0   \n",
       "1  yXQM5uF2jS6es16SJzNHfg  NZnhc2sEQy3RmzKTZnqtwQ     5.0   \n",
       "2  n6-Gk65cPZL6Uz8qRm3NYw  WTqjgwHlXbSFevF32_DJVw     5.0   \n",
       "3  dacAIZ6fTM6mqwW5uxkskg  ikCg8xy5JIg_NGPx-MSIDA     5.0   \n",
       "4  ssoyf2_x0EQMed6fgHeMyQ  b1b1eb3uo-w561D0ZfCEiQ     1.0   \n",
       "\n",
       "                  date                                            reviews  \n",
       "0  2013-05-07 04:34:36  Total bill for this horrible service? Over $8G...  \n",
       "1  2017-01-14 21:30:33  I *adore* Travis at the Hard Rock's new Kelly ...  \n",
       "2  2016-11-09 20:09:03  I have to say that this office really has it t...  \n",
       "3  2018-01-09 20:56:38  Went in for a lunch. Steak sandwich was delici...  \n",
       "4  2018-01-30 23:07:38  Today was my second out of three sessions I ha...  "
      ]
     },
     "execution_count": 3,
     "metadata": {},
     "output_type": "execute_result"
    }
   ],
   "source": [
    "ratings.head()"
   ]
  },
  {
   "cell_type": "code",
   "execution_count": 4,
   "metadata": {},
   "outputs": [],
   "source": [
    "#TEST\n",
    "# active_users = user_counts.loc[user_counts >= 200].index.tolist()\n",
    "# len(active_users)"
   ]
  },
  {
   "cell_type": "code",
   "execution_count": 5,
   "metadata": {},
   "outputs": [],
   "source": [
    "# select the active users in the dataset\n",
    "ratings_active = ratings[ratings.UserId.isin(active_users)]"
   ]
  },
  {
   "cell_type": "markdown",
   "metadata": {},
   "source": [
    "#### Split Test and Train Data"
   ]
  },
  {
   "cell_type": "code",
   "execution_count": 6,
   "metadata": {},
   "outputs": [],
   "source": [
    "ratings_sort = ratings_active.sort_values(by=['UserId','date'])"
   ]
  },
  {
   "cell_type": "code",
   "execution_count": 7,
   "metadata": {},
   "outputs": [
    {
     "data": {
      "text/plain": [
       "(286130, 5)"
      ]
     },
     "execution_count": 7,
     "metadata": {},
     "output_type": "execute_result"
    }
   ],
   "source": [
    "test = ratings_sort.groupby('UserId').tail(1)\n",
    "test.shape"
   ]
  },
  {
   "cell_type": "code",
   "execution_count": 8,
   "metadata": {},
   "outputs": [
    {
     "data": {
      "text/html": [
       "<div>\n",
       "<style scoped>\n",
       "    .dataframe tbody tr th:only-of-type {\n",
       "        vertical-align: middle;\n",
       "    }\n",
       "\n",
       "    .dataframe tbody tr th {\n",
       "        vertical-align: top;\n",
       "    }\n",
       "\n",
       "    .dataframe thead th {\n",
       "        text-align: right;\n",
       "    }\n",
       "</style>\n",
       "<table border=\"1\" class=\"dataframe\">\n",
       "  <thead>\n",
       "    <tr style=\"text-align: right;\">\n",
       "      <th></th>\n",
       "      <th>UserId</th>\n",
       "      <th>ItemId</th>\n",
       "      <th>Rating</th>\n",
       "      <th>date</th>\n",
       "      <th>reviews</th>\n",
       "    </tr>\n",
       "  </thead>\n",
       "  <tbody>\n",
       "    <tr>\n",
       "      <th>3928452</th>\n",
       "      <td>---1lKK3aKOuomHnwAkAow</td>\n",
       "      <td>Hqs4YNST_ZHbshwyi4bnsQ</td>\n",
       "      <td>5.0</td>\n",
       "      <td>2018-10-11 23:29:57</td>\n",
       "      <td>The customer service of the owner made me give...</td>\n",
       "    </tr>\n",
       "    <tr>\n",
       "      <th>2794680</th>\n",
       "      <td>--0kuuLmuYBe3Rmu0Iycww</td>\n",
       "      <td>PYe_FDw6QTbTf66WcGE_tw</td>\n",
       "      <td>2.0</td>\n",
       "      <td>2014-04-21 16:58:28</td>\n",
       "      <td>I'd like to keep it short and sweet today....\\...</td>\n",
       "    </tr>\n",
       "    <tr>\n",
       "      <th>3722634</th>\n",
       "      <td>--2HUmLkcNHZp0xw6AMBPg</td>\n",
       "      <td>KW9RNyBPmc77f9FsO92qYw</td>\n",
       "      <td>5.0</td>\n",
       "      <td>2018-10-04 02:02:28</td>\n",
       "      <td>This is a beautiful gym.  Lots of equipment op...</td>\n",
       "    </tr>\n",
       "    <tr>\n",
       "      <th>1213261</th>\n",
       "      <td>--2vR0DIsmQ6WfcSzKWigw</td>\n",
       "      <td>BLIJ-p5wYuAhw6Pp6mh6mw</td>\n",
       "      <td>3.0</td>\n",
       "      <td>2018-01-11 04:24:17</td>\n",
       "      <td>Bei unserem morgendlichen Spaziergang über den...</td>\n",
       "    </tr>\n",
       "    <tr>\n",
       "      <th>4737894</th>\n",
       "      <td>--3WaS23LcIXtxyFULJHTA</td>\n",
       "      <td>UKrfUw8quQiQM2N9i1nH0g</td>\n",
       "      <td>4.0</td>\n",
       "      <td>2018-09-03 19:32:11</td>\n",
       "      <td>Toucan play at this game!  Great family activi...</td>\n",
       "    </tr>\n",
       "  </tbody>\n",
       "</table>\n",
       "</div>"
      ],
      "text/plain": [
       "                         UserId                  ItemId  Rating  \\\n",
       "3928452  ---1lKK3aKOuomHnwAkAow  Hqs4YNST_ZHbshwyi4bnsQ     5.0   \n",
       "2794680  --0kuuLmuYBe3Rmu0Iycww  PYe_FDw6QTbTf66WcGE_tw     2.0   \n",
       "3722634  --2HUmLkcNHZp0xw6AMBPg  KW9RNyBPmc77f9FsO92qYw     5.0   \n",
       "1213261  --2vR0DIsmQ6WfcSzKWigw  BLIJ-p5wYuAhw6Pp6mh6mw     3.0   \n",
       "4737894  --3WaS23LcIXtxyFULJHTA  UKrfUw8quQiQM2N9i1nH0g     4.0   \n",
       "\n",
       "                        date  \\\n",
       "3928452  2018-10-11 23:29:57   \n",
       "2794680  2014-04-21 16:58:28   \n",
       "3722634  2018-10-04 02:02:28   \n",
       "1213261  2018-01-11 04:24:17   \n",
       "4737894  2018-09-03 19:32:11   \n",
       "\n",
       "                                                   reviews  \n",
       "3928452  The customer service of the owner made me give...  \n",
       "2794680  I'd like to keep it short and sweet today....\\...  \n",
       "3722634  This is a beautiful gym.  Lots of equipment op...  \n",
       "1213261  Bei unserem morgendlichen Spaziergang über den...  \n",
       "4737894  Toucan play at this game!  Great family activi...  "
      ]
     },
     "execution_count": 8,
     "metadata": {},
     "output_type": "execute_result"
    }
   ],
   "source": [
    "test.head()"
   ]
  },
  {
   "cell_type": "code",
   "execution_count": 9,
   "metadata": {},
   "outputs": [
    {
     "data": {
      "text/plain": [
       "(4252142, 5)"
      ]
     },
     "execution_count": 9,
     "metadata": {},
     "output_type": "execute_result"
    }
   ],
   "source": [
    "train =pd.concat([ratings_sort, test]).drop_duplicates(keep=False)\n",
    "train.shape"
   ]
  },
  {
   "cell_type": "code",
   "execution_count": 10,
   "metadata": {},
   "outputs": [
    {
     "data": {
      "text/html": [
       "<div>\n",
       "<style scoped>\n",
       "    .dataframe tbody tr th:only-of-type {\n",
       "        vertical-align: middle;\n",
       "    }\n",
       "\n",
       "    .dataframe tbody tr th {\n",
       "        vertical-align: top;\n",
       "    }\n",
       "\n",
       "    .dataframe thead th {\n",
       "        text-align: right;\n",
       "    }\n",
       "</style>\n",
       "<table border=\"1\" class=\"dataframe\">\n",
       "  <thead>\n",
       "    <tr style=\"text-align: right;\">\n",
       "      <th></th>\n",
       "      <th>UserId</th>\n",
       "      <th>ItemId</th>\n",
       "      <th>Rating</th>\n",
       "      <th>date</th>\n",
       "      <th>reviews</th>\n",
       "    </tr>\n",
       "  </thead>\n",
       "  <tbody>\n",
       "    <tr>\n",
       "      <th>5178360</th>\n",
       "      <td>---1lKK3aKOuomHnwAkAow</td>\n",
       "      <td>5cbsjFtrntUAeUx51FaFTg</td>\n",
       "      <td>4.0</td>\n",
       "      <td>2008-11-11 04:31:46</td>\n",
       "      <td>I like it, and so far I think it is one of the...</td>\n",
       "    </tr>\n",
       "    <tr>\n",
       "      <th>5934075</th>\n",
       "      <td>---1lKK3aKOuomHnwAkAow</td>\n",
       "      <td>--9e1ONYQuAa-CB_Rrw7Tw</td>\n",
       "      <td>4.0</td>\n",
       "      <td>2008-11-11 04:40:05</td>\n",
       "      <td>So when you go to a restaurant like this pleas...</td>\n",
       "    </tr>\n",
       "    <tr>\n",
       "      <th>4312893</th>\n",
       "      <td>---1lKK3aKOuomHnwAkAow</td>\n",
       "      <td>ifEHr-ZnGFSKgJVsywiAFg</td>\n",
       "      <td>5.0</td>\n",
       "      <td>2009-01-16 21:49:36</td>\n",
       "      <td>The Wild Boar was amazing, so good my husband ...</td>\n",
       "    </tr>\n",
       "    <tr>\n",
       "      <th>2915094</th>\n",
       "      <td>---1lKK3aKOuomHnwAkAow</td>\n",
       "      <td>kosTPb88O4Q0XGbVbEOGCA</td>\n",
       "      <td>4.0</td>\n",
       "      <td>2010-10-16 23:27:02</td>\n",
       "      <td>While its not Lotus it was tasty an the women ...</td>\n",
       "    </tr>\n",
       "    <tr>\n",
       "      <th>809678</th>\n",
       "      <td>---1lKK3aKOuomHnwAkAow</td>\n",
       "      <td>rq5dgoksPHkJwJNQKlGQ7w</td>\n",
       "      <td>5.0</td>\n",
       "      <td>2010-10-16 23:31:28</td>\n",
       "      <td>Best coffee in town, they brew each cup. If yo...</td>\n",
       "    </tr>\n",
       "  </tbody>\n",
       "</table>\n",
       "</div>"
      ],
      "text/plain": [
       "                         UserId                  ItemId  Rating  \\\n",
       "5178360  ---1lKK3aKOuomHnwAkAow  5cbsjFtrntUAeUx51FaFTg     4.0   \n",
       "5934075  ---1lKK3aKOuomHnwAkAow  --9e1ONYQuAa-CB_Rrw7Tw     4.0   \n",
       "4312893  ---1lKK3aKOuomHnwAkAow  ifEHr-ZnGFSKgJVsywiAFg     5.0   \n",
       "2915094  ---1lKK3aKOuomHnwAkAow  kosTPb88O4Q0XGbVbEOGCA     4.0   \n",
       "809678   ---1lKK3aKOuomHnwAkAow  rq5dgoksPHkJwJNQKlGQ7w     5.0   \n",
       "\n",
       "                        date  \\\n",
       "5178360  2008-11-11 04:31:46   \n",
       "5934075  2008-11-11 04:40:05   \n",
       "4312893  2009-01-16 21:49:36   \n",
       "2915094  2010-10-16 23:27:02   \n",
       "809678   2010-10-16 23:31:28   \n",
       "\n",
       "                                                   reviews  \n",
       "5178360  I like it, and so far I think it is one of the...  \n",
       "5934075  So when you go to a restaurant like this pleas...  \n",
       "4312893  The Wild Boar was amazing, so good my husband ...  \n",
       "2915094  While its not Lotus it was tasty an the women ...  \n",
       "809678   Best coffee in town, they brew each cup. If yo...  "
      ]
     },
     "execution_count": 10,
     "metadata": {},
     "output_type": "execute_result"
    }
   ],
   "source": [
    "train.head()"
   ]
  },
  {
   "cell_type": "markdown",
   "metadata": {},
   "source": [
    "### 1.2 Load User Side Information"
   ]
  },
  {
   "cell_type": "code",
   "execution_count": 11,
   "metadata": {},
   "outputs": [
    {
     "name": "stderr",
     "output_type": "stream",
     "text": [
      "100%|██████████| 1637138/1637138 [00:18<00:00, 89796.59it/s] \n"
     ]
    }
   ],
   "source": [
    "line_count = len(open(\"yelp_dataset/user.json\").readlines())\n",
    "user_id,review_count, fans, average_stars = [],[],[],[]\n",
    "useful, funny, cool, elite = [],[],[],[]\n",
    "with open(\"yelp_dataset/user.json\") as f:\n",
    "    for line in tqdm(f, total=line_count):\n",
    "        blob = json.loads(line)\n",
    "        user_id += [blob[\"user_id\"]]\n",
    "        review_count += [blob[\"review_count\"]]\n",
    "        fans += [blob[\"fans\"]]\n",
    "        average_stars += [blob[\"average_stars\"]]\n",
    "        useful += [blob[\"useful\"]]\n",
    "        funny += [blob[\"funny\"]]\n",
    "        cool += [blob[\"cool\"]]\n",
    "        \n",
    "users = pd.DataFrame(\n",
    "    {\"UserId\": user_id, \"review_count\": review_count, \"fans\":fans, \n",
    "     \"average_stars\":average_stars, \"useful\":useful, \"funny\":funny, \"cool\":cool}\n",
    ")"
   ]
  },
  {
   "cell_type": "code",
   "execution_count": 14,
   "metadata": {},
   "outputs": [
    {
     "data": {
      "text/plain": [
       "(286130, 7)"
      ]
     },
     "execution_count": 14,
     "metadata": {},
     "output_type": "execute_result"
    }
   ],
   "source": [
    "user_info_active = users[users.UserId.isin(active_users)]\n",
    "user_info_active.shape"
   ]
  },
  {
   "cell_type": "code",
   "execution_count": 15,
   "metadata": {},
   "outputs": [
    {
     "data": {
      "text/html": [
       "<div>\n",
       "<style scoped>\n",
       "    .dataframe tbody tr th:only-of-type {\n",
       "        vertical-align: middle;\n",
       "    }\n",
       "\n",
       "    .dataframe tbody tr th {\n",
       "        vertical-align: top;\n",
       "    }\n",
       "\n",
       "    .dataframe thead th {\n",
       "        text-align: right;\n",
       "    }\n",
       "</style>\n",
       "<table border=\"1\" class=\"dataframe\">\n",
       "  <thead>\n",
       "    <tr style=\"text-align: right;\">\n",
       "      <th></th>\n",
       "      <th>UserId</th>\n",
       "      <th>review_count</th>\n",
       "      <th>fans</th>\n",
       "      <th>average_stars</th>\n",
       "      <th>useful</th>\n",
       "      <th>funny</th>\n",
       "      <th>cool</th>\n",
       "    </tr>\n",
       "  </thead>\n",
       "  <tbody>\n",
       "    <tr>\n",
       "      <th>0</th>\n",
       "      <td>l6BmjZMeQD3rDxWUbiAiow</td>\n",
       "      <td>95</td>\n",
       "      <td>5</td>\n",
       "      <td>4.03</td>\n",
       "      <td>84</td>\n",
       "      <td>17</td>\n",
       "      <td>25</td>\n",
       "    </tr>\n",
       "    <tr>\n",
       "      <th>1</th>\n",
       "      <td>4XChL029mKr5hydo79Ljxg</td>\n",
       "      <td>33</td>\n",
       "      <td>4</td>\n",
       "      <td>3.63</td>\n",
       "      <td>48</td>\n",
       "      <td>22</td>\n",
       "      <td>16</td>\n",
       "    </tr>\n",
       "    <tr>\n",
       "      <th>2</th>\n",
       "      <td>bc8C_eETBWL0olvFSJJd0w</td>\n",
       "      <td>16</td>\n",
       "      <td>0</td>\n",
       "      <td>3.71</td>\n",
       "      <td>28</td>\n",
       "      <td>8</td>\n",
       "      <td>10</td>\n",
       "    </tr>\n",
       "    <tr>\n",
       "      <th>4</th>\n",
       "      <td>MM4RJAeH6yuaN8oZDSt0RA</td>\n",
       "      <td>361</td>\n",
       "      <td>39</td>\n",
       "      <td>4.08</td>\n",
       "      <td>1114</td>\n",
       "      <td>279</td>\n",
       "      <td>665</td>\n",
       "    </tr>\n",
       "    <tr>\n",
       "      <th>6</th>\n",
       "      <td>TEtzbpgA2BFBrC0y0sCbfw</td>\n",
       "      <td>1122</td>\n",
       "      <td>696</td>\n",
       "      <td>4.39</td>\n",
       "      <td>13311</td>\n",
       "      <td>19356</td>\n",
       "      <td>15319</td>\n",
       "    </tr>\n",
       "  </tbody>\n",
       "</table>\n",
       "</div>"
      ],
      "text/plain": [
       "                   UserId  review_count  fans  average_stars  useful  funny  \\\n",
       "0  l6BmjZMeQD3rDxWUbiAiow            95     5           4.03      84     17   \n",
       "1  4XChL029mKr5hydo79Ljxg            33     4           3.63      48     22   \n",
       "2  bc8C_eETBWL0olvFSJJd0w            16     0           3.71      28      8   \n",
       "4  MM4RJAeH6yuaN8oZDSt0RA           361    39           4.08    1114    279   \n",
       "6  TEtzbpgA2BFBrC0y0sCbfw          1122   696           4.39   13311  19356   \n",
       "\n",
       "    cool  \n",
       "0     25  \n",
       "1     16  \n",
       "2     10  \n",
       "4    665  \n",
       "6  15319  "
      ]
     },
     "execution_count": 15,
     "metadata": {},
     "output_type": "execute_result"
    }
   ],
   "source": [
    "user_info_active.head()"
   ]
  },
  {
   "cell_type": "markdown",
   "metadata": {},
   "source": [
    "\n",
    "# 2. Basic model - only movie ratings\n",
    "\n",
    "Non-collective factorization model - including user and item biases + regularization:\n",
    "\n",
    "\n",
    "## 2.1 Fitting the model"
   ]
  },
  {
   "cell_type": "code",
   "execution_count": 16,
   "metadata": {},
   "outputs": [
    {
     "name": "stdout",
     "output_type": "stream",
     "text": [
      "WARNING:tensorflow:From /Users/jasmine1231/anaconda3/lib/python3.6/site-packages/cmfrec/__init__.py:464: The name tf.reset_default_graph is deprecated. Please use tf.compat.v1.reset_default_graph instead.\n",
      "\n",
      "WARNING:tensorflow:From /Users/jasmine1231/anaconda3/lib/python3.6/site-packages/cmfrec/__init__.py:465: The name tf.set_random_seed is deprecated. Please use tf.compat.v1.set_random_seed instead.\n",
      "\n",
      "WARNING:tensorflow:From /Users/jasmine1231/anaconda3/lib/python3.6/site-packages/cmfrec/__init__.py:472: The name tf.placeholder is deprecated. Please use tf.compat.v1.placeholder instead.\n",
      "\n",
      "WARNING:tensorflow:From /Users/jasmine1231/anaconda3/lib/python3.6/site-packages/cmfrec/__init__.py:487: The name tf.random_normal is deprecated. Please use tf.random.normal instead.\n",
      "\n",
      "WARNING:tensorflow:From /Users/jasmine1231/anaconda3/lib/python3.6/site-packages/cmfrec/__init__.py:522: The name tf.losses.mean_squared_error is deprecated. Please use tf.compat.v1.losses.mean_squared_error instead.\n",
      "\n",
      "WARNING:tensorflow:From /Users/jasmine1231/anaconda3/lib/python3.6/site-packages/tensorflow_core/python/ops/losses/losses_impl.py:121: where (from tensorflow.python.ops.array_ops) is deprecated and will be removed in a future version.\n",
      "Instructions for updating:\n",
      "Use tf.where in 2.0, which has the same broadcast rule as np.where\n",
      "WARNING:tensorflow:\n",
      "The TensorFlow contrib module will not be included in TensorFlow 2.0.\n",
      "For more information, please see:\n",
      "  * https://github.com/tensorflow/community/blob/master/rfcs/20180907-contrib-sunset.md\n",
      "  * https://github.com/tensorflow/addons\n",
      "  * https://github.com/tensorflow/io (for I/O related ops)\n",
      "If you depend on functionality not listed there, please file an issue.\n",
      "\n",
      "WARNING:tensorflow:From /Users/jasmine1231/anaconda3/lib/python3.6/site-packages/cmfrec/__init__.py:671: The name tf.global_variables_initializer is deprecated. Please use tf.compat.v1.global_variables_initializer instead.\n",
      "\n",
      "WARNING:tensorflow:From /Users/jasmine1231/anaconda3/lib/python3.6/site-packages/cmfrec/__init__.py:672: The name tf.Session is deprecated. Please use tf.compat.v1.Session instead.\n",
      "\n",
      "WARNING:tensorflow:From /Users/jasmine1231/anaconda3/lib/python3.6/site-packages/cmfrec/__init__.py:676: The name tf.logging.set_verbosity is deprecated. Please use tf.compat.v1.logging.set_verbosity instead.\n",
      "\n",
      "WARNING:tensorflow:From /Users/jasmine1231/anaconda3/lib/python3.6/site-packages/cmfrec/__init__.py:676: The name tf.logging.INFO is deprecated. Please use tf.compat.v1.logging.INFO instead.\n",
      "\n",
      "INFO:tensorflow:Optimization terminated with:\n",
      "  Message: b'CONVERGENCE: NORM_OF_PROJECTED_GRADIENT_<=_PGTOL'\n",
      "  Objective function value: 1.696654\n",
      "  Number of iterations: 36\n",
      "  Number of functions evaluations: 46\n",
      "CPU times: user 7min 53s, sys: 2min 12s, total: 10min 5s\n",
      "Wall time: 2min 42s\n"
     ]
    }
   ],
   "source": [
    "%%time\n",
    "from copy import deepcopy\n",
    "from cmfrec import CMF\n",
    "\n",
    "model_no_side_info = CMF(k=40, reg_param=1e-4, random_seed=1)\n",
    "model_no_side_info.fit(deepcopy(train))\n",
    "test_no_side_info = deepcopy(test)\n",
    "test_no_side_info['Predicted'] = model_no_side_info.predict(test_no_side_info.UserId, \n",
    "                                                            test_no_side_info.ItemId)"
   ]
  },
  {
   "cell_type": "markdown",
   "metadata": {},
   "source": [
    "## 2.2 Evaluating results\n",
    "\n",
    "For this model and the ones that will follow, I will evaluate the recommendations by computing:\n",
    "* Root mean squared error (RMSE), i.e. sum( sqrt( (real - predicted)^2 ) ) - which can be though of the average star-rating error for each predicted rating. This is the most typical measure but has some drawbacks as it doesn't tend to be a good measure when ranking and can be substantially improved without changing the relative order of predictions.\n",
    "\n",
    "There are other more appropriate evaluation criteria, but these are easy to understand and provide reasonable insights on model performance."
   ]
  },
  {
   "cell_type": "code",
   "execution_count": 17,
   "metadata": {},
   "outputs": [
    {
     "name": "stdout",
     "output_type": "stream",
     "text": [
      "RMSE (no side info):  1.4563397206455984\n"
     ]
    }
   ],
   "source": [
    "print(\"RMSE (no side info): \", \n",
    "      np.sqrt(np.mean( (test_no_side_info.Predicted - test_no_side_info.Rating)**2) ))"
   ]
  },
  {
   "cell_type": "markdown",
   "metadata": {},
   "source": [
    "# 3. Model with user side information\n",
    "\n",
    "Now I'll add only the user information.\n",
    "\n",
    "## 3.1 Fitting the model"
   ]
  },
  {
   "cell_type": "code",
   "execution_count": 18,
   "metadata": {},
   "outputs": [
    {
     "name": "stderr",
     "output_type": "stream",
     "text": [
      "/Users/jasmine1231/anaconda3/lib/python3.6/site-packages/tensorflow_core/python/framework/indexed_slices.py:424: UserWarning: Converting sparse IndexedSlices to a dense Tensor of unknown shape. This may consume a large amount of memory.\n",
      "  \"Converting sparse IndexedSlices to a dense Tensor of unknown shape. \"\n"
     ]
    },
    {
     "name": "stdout",
     "output_type": "stream",
     "text": [
      "INFO:tensorflow:Optimization terminated with:\n",
      "  Message: b'STOP: TOTAL NO. of ITERATIONS REACHED LIMIT'\n",
      "  Objective function value: 985.159973\n",
      "  Number of iterations: 1000\n",
      "  Number of functions evaluations: 1078\n",
      "CPU times: user 3h 2min 55s, sys: 50min 8s, total: 3h 53min 4s\n",
      "Wall time: 53min 24s\n"
     ]
    }
   ],
   "source": [
    "%%time\n",
    "model_user_info = CMF(k=40, reg_param=1e-4, offsets_model=True, random_seed=1)\n",
    "model_user_info.fit(deepcopy(train),\n",
    "                     user_info = deepcopy(user_info_active))\n",
    "test_with_user_info = deepcopy(test)\n",
    "test_with_user_info['Predicted'] = model_user_info.predict(test_with_user_info.UserId, \n",
    "                                                           test_with_user_info.ItemId)"
   ]
  },
  {
   "cell_type": "markdown",
   "metadata": {},
   "source": [
    "## 3.2 Evaluating results"
   ]
  },
  {
   "cell_type": "code",
   "execution_count": 19,
   "metadata": {},
   "outputs": [
    {
     "name": "stdout",
     "output_type": "stream",
     "text": [
      "RMSE (user side info):  6.474480331600907\n"
     ]
    }
   ],
   "source": [
    "print(\"RMSE (user side info): \", \n",
    "      np.sqrt(np.mean( (test_with_user_info.Predicted - test_with_user_info.Rating)**2) ))"
   ]
  },
  {
   "cell_type": "code",
   "execution_count": null,
   "metadata": {},
   "outputs": [],
   "source": []
  }
 ],
 "metadata": {
  "kernelspec": {
   "display_name": "Python 3",
   "language": "python",
   "name": "python3"
  },
  "language_info": {
   "codemirror_mode": {
    "name": "ipython",
    "version": 3
   },
   "file_extension": ".py",
   "mimetype": "text/x-python",
   "name": "python",
   "nbconvert_exporter": "python",
   "pygments_lexer": "ipython3",
   "version": "3.7.3"
  }
 },
 "nbformat": 4,
 "nbformat_minor": 2
}
