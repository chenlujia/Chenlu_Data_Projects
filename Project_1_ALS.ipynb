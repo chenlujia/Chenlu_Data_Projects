{
 "cells": [
  {
   "cell_type": "markdown",
   "metadata": {},
   "source": [
    "## ALS"
   ]
  },
  {
   "cell_type": "code",
   "execution_count": 26,
   "metadata": {},
   "outputs": [],
   "source": [
    "import os\n",
    "import time\n",
    "\n",
    "# spark imports\n",
    "from pyspark.sql import SparkSession\n",
    "from pyspark.sql.functions import UserDefinedFunction, explode, desc\n",
    "from pyspark.sql.types import StringType, ArrayType\n",
    "from pyspark.mllib.recommendation import ALS\n",
    "\n",
    "# data science imports\n",
    "import math\n",
    "import numpy as np\n",
    "import pandas as pd\n",
    "\n",
    "# visualization imports\n",
    "import seaborn as sns\n",
    "import matplotlib.pyplot as plt\n",
    "\n",
    "%matplotlib inline"
   ]
  },
  {
   "cell_type": "code",
   "execution_count": 28,
   "metadata": {},
   "outputs": [],
   "source": [
    "# spark config\n",
    "spark = SparkSession \\\n",
    "    .builder \\\n",
    "    .appName(\"movie recommendation\") \\\n",
    "    .config(\"spark.driver.maxResultSize\", \"96g\") \\\n",
    "    .config(\"spark.driver.memory\", \"96g\") \\\n",
    "    .config(\"spark.executor.memory\", \"8g\") \\\n",
    "    .config(\"spark.master\", \"local[12]\") \\\n",
    "    .getOrCreate()\n",
    "# get spark context\n",
    "sc = spark.sparkContext"
   ]
  },
  {
   "cell_type": "code",
   "execution_count": 29,
   "metadata": {},
   "outputs": [],
   "source": [
    "data_path = \"ml-20m\""
   ]
  },
  {
   "cell_type": "code",
   "execution_count": 30,
   "metadata": {},
   "outputs": [],
   "source": [
    "movies = spark.read.load(os.path.join(data_path, 'movies.csv'), format='csv', header=True, inferSchema=True)\n",
    "ratings = spark.read.load(os.path.join(data_path, 'ratings.csv'), format='csv', header=True, inferSchema=True)\n",
    "links = spark.read.load(os.path.join(data_path, 'links.csv'), format='csv', header=True, inferSchema=True)\n",
    "tags = spark.read.load(os.path.join(data_path, 'tags.csv'), format='csv', header=True, inferSchema=True)"
   ]
  },
  {
   "cell_type": "code",
   "execution_count": 31,
   "metadata": {},
   "outputs": [
    {
     "data": {
      "text/plain": [
       "[(1, 2, 3.5), (1, 29, 3.5), (1, 32, 3.5)]"
      ]
     },
     "execution_count": 31,
     "metadata": {},
     "output_type": "execute_result"
    }
   ],
   "source": [
    "# load data\n",
    "movie_rating = sc.textFile(os.path.join(data_path, 'ratings.csv'))\n",
    "# preprocess data -- only need [\"userId\", \"movieId\", \"rating\"]\n",
    "header = movie_rating.take(1)[0]\n",
    "rating_data = movie_rating \\\n",
    "    .filter(lambda line: line!=header) \\\n",
    "    .map(lambda line: line.split(\",\")) \\\n",
    "    .map(lambda tokens: (int(tokens[0]), int(tokens[1]), float(tokens[2]))) \\\n",
    "    .cache()\n",
    "# check three rows\n",
    "rating_data.take(3)"
   ]
  },
  {
   "cell_type": "code",
   "execution_count": 32,
   "metadata": {},
   "outputs": [
    {
     "data": {
      "text/plain": [
       "PythonRDD[44] at RDD at PythonRDD.scala:53"
      ]
     },
     "execution_count": 32,
     "metadata": {},
     "output_type": "execute_result"
    }
   ],
   "source": [
    "small_data, drop_data = rating_data.randomSplit([3,7], seed=99)\n",
    "small_data.cache()\n",
    "train, validation, test = small_data.randomSplit([6, 2, 2], seed=99)\n",
    "# cache data\n",
    "train.cache()\n",
    "validation.cache()\n",
    "test.cache()"
   ]
  },
  {
   "cell_type": "code",
   "execution_count": 36,
   "metadata": {},
   "outputs": [],
   "source": [
    "def train_ALS(train_data, validation_data, num_iters, reg_param, ranks):\n",
    "    \"\"\"\n",
    "    Grid Search Function to select the best model based on RMSE of hold-out data\n",
    "    \"\"\"\n",
    "    # initial\n",
    "    min_error = float('inf')\n",
    "    best_rank = -1\n",
    "    best_regularization = 0\n",
    "    best_model = None\n",
    "    for iters in num_iters:\n",
    "        for rank in ranks:\n",
    "            for reg in reg_param:\n",
    "                # train ALS model\n",
    "                model = ALS.train(\n",
    "                    ratings=train_data,    # (userID, productID, rating) tuple\n",
    "                    iterations=iters,\n",
    "                    rank=rank,\n",
    "                    lambda_=reg,           # regularization param\n",
    "                    seed=99)\n",
    "                # make prediction\n",
    "                valid_data = validation_data.map(lambda p: (p[0], p[1]))\n",
    "                predictions = model.predictAll(valid_data).map(lambda r: ((r[0], r[1]), r[2]))\n",
    "                # get the rating result\n",
    "                ratesAndPreds = validation_data.map(lambda r: ((r[0], r[1]), r[2])).join(predictions)\n",
    "                # get the RMSE\n",
    "                MSE = ratesAndPreds.map(lambda r: (r[1][0] - r[1][1])**2).mean()\n",
    "                error = math.sqrt(MSE)\n",
    "                print('{} latent factors, {} iterations and regularization = {}: validation RMSE is {}'.format(rank,iters, reg, error))\n",
    "                if error < min_error:\n",
    "                    min_error = error\n",
    "                    best_rank = rank\n",
    "                    best_regularization = reg\n",
    "                    best_model = model\n",
    "                    best_iterations=iters\n",
    "    print('\\nThe best model has {} latent factors,{} iterations and regularization = {}'.format(best_rank,best_iterations, best_regularization))\n",
    "    return best_model"
   ]
  },
  {
   "cell_type": "code",
   "execution_count": 37,
   "metadata": {},
   "outputs": [
    {
     "name": "stdout",
     "output_type": "stream",
     "text": [
      "8 latent factors, 5 iterations and regularization = 0.001: validation RMSE is 1.0978310055945717\n",
      "8 latent factors, 5 iterations and regularization = 0.01: validation RMSE is 0.9512585699486441\n",
      "8 latent factors, 5 iterations and regularization = 0.05: validation RMSE is 0.9029716434021641\n",
      "8 latent factors, 5 iterations and regularization = 0.1: validation RMSE is 0.8653390023472605\n",
      "8 latent factors, 5 iterations and regularization = 0.2: validation RMSE is 0.8662126445515408\n",
      "10 latent factors, 5 iterations and regularization = 0.001: validation RMSE is 1.1313538637183422\n",
      "10 latent factors, 5 iterations and regularization = 0.01: validation RMSE is 0.9682460863797264\n",
      "10 latent factors, 5 iterations and regularization = 0.05: validation RMSE is 0.9038032451482121\n",
      "10 latent factors, 5 iterations and regularization = 0.1: validation RMSE is 0.8605333006687613\n",
      "10 latent factors, 5 iterations and regularization = 0.2: validation RMSE is 0.8642836044308183\n",
      "12 latent factors, 5 iterations and regularization = 0.001: validation RMSE is 1.1770767772963115\n",
      "12 latent factors, 5 iterations and regularization = 0.01: validation RMSE is 0.9827213765926149\n",
      "12 latent factors, 5 iterations and regularization = 0.05: validation RMSE is 0.9120792844855544\n",
      "12 latent factors, 5 iterations and regularization = 0.1: validation RMSE is 0.8618355140199258\n",
      "12 latent factors, 5 iterations and regularization = 0.2: validation RMSE is 0.8632999078204758\n",
      "14 latent factors, 5 iterations and regularization = 0.001: validation RMSE is 1.2258499391386017\n",
      "14 latent factors, 5 iterations and regularization = 0.01: validation RMSE is 1.0028279085655245\n",
      "14 latent factors, 5 iterations and regularization = 0.05: validation RMSE is 0.9210242806970018\n",
      "14 latent factors, 5 iterations and regularization = 0.1: validation RMSE is 0.8650480416547903\n",
      "14 latent factors, 5 iterations and regularization = 0.2: validation RMSE is 0.8646173146775767\n",
      "16 latent factors, 5 iterations and regularization = 0.001: validation RMSE is 1.2490077613155428\n",
      "16 latent factors, 5 iterations and regularization = 0.01: validation RMSE is 1.0128096451638764\n",
      "16 latent factors, 5 iterations and regularization = 0.05: validation RMSE is 0.9298406576807708\n",
      "16 latent factors, 5 iterations and regularization = 0.1: validation RMSE is 0.8683283329529465\n",
      "16 latent factors, 5 iterations and regularization = 0.2: validation RMSE is 0.8649730153143963\n",
      "18 latent factors, 5 iterations and regularization = 0.001: validation RMSE is 1.2932179011382785\n",
      "18 latent factors, 5 iterations and regularization = 0.01: validation RMSE is 1.0253272867599996\n",
      "18 latent factors, 5 iterations and regularization = 0.05: validation RMSE is 0.9401995541798129\n",
      "18 latent factors, 5 iterations and regularization = 0.1: validation RMSE is 0.8754341411789612\n",
      "18 latent factors, 5 iterations and regularization = 0.2: validation RMSE is 0.8673439170139036\n",
      "20 latent factors, 5 iterations and regularization = 0.001: validation RMSE is 1.3322257673208489\n",
      "20 latent factors, 5 iterations and regularization = 0.01: validation RMSE is 1.036870360517641\n",
      "20 latent factors, 5 iterations and regularization = 0.05: validation RMSE is 0.9386947550839789\n",
      "20 latent factors, 5 iterations and regularization = 0.1: validation RMSE is 0.8702032340322843\n",
      "20 latent factors, 5 iterations and regularization = 0.2: validation RMSE is 0.865110779329479\n",
      "8 latent factors, 10 iterations and regularization = 0.001: validation RMSE is 1.0668352357022106\n",
      "8 latent factors, 10 iterations and regularization = 0.01: validation RMSE is 0.9797928545199768\n",
      "8 latent factors, 10 iterations and regularization = 0.05: validation RMSE is 0.8878754890133085\n",
      "8 latent factors, 10 iterations and regularization = 0.1: validation RMSE is 0.8543423428154189\n",
      "8 latent factors, 10 iterations and regularization = 0.2: validation RMSE is 0.8700759892641091\n",
      "10 latent factors, 10 iterations and regularization = 0.001: validation RMSE is 1.0970635899065795\n",
      "10 latent factors, 10 iterations and regularization = 0.01: validation RMSE is 0.9994364855465895\n",
      "10 latent factors, 10 iterations and regularization = 0.05: validation RMSE is 0.8915847131747107\n",
      "10 latent factors, 10 iterations and regularization = 0.1: validation RMSE is 0.8525377629672534\n",
      "10 latent factors, 10 iterations and regularization = 0.2: validation RMSE is 0.8689926178741824\n",
      "12 latent factors, 10 iterations and regularization = 0.001: validation RMSE is 1.1389480646145866\n",
      "12 latent factors, 10 iterations and regularization = 0.01: validation RMSE is 1.0232154522553347\n",
      "12 latent factors, 10 iterations and regularization = 0.05: validation RMSE is 0.8972473210199161\n",
      "12 latent factors, 10 iterations and regularization = 0.1: validation RMSE is 0.8530382679253228\n",
      "12 latent factors, 10 iterations and regularization = 0.2: validation RMSE is 0.8687290498917214\n",
      "14 latent factors, 10 iterations and regularization = 0.001: validation RMSE is 1.172881546924749\n",
      "14 latent factors, 10 iterations and regularization = 0.01: validation RMSE is 1.0394405322468783\n",
      "14 latent factors, 10 iterations and regularization = 0.05: validation RMSE is 0.9023847265042546\n",
      "14 latent factors, 10 iterations and regularization = 0.1: validation RMSE is 0.853817087280848\n",
      "14 latent factors, 10 iterations and regularization = 0.2: validation RMSE is 0.8691475912011367\n",
      "16 latent factors, 10 iterations and regularization = 0.001: validation RMSE is 1.2055981178992488\n",
      "16 latent factors, 10 iterations and regularization = 0.01: validation RMSE is 1.054084161409032\n",
      "16 latent factors, 10 iterations and regularization = 0.05: validation RMSE is 0.9094244673529962\n",
      "16 latent factors, 10 iterations and regularization = 0.1: validation RMSE is 0.8562320138375279\n",
      "16 latent factors, 10 iterations and regularization = 0.2: validation RMSE is 0.869421319752378\n",
      "18 latent factors, 10 iterations and regularization = 0.001: validation RMSE is 1.2347057383132805\n",
      "18 latent factors, 10 iterations and regularization = 0.01: validation RMSE is 1.069838483595508\n",
      "18 latent factors, 10 iterations and regularization = 0.05: validation RMSE is 0.9148743287786926\n",
      "18 latent factors, 10 iterations and regularization = 0.1: validation RMSE is 0.8586895697783362\n",
      "18 latent factors, 10 iterations and regularization = 0.2: validation RMSE is 0.8703617748411678\n",
      "20 latent factors, 10 iterations and regularization = 0.001: validation RMSE is 1.2606334401183292\n",
      "20 latent factors, 10 iterations and regularization = 0.01: validation RMSE is 1.0801918150466085\n",
      "20 latent factors, 10 iterations and regularization = 0.05: validation RMSE is 0.9145875562221466\n",
      "20 latent factors, 10 iterations and regularization = 0.1: validation RMSE is 0.8562461999308856\n",
      "20 latent factors, 10 iterations and regularization = 0.2: validation RMSE is 0.8694655057243695\n",
      "8 latent factors, 15 iterations and regularization = 0.001: validation RMSE is 1.0929999853959134\n",
      "8 latent factors, 15 iterations and regularization = 0.01: validation RMSE is 0.9872516844354393\n",
      "8 latent factors, 15 iterations and regularization = 0.05: validation RMSE is 0.8791049972751807\n",
      "8 latent factors, 15 iterations and regularization = 0.1: validation RMSE is 0.8503109468116004\n",
      "8 latent factors, 15 iterations and regularization = 0.2: validation RMSE is 0.8716816705579618\n",
      "10 latent factors, 15 iterations and regularization = 0.001: validation RMSE is 1.1231376022716968\n",
      "10 latent factors, 15 iterations and regularization = 0.01: validation RMSE is 1.0104484938252845\n",
      "10 latent factors, 15 iterations and regularization = 0.05: validation RMSE is 0.8839657532676076\n",
      "10 latent factors, 15 iterations and regularization = 0.1: validation RMSE is 0.8496756626386992\n",
      "10 latent factors, 15 iterations and regularization = 0.2: validation RMSE is 0.8713625201460728\n",
      "12 latent factors, 15 iterations and regularization = 0.001: validation RMSE is 1.1674502609245536\n",
      "12 latent factors, 15 iterations and regularization = 0.01: validation RMSE is 1.0364739464658714\n",
      "12 latent factors, 15 iterations and regularization = 0.05: validation RMSE is 0.8884948276741487\n",
      "12 latent factors, 15 iterations and regularization = 0.1: validation RMSE is 0.8499184239259753\n",
      "12 latent factors, 15 iterations and regularization = 0.2: validation RMSE is 0.8711872231208159\n"
     ]
    },
    {
     "name": "stdout",
     "output_type": "stream",
     "text": [
      "14 latent factors, 15 iterations and regularization = 0.001: validation RMSE is 1.1967255530585565\n",
      "14 latent factors, 15 iterations and regularization = 0.01: validation RMSE is 1.0522152608336772\n",
      "14 latent factors, 15 iterations and regularization = 0.05: validation RMSE is 0.8914124928567952\n",
      "14 latent factors, 15 iterations and regularization = 0.1: validation RMSE is 0.8498169879648363\n",
      "14 latent factors, 15 iterations and regularization = 0.2: validation RMSE is 0.8714190725514253\n",
      "16 latent factors, 15 iterations and regularization = 0.001: validation RMSE is 1.2313659620883093\n",
      "16 latent factors, 15 iterations and regularization = 0.01: validation RMSE is 1.0682795212777194\n",
      "16 latent factors, 15 iterations and regularization = 0.05: validation RMSE is 0.8969806464111626\n",
      "16 latent factors, 15 iterations and regularization = 0.1: validation RMSE is 0.8513657974062605\n",
      "16 latent factors, 15 iterations and regularization = 0.2: validation RMSE is 0.8714444324055209\n",
      "18 latent factors, 15 iterations and regularization = 0.001: validation RMSE is 1.2549533290352928\n",
      "18 latent factors, 15 iterations and regularization = 0.01: validation RMSE is 1.083749585620484\n",
      "18 latent factors, 15 iterations and regularization = 0.05: validation RMSE is 0.9003124275349262\n",
      "18 latent factors, 15 iterations and regularization = 0.1: validation RMSE is 0.8524647613360298\n",
      "18 latent factors, 15 iterations and regularization = 0.2: validation RMSE is 0.8717314501921022\n",
      "20 latent factors, 15 iterations and regularization = 0.001: validation RMSE is 1.280119518233305\n",
      "20 latent factors, 15 iterations and regularization = 0.01: validation RMSE is 1.0928701547581283\n",
      "20 latent factors, 15 iterations and regularization = 0.05: validation RMSE is 0.9002512540831895\n",
      "20 latent factors, 15 iterations and regularization = 0.1: validation RMSE is 0.8510715495854642\n",
      "20 latent factors, 15 iterations and regularization = 0.2: validation RMSE is 0.8714230583680392\n",
      "8 latent factors, 20 iterations and regularization = 0.001: validation RMSE is 1.1157639272981585\n",
      "8 latent factors, 20 iterations and regularization = 0.01: validation RMSE is 0.9863878807108679\n",
      "8 latent factors, 20 iterations and regularization = 0.05: validation RMSE is 0.8747722942706798\n",
      "8 latent factors, 20 iterations and regularization = 0.1: validation RMSE is 0.8486195550302413\n",
      "8 latent factors, 20 iterations and regularization = 0.2: validation RMSE is 0.8721162477087824\n",
      "10 latent factors, 20 iterations and regularization = 0.001: validation RMSE is 1.1498307467702726\n",
      "10 latent factors, 20 iterations and regularization = 0.01: validation RMSE is 1.0121976436909395\n",
      "10 latent factors, 20 iterations and regularization = 0.05: validation RMSE is 0.8798114478825502\n",
      "10 latent factors, 20 iterations and regularization = 0.1: validation RMSE is 0.8483177489822764\n",
      "10 latent factors, 20 iterations and regularization = 0.2: validation RMSE is 0.8720052009746228\n",
      "12 latent factors, 20 iterations and regularization = 0.001: validation RMSE is 1.1955482009526481\n",
      "12 latent factors, 20 iterations and regularization = 0.01: validation RMSE is 1.0381484142263435\n",
      "12 latent factors, 20 iterations and regularization = 0.05: validation RMSE is 0.8839520736018891\n",
      "12 latent factors, 20 iterations and regularization = 0.1: validation RMSE is 0.8484779732888454\n",
      "12 latent factors, 20 iterations and regularization = 0.2: validation RMSE is 0.8719710649029855\n",
      "14 latent factors, 20 iterations and regularization = 0.001: validation RMSE is 1.225536440318509\n",
      "14 latent factors, 20 iterations and regularization = 0.01: validation RMSE is 1.05320786354733\n",
      "14 latent factors, 20 iterations and regularization = 0.05: validation RMSE is 0.8856895862590016\n",
      "14 latent factors, 20 iterations and regularization = 0.1: validation RMSE is 0.8481593799931745\n",
      "14 latent factors, 20 iterations and regularization = 0.2: validation RMSE is 0.8720399738112924\n",
      "16 latent factors, 20 iterations and regularization = 0.001: validation RMSE is 1.2574541409567934\n",
      "16 latent factors, 20 iterations and regularization = 0.01: validation RMSE is 1.0702835909123953\n",
      "16 latent factors, 20 iterations and regularization = 0.05: validation RMSE is 0.8897832570518707\n",
      "16 latent factors, 20 iterations and regularization = 0.1: validation RMSE is 0.8488731207788847\n",
      "16 latent factors, 20 iterations and regularization = 0.2: validation RMSE is 0.872058061768827\n",
      "18 latent factors, 20 iterations and regularization = 0.001: validation RMSE is 1.2791840383848743\n",
      "18 latent factors, 20 iterations and regularization = 0.01: validation RMSE is 1.084405995485733\n",
      "18 latent factors, 20 iterations and regularization = 0.05: validation RMSE is 0.8925269177193539\n",
      "18 latent factors, 20 iterations and regularization = 0.1: validation RMSE is 0.8495973398823542\n",
      "18 latent factors, 20 iterations and regularization = 0.2: validation RMSE is 0.8721151083857303\n",
      "20 latent factors, 20 iterations and regularization = 0.001: validation RMSE is 1.3056908869609647\n",
      "20 latent factors, 20 iterations and regularization = 0.01: validation RMSE is 1.0933570274513387\n",
      "20 latent factors, 20 iterations and regularization = 0.05: validation RMSE is 0.8923672098871738\n",
      "20 latent factors, 20 iterations and regularization = 0.1: validation RMSE is 0.8487349964131898\n",
      "20 latent factors, 20 iterations and regularization = 0.2: validation RMSE is 0.8720189893076983\n",
      "\n",
      "The best model has 14 latent factors,20 iterations and regularization = 0.1\n",
      "Total Runtime: 15790.24 seconds\n"
     ]
    }
   ],
   "source": [
    "# hyper-param config\n",
    "num_iterations = [5,10,15,20]\n",
    "ranks = [8, 10, 12, 14, 16, 18, 20]\n",
    "reg_params = [0.001, 0.01, 0.05, 0.1, 0.2]\n",
    "\n",
    "# grid search and select best model\n",
    "start_time = time.time()\n",
    "final_model = train_ALS(train, validation, num_iterations, reg_params, ranks)\n",
    "\n",
    "print ('Total Runtime: {:.2f} seconds'.format(time.time() - start_time))"
   ]
  },
  {
   "cell_type": "code",
   "execution_count": 38,
   "metadata": {},
   "outputs": [],
   "source": [
    "def plot_learning_curve(arr_iters, train_data, validation_data, reg, rank):\n",
    "    \"\"\"\n",
    "    Plot function to show learning curve of ALS\n",
    "    \"\"\"\n",
    "    errors = []\n",
    "    for num_iters in arr_iters:\n",
    "        # train ALS model\n",
    "        model = ALS.train(\n",
    "            ratings=train_data,    # (userID, productID, rating) tuple\n",
    "            iterations=num_iters,\n",
    "            rank=rank,\n",
    "            lambda_=reg,           # regularization param\n",
    "            seed=99)\n",
    "        # make prediction\n",
    "        valid_data = validation_data.map(lambda p: (p[0], p[1]))\n",
    "        predictions = model.predictAll(valid_data).map(lambda r: ((r[0], r[1]), r[2]))\n",
    "        # get the rating result\n",
    "        ratesAndPreds = validation_data.map(lambda r: ((r[0], r[1]), r[2])).join(predictions)\n",
    "        # get the RMSE\n",
    "        MSE = ratesAndPreds.map(lambda r: (r[1][0] - r[1][1])**2).mean()\n",
    "        error = math.sqrt(MSE)\n",
    "        # add to errors\n",
    "        errors.append(error)\n",
    "\n",
    "    # plot\n",
    "    plt.figure(figsize=(12, 6))\n",
    "    plt.plot(arr_iters, errors)\n",
    "    plt.xlabel('number of iterations')\n",
    "    plt.ylabel('RMSE')\n",
    "    plt.title('ALS Learning Curve')\n",
    "    plt.grid(True)\n",
    "    plt.show()\n"
   ]
  },
  {
   "cell_type": "code",
   "execution_count": 39,
   "metadata": {},
   "outputs": [
    {
     "data": {
      "image/png": "[encoded data removed]",
      "text/plain": [
       "<Figure size 864x432 with 1 Axes>"
      ]
     },
     "metadata": {
      "needs_background": "light"
     },
     "output_type": "display_data"
    }
   ],
   "source": [
    "# create an array of num_iters\n",
    "iter_array = list(range(1, 11))\n",
    "# create learning curve plot\n",
    "plot_learning_curve(iter_array, train, validation, 0.05, 20)"
   ]
  },
  {
   "cell_type": "code",
   "execution_count": 40,
   "metadata": {},
   "outputs": [
    {
     "name": "stdout",
     "output_type": "stream",
     "text": [
      "The out-of-sample RMSE of rating predictions is 0.8492\n"
     ]
    }
   ],
   "source": [
    "# make prediction using test data\n",
    "test_data = test.map(lambda p: (p[0], p[1]))\n",
    "predictions = final_model.predictAll(test_data).map(lambda r: ((r[0], r[1]), r[2]))\n",
    "# get the rating result\n",
    "ratesAndPreds = test.map(lambda r: ((r[0], r[1]), r[2])).join(predictions)\n",
    "# get the RMSE\n",
    "MSE = ratesAndPreds.map(lambda r: (r[1][0] - r[1][1])**2).mean()\n",
    "error = math.sqrt(MSE)\n",
    "print('The out-of-sample RMSE of rating predictions is', round(error, 4))"
   ]
  },
  {
   "cell_type": "code",
   "execution_count": 57,
   "metadata": {},
   "outputs": [],
   "source": [
    "def recommend_to_user_top_n(u,n):\n",
    "    for i in final_model.recommendProducts(u,n):\n",
    "        movie_name=df_movies.loc[df_movies['movieId']==i[1],'title'].iloc[0]\n",
    "        print(movie_name)"
   ]
  },
  {
   "cell_type": "code",
   "execution_count": 58,
   "metadata": {},
   "outputs": [
    {
     "name": "stdout",
     "output_type": "stream",
     "text": [
      "Batman & Mr. Freeze: Subzero (1998)\n",
      "Brother Minister: The Assassination of Malcolm X (1994)\n",
      "Long Night's Journey Into Day (2000)\n",
      "Dishonored (1931)\n",
      "Little Women (1949)\n",
      "Cat Came Back, The (1988)\n",
      "Dylan Moran: Yeah, Yeah (2011)\n",
      "Geri's Game (1997)\n",
      "Mulan (2009)\n",
      "For the Birds (2000)\n"
     ]
    }
   ],
   "source": [
    "recommend_to_user_top_n(196,10)\n"
   ]
  },
  {
   "cell_type": "code",
   "execution_count": null,
   "metadata": {},
   "outputs": [],
   "source": []
  }
 ],
 "metadata": {
  "kernelspec": {
   "display_name": "Python 3",
   "language": "python",
   "name": "python3"
  },
  "language_info": {
   "codemirror_mode": {
    "name": "ipython",
    "version": 3
   },
   "file_extension": ".py",
   "mimetype": "text/x-python",
   "name": "python",
   "nbconvert_exporter": "python",
   "pygments_lexer": "ipython3",
   "version": "3.7.3"
  }
 },
 "nbformat": 4,
 "nbformat_minor": 2
}
