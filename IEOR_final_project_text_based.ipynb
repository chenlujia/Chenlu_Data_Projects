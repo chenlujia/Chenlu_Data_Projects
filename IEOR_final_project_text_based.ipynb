{
 "cells": [
  {
   "cell_type": "markdown",
   "metadata": {},
   "source": [
    "# Rating Prediction using review text"
   ]
  },
  {
   "cell_type": "code",
   "execution_count": 1,
   "metadata": {},
   "outputs": [
    {
     "name": "stderr",
     "output_type": "stream",
     "text": [
      "100%|██████████| 6685900/6685900 [00:44<00:00, 149571.84it/s]\n"
     ]
    }
   ],
   "source": [
    "import pandas as pd\n",
    "import json\n",
    "from tqdm import tqdm\n",
    "line_count = len(open(\"yelp_dataset/review.json\").readlines())\n",
    "user_ids, business_ids, stars, dates,reviews = [], [], [], [],[]\n",
    "with open(\"yelp_dataset/review.json\") as f:\n",
    "    for line in tqdm(f, total=line_count):\n",
    "        blob = json.loads(line)\n",
    "        user_ids += [blob[\"user_id\"]]\n",
    "        business_ids += [blob[\"business_id\"]] \n",
    "        stars += [blob[\"stars\"]]\n",
    "        dates += [blob[\"date\"]]\n",
    "        reviews +=[blob[\"text\"]]\n",
    "ratings=pd.DataFrame({\"user_id\": user_ids, \"business_id\": business_ids, \"rating\": stars, \"date\": dates,\"reviews\":reviews})\n",
    "user_counts = ratings[\"user_id\"].value_counts()\n",
    "active_users = user_counts.loc[user_counts >= 5].index.tolist()"
   ]
  },
  {
   "cell_type": "markdown",
   "metadata": {},
   "source": [
    "First we will divide the whole dataset into two parts, one is the latest rating for active users, the other is the remaining data."
   ]
  },
  {
   "cell_type": "code",
   "execution_count": 2,
   "metadata": {},
   "outputs": [],
   "source": [
    "sorted_ratings=ratings.set_index(['user_id','date']).sort_index(ascending=False)\n",
    "latest_ratings=sorted_ratings.groupby('user_id').head(1).reset_index()\n",
    "latest_ratings=latest_ratings[latest_ratings['user_id'].isin(active_users)]"
   ]
  },
  {
   "cell_type": "code",
   "execution_count": 3,
   "metadata": {},
   "outputs": [
    {
     "name": "stderr",
     "output_type": "stream",
     "text": [
      "/Users/jasmine1231/anaconda3/lib/python3.6/site-packages/ipykernel_launcher.py:1: FutureWarning: Sorting because non-concatenation axis is not aligned. A future version\n",
      "of pandas will change to not sort by default.\n",
      "\n",
      "To accept the future behavior, pass 'sort=False'.\n",
      "\n",
      "To retain the current behavior and silence the warning, pass 'sort=True'.\n",
      "\n",
      "  \"\"\"Entry point for launching an IPython kernel.\n"
     ]
    }
   ],
   "source": [
    "remaining_ratings=pd.concat([ratings, latest_ratings]).drop_duplicates(keep=False)"
   ]
  },
  {
   "cell_type": "code",
   "execution_count": 4,
   "metadata": {},
   "outputs": [
    {
     "data": {
      "text/html": [
       "<div>\n",
       "<style scoped>\n",
       "    .dataframe tbody tr th:only-of-type {\n",
       "        vertical-align: middle;\n",
       "    }\n",
       "\n",
       "    .dataframe tbody tr th {\n",
       "        vertical-align: top;\n",
       "    }\n",
       "\n",
       "    .dataframe thead th {\n",
       "        text-align: right;\n",
       "    }\n",
       "</style>\n",
       "<table border=\"1\" class=\"dataframe\">\n",
       "  <thead>\n",
       "    <tr style=\"text-align: right;\">\n",
       "      <th></th>\n",
       "      <th>user_id</th>\n",
       "      <th>date</th>\n",
       "      <th>business_id</th>\n",
       "      <th>rating</th>\n",
       "      <th>reviews</th>\n",
       "    </tr>\n",
       "  </thead>\n",
       "  <tbody>\n",
       "    <tr>\n",
       "      <th>19</th>\n",
       "      <td>zzxZoMmjbUjXcWZzrE3PIw</td>\n",
       "      <td>2017-09-29 23:14:29</td>\n",
       "      <td>g6l78EOVGYzMmnTSGj8TcA</td>\n",
       "      <td>1.0</td>\n",
       "      <td>Stopped in after shopping in The District.  We...</td>\n",
       "    </tr>\n",
       "    <tr>\n",
       "      <th>25</th>\n",
       "      <td>zzw0Z6-_VDp9ShIRSKIsQw</td>\n",
       "      <td>2018-07-22 16:42:02</td>\n",
       "      <td>1hfYBwAI7pFz50l5n4JpqQ</td>\n",
       "      <td>5.0</td>\n",
       "      <td>Went in for lunch and had the caprese panini. ...</td>\n",
       "    </tr>\n",
       "    <tr>\n",
       "      <th>30</th>\n",
       "      <td>zzvV3l9IqTRX7Db8nxThbA</td>\n",
       "      <td>2018-03-10 03:41:30</td>\n",
       "      <td>LucXqItGj0JZD6EgySOakg</td>\n",
       "      <td>5.0</td>\n",
       "      <td>Great experience with Al and Blind Wholesaler....</td>\n",
       "    </tr>\n",
       "    <tr>\n",
       "      <th>41</th>\n",
       "      <td>zzsmdXHUFBYuKUtPbXWjRA</td>\n",
       "      <td>2018-06-03 22:16:42</td>\n",
       "      <td>P6zYuNINXKKm5AZ8P5exmQ</td>\n",
       "      <td>1.0</td>\n",
       "      <td>Was not given receipts or food till asked cash...</td>\n",
       "    </tr>\n",
       "    <tr>\n",
       "      <th>47</th>\n",
       "      <td>zzrZ8gFESj5pe-SFZ-h0lw</td>\n",
       "      <td>2018-08-02 21:26:39</td>\n",
       "      <td>P2uNvUI1RCX8RGKFzj4ceA</td>\n",
       "      <td>5.0</td>\n",
       "      <td>Patricia Brown at Builders Design Group was an...</td>\n",
       "    </tr>\n",
       "    <tr>\n",
       "      <th>...</th>\n",
       "      <td>...</td>\n",
       "      <td>...</td>\n",
       "      <td>...</td>\n",
       "      <td>...</td>\n",
       "      <td>...</td>\n",
       "    </tr>\n",
       "    <tr>\n",
       "      <th>1637109</th>\n",
       "      <td>--3WaS23LcIXtxyFULJHTA</td>\n",
       "      <td>2018-09-03 19:32:11</td>\n",
       "      <td>UKrfUw8quQiQM2N9i1nH0g</td>\n",
       "      <td>4.0</td>\n",
       "      <td>Toucan play at this game!  Great family activi...</td>\n",
       "    </tr>\n",
       "    <tr>\n",
       "      <th>1637112</th>\n",
       "      <td>--2vR0DIsmQ6WfcSzKWigw</td>\n",
       "      <td>2018-01-11 04:24:17</td>\n",
       "      <td>BLIJ-p5wYuAhw6Pp6mh6mw</td>\n",
       "      <td>3.0</td>\n",
       "      <td>Bei unserem morgendlichen Spaziergang über den...</td>\n",
       "    </tr>\n",
       "    <tr>\n",
       "      <th>1637116</th>\n",
       "      <td>--2HUmLkcNHZp0xw6AMBPg</td>\n",
       "      <td>2018-10-04 02:02:28</td>\n",
       "      <td>KW9RNyBPmc77f9FsO92qYw</td>\n",
       "      <td>5.0</td>\n",
       "      <td>This is a beautiful gym.  Lots of equipment op...</td>\n",
       "    </tr>\n",
       "    <tr>\n",
       "      <th>1637126</th>\n",
       "      <td>--0kuuLmuYBe3Rmu0Iycww</td>\n",
       "      <td>2014-04-21 16:58:28</td>\n",
       "      <td>PYe_FDw6QTbTf66WcGE_tw</td>\n",
       "      <td>2.0</td>\n",
       "      <td>I'd like to keep it short and sweet today....\\...</td>\n",
       "    </tr>\n",
       "    <tr>\n",
       "      <th>1637137</th>\n",
       "      <td>---1lKK3aKOuomHnwAkAow</td>\n",
       "      <td>2018-10-11 23:29:57</td>\n",
       "      <td>Hqs4YNST_ZHbshwyi4bnsQ</td>\n",
       "      <td>5.0</td>\n",
       "      <td>The customer service of the owner made me give...</td>\n",
       "    </tr>\n",
       "  </tbody>\n",
       "</table>\n",
       "<p>286130 rows × 5 columns</p>\n",
       "</div>"
      ],
      "text/plain": [
       "                        user_id                 date             business_id  \\\n",
       "19       zzxZoMmjbUjXcWZzrE3PIw  2017-09-29 23:14:29  g6l78EOVGYzMmnTSGj8TcA   \n",
       "25       zzw0Z6-_VDp9ShIRSKIsQw  2018-07-22 16:42:02  1hfYBwAI7pFz50l5n4JpqQ   \n",
       "30       zzvV3l9IqTRX7Db8nxThbA  2018-03-10 03:41:30  LucXqItGj0JZD6EgySOakg   \n",
       "41       zzsmdXHUFBYuKUtPbXWjRA  2018-06-03 22:16:42  P6zYuNINXKKm5AZ8P5exmQ   \n",
       "47       zzrZ8gFESj5pe-SFZ-h0lw  2018-08-02 21:26:39  P2uNvUI1RCX8RGKFzj4ceA   \n",
       "...                         ...                  ...                     ...   \n",
       "1637109  --3WaS23LcIXtxyFULJHTA  2018-09-03 19:32:11  UKrfUw8quQiQM2N9i1nH0g   \n",
       "1637112  --2vR0DIsmQ6WfcSzKWigw  2018-01-11 04:24:17  BLIJ-p5wYuAhw6Pp6mh6mw   \n",
       "1637116  --2HUmLkcNHZp0xw6AMBPg  2018-10-04 02:02:28  KW9RNyBPmc77f9FsO92qYw   \n",
       "1637126  --0kuuLmuYBe3Rmu0Iycww  2014-04-21 16:58:28  PYe_FDw6QTbTf66WcGE_tw   \n",
       "1637137  ---1lKK3aKOuomHnwAkAow  2018-10-11 23:29:57  Hqs4YNST_ZHbshwyi4bnsQ   \n",
       "\n",
       "         rating                                            reviews  \n",
       "19          1.0  Stopped in after shopping in The District.  We...  \n",
       "25          5.0  Went in for lunch and had the caprese panini. ...  \n",
       "30          5.0  Great experience with Al and Blind Wholesaler....  \n",
       "41          1.0  Was not given receipts or food till asked cash...  \n",
       "47          5.0  Patricia Brown at Builders Design Group was an...  \n",
       "...         ...                                                ...  \n",
       "1637109     4.0  Toucan play at this game!  Great family activi...  \n",
       "1637112     3.0  Bei unserem morgendlichen Spaziergang über den...  \n",
       "1637116     5.0  This is a beautiful gym.  Lots of equipment op...  \n",
       "1637126     2.0  I'd like to keep it short and sweet today....\\...  \n",
       "1637137     5.0  The customer service of the owner made me give...  \n",
       "\n",
       "[286130 rows x 5 columns]"
      ]
     },
     "execution_count": 4,
     "metadata": {},
     "output_type": "execute_result"
    }
   ],
   "source": [
    "latest_ratings"
   ]
  },
  {
   "cell_type": "code",
   "execution_count": 5,
   "metadata": {},
   "outputs": [
    {
     "data": {
      "text/html": [
       "<div>\n",
       "<style scoped>\n",
       "    .dataframe tbody tr th:only-of-type {\n",
       "        vertical-align: middle;\n",
       "    }\n",
       "\n",
       "    .dataframe tbody tr th {\n",
       "        vertical-align: top;\n",
       "    }\n",
       "\n",
       "    .dataframe thead th {\n",
       "        text-align: right;\n",
       "    }\n",
       "</style>\n",
       "<table border=\"1\" class=\"dataframe\">\n",
       "  <thead>\n",
       "    <tr style=\"text-align: right;\">\n",
       "      <th></th>\n",
       "      <th>user_id</th>\n",
       "      <th>business_id</th>\n",
       "      <th>rating</th>\n",
       "      <th>date</th>\n",
       "      <th>reviews</th>\n",
       "    </tr>\n",
       "  </thead>\n",
       "  <tbody>\n",
       "    <tr>\n",
       "      <th>0</th>\n",
       "      <td>hG7b0MtEbXx5QzbzE6C_VA</td>\n",
       "      <td>ujmEBvifdJM6h6RLv4wQIg</td>\n",
       "      <td>1.0</td>\n",
       "      <td>2013-05-07 04:34:36</td>\n",
       "      <td>Total bill for this horrible service? Over $8G...</td>\n",
       "    </tr>\n",
       "    <tr>\n",
       "      <th>1</th>\n",
       "      <td>yXQM5uF2jS6es16SJzNHfg</td>\n",
       "      <td>NZnhc2sEQy3RmzKTZnqtwQ</td>\n",
       "      <td>5.0</td>\n",
       "      <td>2017-01-14 21:30:33</td>\n",
       "      <td>I *adore* Travis at the Hard Rock's new Kelly ...</td>\n",
       "    </tr>\n",
       "    <tr>\n",
       "      <th>2</th>\n",
       "      <td>n6-Gk65cPZL6Uz8qRm3NYw</td>\n",
       "      <td>WTqjgwHlXbSFevF32_DJVw</td>\n",
       "      <td>5.0</td>\n",
       "      <td>2016-11-09 20:09:03</td>\n",
       "      <td>I have to say that this office really has it t...</td>\n",
       "    </tr>\n",
       "    <tr>\n",
       "      <th>3</th>\n",
       "      <td>dacAIZ6fTM6mqwW5uxkskg</td>\n",
       "      <td>ikCg8xy5JIg_NGPx-MSIDA</td>\n",
       "      <td>5.0</td>\n",
       "      <td>2018-01-09 20:56:38</td>\n",
       "      <td>Went in for a lunch. Steak sandwich was delici...</td>\n",
       "    </tr>\n",
       "    <tr>\n",
       "      <th>4</th>\n",
       "      <td>ssoyf2_x0EQMed6fgHeMyQ</td>\n",
       "      <td>b1b1eb3uo-w561D0ZfCEiQ</td>\n",
       "      <td>1.0</td>\n",
       "      <td>2018-01-30 23:07:38</td>\n",
       "      <td>Today was my second out of three sessions I ha...</td>\n",
       "    </tr>\n",
       "    <tr>\n",
       "      <th>...</th>\n",
       "      <td>...</td>\n",
       "      <td>...</td>\n",
       "      <td>...</td>\n",
       "      <td>...</td>\n",
       "      <td>...</td>\n",
       "    </tr>\n",
       "    <tr>\n",
       "      <th>6685895</th>\n",
       "      <td>Xu_YazIajfsc7SRj1wJ6Mg</td>\n",
       "      <td>RXBFk3tVBxiTf3uOt9KExQ</td>\n",
       "      <td>5.0</td>\n",
       "      <td>2018-07-03 12:17:27</td>\n",
       "      <td>I have been coming here for years and this pla...</td>\n",
       "    </tr>\n",
       "    <tr>\n",
       "      <th>6685896</th>\n",
       "      <td>V6BjjQICDO4q7TT3ZhaPWw</td>\n",
       "      <td>yA6dKNm_zl1ucZCnwW8ZCg</td>\n",
       "      <td>1.0</td>\n",
       "      <td>2013-05-22 15:32:08</td>\n",
       "      <td>I think this owner and the owner of Amy's Baki...</td>\n",
       "    </tr>\n",
       "    <tr>\n",
       "      <th>6685897</th>\n",
       "      <td>PFiIECX8wuvi7P-1mCvIjA</td>\n",
       "      <td>a192hdM0_UVCYLwPJv1Qwg</td>\n",
       "      <td>5.0</td>\n",
       "      <td>2018-11-13 21:15:20</td>\n",
       "      <td>Off the grid Mexican in Vegas. Very tasty, qua...</td>\n",
       "    </tr>\n",
       "    <tr>\n",
       "      <th>6685898</th>\n",
       "      <td>wu5R5_N7q5iqCBh6NBX26Q</td>\n",
       "      <td>kOo4ZY2UQAX4j312mzQ8mA</td>\n",
       "      <td>5.0</td>\n",
       "      <td>2018-08-13 18:09:16</td>\n",
       "      <td>We hired Taco Naco to cater our family party a...</td>\n",
       "    </tr>\n",
       "    <tr>\n",
       "      <th>6685899</th>\n",
       "      <td>Ej3mCvjcwVXCSPB_avIfjQ</td>\n",
       "      <td>PkqN5st3zZ_Xce_5QlBtNQ</td>\n",
       "      <td>3.0</td>\n",
       "      <td>2018-11-12 20:25:32</td>\n",
       "      <td>Having just come back from Hawaii a few months...</td>\n",
       "    </tr>\n",
       "  </tbody>\n",
       "</table>\n",
       "<p>6685900 rows × 5 columns</p>\n",
       "</div>"
      ],
      "text/plain": [
       "                        user_id             business_id  rating  \\\n",
       "0        hG7b0MtEbXx5QzbzE6C_VA  ujmEBvifdJM6h6RLv4wQIg     1.0   \n",
       "1        yXQM5uF2jS6es16SJzNHfg  NZnhc2sEQy3RmzKTZnqtwQ     5.0   \n",
       "2        n6-Gk65cPZL6Uz8qRm3NYw  WTqjgwHlXbSFevF32_DJVw     5.0   \n",
       "3        dacAIZ6fTM6mqwW5uxkskg  ikCg8xy5JIg_NGPx-MSIDA     5.0   \n",
       "4        ssoyf2_x0EQMed6fgHeMyQ  b1b1eb3uo-w561D0ZfCEiQ     1.0   \n",
       "...                         ...                     ...     ...   \n",
       "6685895  Xu_YazIajfsc7SRj1wJ6Mg  RXBFk3tVBxiTf3uOt9KExQ     5.0   \n",
       "6685896  V6BjjQICDO4q7TT3ZhaPWw  yA6dKNm_zl1ucZCnwW8ZCg     1.0   \n",
       "6685897  PFiIECX8wuvi7P-1mCvIjA  a192hdM0_UVCYLwPJv1Qwg     5.0   \n",
       "6685898  wu5R5_N7q5iqCBh6NBX26Q  kOo4ZY2UQAX4j312mzQ8mA     5.0   \n",
       "6685899  Ej3mCvjcwVXCSPB_avIfjQ  PkqN5st3zZ_Xce_5QlBtNQ     3.0   \n",
       "\n",
       "                        date  \\\n",
       "0        2013-05-07 04:34:36   \n",
       "1        2017-01-14 21:30:33   \n",
       "2        2016-11-09 20:09:03   \n",
       "3        2018-01-09 20:56:38   \n",
       "4        2018-01-30 23:07:38   \n",
       "...                      ...   \n",
       "6685895  2018-07-03 12:17:27   \n",
       "6685896  2013-05-22 15:32:08   \n",
       "6685897  2018-11-13 21:15:20   \n",
       "6685898  2018-08-13 18:09:16   \n",
       "6685899  2018-11-12 20:25:32   \n",
       "\n",
       "                                                   reviews  \n",
       "0        Total bill for this horrible service? Over $8G...  \n",
       "1        I *adore* Travis at the Hard Rock's new Kelly ...  \n",
       "2        I have to say that this office really has it t...  \n",
       "3        Went in for a lunch. Steak sandwich was delici...  \n",
       "4        Today was my second out of three sessions I ha...  \n",
       "...                                                    ...  \n",
       "6685895  I have been coming here for years and this pla...  \n",
       "6685896  I think this owner and the owner of Amy's Baki...  \n",
       "6685897  Off the grid Mexican in Vegas. Very tasty, qua...  \n",
       "6685898  We hired Taco Naco to cater our family party a...  \n",
       "6685899  Having just come back from Hawaii a few months...  \n",
       "\n",
       "[6685900 rows x 5 columns]"
      ]
     },
     "execution_count": 5,
     "metadata": {},
     "output_type": "execute_result"
    }
   ],
   "source": [
    "ratings"
   ]
  },
  {
   "cell_type": "code",
   "execution_count": 6,
   "metadata": {},
   "outputs": [
    {
     "name": "stderr",
     "output_type": "stream",
     "text": [
      "/Users/jasmine1231/anaconda3/lib/python3.6/site-packages/ipykernel_launcher.py:1: FutureWarning: Sorting because non-concatenation axis is not aligned. A future version\n",
      "of pandas will change to not sort by default.\n",
      "\n",
      "To accept the future behavior, pass 'sort=False'.\n",
      "\n",
      "To retain the current behavior and silence the warning, pass 'sort=True'.\n",
      "\n",
      "  \"\"\"Entry point for launching an IPython kernel.\n"
     ]
    }
   ],
   "source": [
    "new_ratings=pd.concat([latest_ratings, remaining_ratings])"
   ]
  },
  {
   "cell_type": "code",
   "execution_count": 7,
   "metadata": {},
   "outputs": [
    {
     "data": {
      "text/html": [
       "<div>\n",
       "<style scoped>\n",
       "    .dataframe tbody tr th:only-of-type {\n",
       "        vertical-align: middle;\n",
       "    }\n",
       "\n",
       "    .dataframe tbody tr th {\n",
       "        vertical-align: top;\n",
       "    }\n",
       "\n",
       "    .dataframe thead th {\n",
       "        text-align: right;\n",
       "    }\n",
       "</style>\n",
       "<table border=\"1\" class=\"dataframe\">\n",
       "  <thead>\n",
       "    <tr style=\"text-align: right;\">\n",
       "      <th></th>\n",
       "      <th>business_id</th>\n",
       "      <th>date</th>\n",
       "      <th>rating</th>\n",
       "      <th>reviews</th>\n",
       "      <th>user_id</th>\n",
       "    </tr>\n",
       "  </thead>\n",
       "  <tbody>\n",
       "    <tr>\n",
       "      <th>0</th>\n",
       "      <td>ujmEBvifdJM6h6RLv4wQIg</td>\n",
       "      <td>2013-05-07 04:34:36</td>\n",
       "      <td>1.0</td>\n",
       "      <td>Total bill for this horrible service? Over $8G...</td>\n",
       "      <td>hG7b0MtEbXx5QzbzE6C_VA</td>\n",
       "    </tr>\n",
       "    <tr>\n",
       "      <th>1</th>\n",
       "      <td>NZnhc2sEQy3RmzKTZnqtwQ</td>\n",
       "      <td>2017-01-14 21:30:33</td>\n",
       "      <td>5.0</td>\n",
       "      <td>I *adore* Travis at the Hard Rock's new Kelly ...</td>\n",
       "      <td>yXQM5uF2jS6es16SJzNHfg</td>\n",
       "    </tr>\n",
       "    <tr>\n",
       "      <th>2</th>\n",
       "      <td>WTqjgwHlXbSFevF32_DJVw</td>\n",
       "      <td>2016-11-09 20:09:03</td>\n",
       "      <td>5.0</td>\n",
       "      <td>I have to say that this office really has it t...</td>\n",
       "      <td>n6-Gk65cPZL6Uz8qRm3NYw</td>\n",
       "    </tr>\n",
       "    <tr>\n",
       "      <th>3</th>\n",
       "      <td>ikCg8xy5JIg_NGPx-MSIDA</td>\n",
       "      <td>2018-01-09 20:56:38</td>\n",
       "      <td>5.0</td>\n",
       "      <td>Went in for a lunch. Steak sandwich was delici...</td>\n",
       "      <td>dacAIZ6fTM6mqwW5uxkskg</td>\n",
       "    </tr>\n",
       "    <tr>\n",
       "      <th>4</th>\n",
       "      <td>b1b1eb3uo-w561D0ZfCEiQ</td>\n",
       "      <td>2018-01-30 23:07:38</td>\n",
       "      <td>1.0</td>\n",
       "      <td>Today was my second out of three sessions I ha...</td>\n",
       "      <td>ssoyf2_x0EQMed6fgHeMyQ</td>\n",
       "    </tr>\n",
       "    <tr>\n",
       "      <th>...</th>\n",
       "      <td>...</td>\n",
       "      <td>...</td>\n",
       "      <td>...</td>\n",
       "      <td>...</td>\n",
       "      <td>...</td>\n",
       "    </tr>\n",
       "    <tr>\n",
       "      <th>6685893</th>\n",
       "      <td>t1P_vLIyJCIoEaUVcwHdTw</td>\n",
       "      <td>2013-09-21 18:14:30</td>\n",
       "      <td>1.0</td>\n",
       "      <td>We've been here b4 with no major problems but ...</td>\n",
       "      <td>Ob6ToKjLna3WOZtrI_m0nw</td>\n",
       "    </tr>\n",
       "    <tr>\n",
       "      <th>6685895</th>\n",
       "      <td>RXBFk3tVBxiTf3uOt9KExQ</td>\n",
       "      <td>2018-07-03 12:17:27</td>\n",
       "      <td>5.0</td>\n",
       "      <td>I have been coming here for years and this pla...</td>\n",
       "      <td>Xu_YazIajfsc7SRj1wJ6Mg</td>\n",
       "    </tr>\n",
       "    <tr>\n",
       "      <th>6685896</th>\n",
       "      <td>yA6dKNm_zl1ucZCnwW8ZCg</td>\n",
       "      <td>2013-05-22 15:32:08</td>\n",
       "      <td>1.0</td>\n",
       "      <td>I think this owner and the owner of Amy's Baki...</td>\n",
       "      <td>V6BjjQICDO4q7TT3ZhaPWw</td>\n",
       "    </tr>\n",
       "    <tr>\n",
       "      <th>6685897</th>\n",
       "      <td>a192hdM0_UVCYLwPJv1Qwg</td>\n",
       "      <td>2018-11-13 21:15:20</td>\n",
       "      <td>5.0</td>\n",
       "      <td>Off the grid Mexican in Vegas. Very tasty, qua...</td>\n",
       "      <td>PFiIECX8wuvi7P-1mCvIjA</td>\n",
       "    </tr>\n",
       "    <tr>\n",
       "      <th>6685898</th>\n",
       "      <td>kOo4ZY2UQAX4j312mzQ8mA</td>\n",
       "      <td>2018-08-13 18:09:16</td>\n",
       "      <td>5.0</td>\n",
       "      <td>We hired Taco Naco to cater our family party a...</td>\n",
       "      <td>wu5R5_N7q5iqCBh6NBX26Q</td>\n",
       "    </tr>\n",
       "  </tbody>\n",
       "</table>\n",
       "<p>6399764 rows × 5 columns</p>\n",
       "</div>"
      ],
      "text/plain": [
       "                    business_id                 date  rating  \\\n",
       "0        ujmEBvifdJM6h6RLv4wQIg  2013-05-07 04:34:36     1.0   \n",
       "1        NZnhc2sEQy3RmzKTZnqtwQ  2017-01-14 21:30:33     5.0   \n",
       "2        WTqjgwHlXbSFevF32_DJVw  2016-11-09 20:09:03     5.0   \n",
       "3        ikCg8xy5JIg_NGPx-MSIDA  2018-01-09 20:56:38     5.0   \n",
       "4        b1b1eb3uo-w561D0ZfCEiQ  2018-01-30 23:07:38     1.0   \n",
       "...                         ...                  ...     ...   \n",
       "6685893  t1P_vLIyJCIoEaUVcwHdTw  2013-09-21 18:14:30     1.0   \n",
       "6685895  RXBFk3tVBxiTf3uOt9KExQ  2018-07-03 12:17:27     5.0   \n",
       "6685896  yA6dKNm_zl1ucZCnwW8ZCg  2013-05-22 15:32:08     1.0   \n",
       "6685897  a192hdM0_UVCYLwPJv1Qwg  2018-11-13 21:15:20     5.0   \n",
       "6685898  kOo4ZY2UQAX4j312mzQ8mA  2018-08-13 18:09:16     5.0   \n",
       "\n",
       "                                                   reviews  \\\n",
       "0        Total bill for this horrible service? Over $8G...   \n",
       "1        I *adore* Travis at the Hard Rock's new Kelly ...   \n",
       "2        I have to say that this office really has it t...   \n",
       "3        Went in for a lunch. Steak sandwich was delici...   \n",
       "4        Today was my second out of three sessions I ha...   \n",
       "...                                                    ...   \n",
       "6685893  We've been here b4 with no major problems but ...   \n",
       "6685895  I have been coming here for years and this pla...   \n",
       "6685896  I think this owner and the owner of Amy's Baki...   \n",
       "6685897  Off the grid Mexican in Vegas. Very tasty, qua...   \n",
       "6685898  We hired Taco Naco to cater our family party a...   \n",
       "\n",
       "                        user_id  \n",
       "0        hG7b0MtEbXx5QzbzE6C_VA  \n",
       "1        yXQM5uF2jS6es16SJzNHfg  \n",
       "2        n6-Gk65cPZL6Uz8qRm3NYw  \n",
       "3        dacAIZ6fTM6mqwW5uxkskg  \n",
       "4        ssoyf2_x0EQMed6fgHeMyQ  \n",
       "...                         ...  \n",
       "6685893  Ob6ToKjLna3WOZtrI_m0nw  \n",
       "6685895  Xu_YazIajfsc7SRj1wJ6Mg  \n",
       "6685896  V6BjjQICDO4q7TT3ZhaPWw  \n",
       "6685897  PFiIECX8wuvi7P-1mCvIjA  \n",
       "6685898  wu5R5_N7q5iqCBh6NBX26Q  \n",
       "\n",
       "[6399764 rows x 5 columns]"
      ]
     },
     "execution_count": 7,
     "metadata": {},
     "output_type": "execute_result"
    }
   ],
   "source": [
    "remaining_ratings"
   ]
  },
  {
   "cell_type": "markdown",
   "metadata": {},
   "source": [
    "Use all the review data from the original dataset to turn all of our reviews into vectors. (n grams choosing: explanation from web)"
   ]
  },
  {
   "cell_type": "code",
   "execution_count": 8,
   "metadata": {},
   "outputs": [
    {
     "name": "stdout",
     "output_type": "stream",
     "text": [
      "0:34:03.854349\n"
     ]
    }
   ],
   "source": [
    "from sklearn.feature_extraction.text import TfidfVectorizer\n",
    "from datetime import datetime\n",
    "\n",
    "# This vectorizer breaks text into single words and bi-grams\n",
    "# and then calculates the TF-IDF representation\n",
    "vectorizer = TfidfVectorizer(ngram_range=(1,2))\n",
    "t1 = datetime.now()\n",
    "\n",
    "# the 'fit' builds up the vocabulary from all the reviews\n",
    "# while the 'transform' step turns each indivdual text into\n",
    "# a matrix of numbers.\n",
    "vectors = vectorizer.fit_transform(new_ratings.reviews)\n",
    "print(datetime.now() - t1)"
   ]
  },
  {
   "cell_type": "code",
   "execution_count": 9,
   "metadata": {},
   "outputs": [
    {
     "name": "stdout",
     "output_type": "stream",
     "text": [
      "(286130, 26536440)\n",
      "286130\n",
      "(6399764, 26536440)\n",
      "6399764\n"
     ]
    }
   ],
   "source": [
    "X_train=vectors[:286130,:]\n",
    "y_train=latest_ratings.rating\n",
    "X_test=vectors[286130:,:]\n",
    "y_test=remaining_ratings.rating\n",
    "print(X_train.shape)\n",
    "print(len(y_train))\n",
    "print(X_test.shape)\n",
    "print(len(y_test))"
   ]
  },
  {
   "cell_type": "code",
   "execution_count": 10,
   "metadata": {},
   "outputs": [
    {
     "name": "stdout",
     "output_type": "stream",
     "text": [
      "0:01:14.032251\n"
     ]
    }
   ],
   "source": [
    "from sklearn.svm import LinearSVC\n",
    "\n",
    "# initialise the SVM classifier\n",
    "classifier = LinearSVC()\n",
    "\n",
    "# train the classifier\n",
    "t1 = datetime.now()\n",
    "classifier.fit(X_train, y_train)\n",
    "print(datetime.now() - t1)"
   ]
  },
  {
   "cell_type": "code",
   "execution_count": 24,
   "metadata": {},
   "outputs": [],
   "source": [
    "preds = classifier.predict(X_test)"
   ]
  },
  {
   "cell_type": "code",
   "execution_count": 26,
   "metadata": {},
   "outputs": [
    {
     "data": {
      "text/html": [
       "<div>\n",
       "<style scoped>\n",
       "    .dataframe tbody tr th:only-of-type {\n",
       "        vertical-align: middle;\n",
       "    }\n",
       "\n",
       "    .dataframe tbody tr th {\n",
       "        vertical-align: top;\n",
       "    }\n",
       "\n",
       "    .dataframe thead th {\n",
       "        text-align: right;\n",
       "    }\n",
       "</style>\n",
       "<table border=\"1\" class=\"dataframe\">\n",
       "  <thead>\n",
       "    <tr style=\"text-align: right;\">\n",
       "      <th></th>\n",
       "      <th>prediction</th>\n",
       "      <th>actual</th>\n",
       "      <th>difference</th>\n",
       "    </tr>\n",
       "  </thead>\n",
       "  <tbody>\n",
       "    <tr>\n",
       "      <th>257</th>\n",
       "      <td>1.0</td>\n",
       "      <td>5.0</td>\n",
       "      <td>-4.0</td>\n",
       "    </tr>\n",
       "    <tr>\n",
       "      <th>420</th>\n",
       "      <td>1.0</td>\n",
       "      <td>5.0</td>\n",
       "      <td>-4.0</td>\n",
       "    </tr>\n",
       "    <tr>\n",
       "      <th>884</th>\n",
       "      <td>1.0</td>\n",
       "      <td>5.0</td>\n",
       "      <td>-4.0</td>\n",
       "    </tr>\n",
       "    <tr>\n",
       "      <th>1155</th>\n",
       "      <td>1.0</td>\n",
       "      <td>5.0</td>\n",
       "      <td>-4.0</td>\n",
       "    </tr>\n",
       "    <tr>\n",
       "      <th>1336</th>\n",
       "      <td>5.0</td>\n",
       "      <td>1.0</td>\n",
       "      <td>4.0</td>\n",
       "    </tr>\n",
       "    <tr>\n",
       "      <th>...</th>\n",
       "      <td>...</td>\n",
       "      <td>...</td>\n",
       "      <td>...</td>\n",
       "    </tr>\n",
       "    <tr>\n",
       "      <th>6685613</th>\n",
       "      <td>5.0</td>\n",
       "      <td>1.0</td>\n",
       "      <td>4.0</td>\n",
       "    </tr>\n",
       "    <tr>\n",
       "      <th>6685622</th>\n",
       "      <td>5.0</td>\n",
       "      <td>1.0</td>\n",
       "      <td>4.0</td>\n",
       "    </tr>\n",
       "    <tr>\n",
       "      <th>6685758</th>\n",
       "      <td>1.0</td>\n",
       "      <td>5.0</td>\n",
       "      <td>-4.0</td>\n",
       "    </tr>\n",
       "    <tr>\n",
       "      <th>6685895</th>\n",
       "      <td>1.0</td>\n",
       "      <td>5.0</td>\n",
       "      <td>-4.0</td>\n",
       "    </tr>\n",
       "    <tr>\n",
       "      <th>6685896</th>\n",
       "      <td>5.0</td>\n",
       "      <td>1.0</td>\n",
       "      <td>4.0</td>\n",
       "    </tr>\n",
       "  </tbody>\n",
       "</table>\n",
       "<p>43073 rows × 3 columns</p>\n",
       "</div>"
      ],
      "text/plain": [
       "         prediction  actual  difference\n",
       "257             1.0     5.0        -4.0\n",
       "420             1.0     5.0        -4.0\n",
       "884             1.0     5.0        -4.0\n",
       "1155            1.0     5.0        -4.0\n",
       "1336            5.0     1.0         4.0\n",
       "...             ...     ...         ...\n",
       "6685613         5.0     1.0         4.0\n",
       "6685622         5.0     1.0         4.0\n",
       "6685758         1.0     5.0        -4.0\n",
       "6685895         1.0     5.0        -4.0\n",
       "6685896         5.0     1.0         4.0\n",
       "\n",
       "[43073 rows x 3 columns]"
      ]
     },
     "execution_count": 26,
     "metadata": {},
     "output_type": "execute_result"
    }
   ],
   "source": [
    "testing_result_df=pd.DataFrame({'prediction':preds,'actual':y_test})\n",
    "testing_result_df['difference'] = testing_result_df['prediction'] - testing_result_df['actual'] \n",
    "testing_result_df.loc[abs(testing_result_df['difference']) == 4]"
   ]
  },
  {
   "cell_type": "code",
   "execution_count": 71,
   "metadata": {},
   "outputs": [],
   "source": [
    "def compute_average_word_num(i):\n",
    "    a=ratings.loc[testing_result_df.loc[abs(testing_result_df['difference']) == i].index.tolist()].reviews\n",
    "    word_sum=0\n",
    "    for j in a:\n",
    "        word_sum+=len(j.split())\n",
    "    avg_word_num=word_sum/len(a)\n",
    "    return i,avg_word_num,len(a)\n",
    "x=[]\n",
    "y=[]\n",
    "z=[]\n",
    "for k in range(5):\n",
    "    x.append(compute_average_word_num(k)[0])\n",
    "    y.append(compute_average_word_num(k)[1])\n",
    "    z.append(compute_average_word_num(k)[2])"
   ]
  },
  {
   "cell_type": "code",
   "execution_count": 62,
   "metadata": {},
   "outputs": [
    {
     "data": {
      "text/plain": [
       "array([[ 1.        , -0.00586754],\n",
       "       [-0.00586754,  1.        ]])"
      ]
     },
     "execution_count": 62,
     "metadata": {},
     "output_type": "execute_result"
    }
   ],
   "source": [
    "import numpy as np\n",
    "np.corrcoef(x,y)"
   ]
  },
  {
   "cell_type": "code",
   "execution_count": 65,
   "metadata": {},
   "outputs": [
    {
     "data": {
      "image/png": "[encoded data removed]",
      "text/plain": [
       "<Figure size 432x288 with 1 Axes>"
      ]
     },
     "metadata": {},
     "output_type": "display_data"
    },
    {
     "name": "stdout",
     "output_type": "stream",
     "text": [
      "[0, 1, 2, 3, 4]\n",
      "[107.97363023854307, 120.10006025353512, 123.08718021168133, 119.71462194278942, 108.03238687809068]\n"
     ]
    }
   ],
   "source": [
    "# Correction Matrix Plot\n",
    "import matplotlib\n",
    "import matplotlib.pyplot as plt\n",
    "%matplotlib inline\n",
    "matplotlib.style.use('ggplot')\n",
    "plt.scatter(x, y)\n",
    "plt.show()\n",
    "print(x)\n",
    "print(y)"
   ]
  },
  {
   "cell_type": "markdown",
   "metadata": {},
   "source": [
    "In the above graph, x axis represents the absolute difference between predicted rating and actual rating, y axis represents the average review length."
   ]
  },
  {
   "cell_type": "code",
   "execution_count": 72,
   "metadata": {},
   "outputs": [
    {
     "data": {
      "image/png": "[encoded data removed]",
      "text/plain": [
       "<Figure size 432x288 with 1 Axes>"
      ]
     },
     "metadata": {},
     "output_type": "display_data"
    }
   ],
   "source": [
    "# Correction Matrix Plot\n",
    "import matplotlib\n",
    "import matplotlib.pyplot as plt\n",
    "%matplotlib inline\n",
    "matplotlib.style.use('ggplot')\n",
    "plt.scatter(x, z)\n",
    "plt.show()"
   ]
  },
  {
   "cell_type": "markdown",
   "metadata": {},
   "source": [
    "In the above graph, x axis represents the absolute difference between predicted rating and actual rating, y axis represents the number of data. We can clearly see a long tail."
   ]
  },
  {
   "cell_type": "code",
   "execution_count": 25,
   "metadata": {},
   "outputs": [
    {
     "name": "stdout",
     "output_type": "stream",
     "text": [
      "0.6781454753644041\n"
     ]
    }
   ],
   "source": [
    "from sklearn.metrics import accuracy_score\n",
    "print(accuracy_score(y_test, preds))"
   ]
  },
  {
   "cell_type": "code",
   "execution_count": 13,
   "metadata": {},
   "outputs": [
    {
     "name": "stdout",
     "output_type": "stream",
     "text": [
      "              precision    recall  f1-score   support\n",
      "\n",
      "         1.0       0.74      0.87      0.80    955680\n",
      "         2.0       0.48      0.29      0.36    519996\n",
      "         3.0       0.51      0.34      0.41    714429\n",
      "         4.0       0.54      0.40      0.46   1420467\n",
      "         5.0       0.74      0.92      0.82   2789192\n",
      "\n",
      "    accuracy                           0.68   6399764\n",
      "   macro avg       0.60      0.56      0.57   6399764\n",
      "weighted avg       0.65      0.68      0.65   6399764\n",
      "\n"
     ]
    }
   ],
   "source": [
    "from sklearn.metrics import classification_report\n",
    "print(classification_report(y_test, preds))"
   ]
  },
  {
   "cell_type": "markdown",
   "metadata": {},
   "source": [
    "From this result, we can see the model is biased to different ratings. Particularly for ratings 2,3,4 , their accuracy is much lower than 1 and 5. Maybe we should train the model on balanced dataset."
   ]
  },
  {
   "cell_type": "code",
   "execution_count": 14,
   "metadata": {},
   "outputs": [
    {
     "name": "stdout",
     "output_type": "stream",
     "text": [
      "[[ 827830   67754   22113   10159   27824]\n",
      " [ 191425  150029  108190   41257   29095]\n",
      " [  59815   76962  240194  233067  104391]\n",
      " [  18330   14996   83699  564760  738682]\n",
      " [  15249    3174   12245  201366 2557158]]\n"
     ]
    }
   ],
   "source": [
    "from sklearn.metrics import confusion_matrix\n",
    "print(confusion_matrix(y_test, preds))"
   ]
  },
  {
   "cell_type": "markdown",
   "metadata": {},
   "source": [
    "### balanced testing \n",
    "We have more examples of texts that typically have a 5-star rating than texts that typically have a 2-star rating. Because of the probabilistic models at the base of most machine learning classifiers, we’ll get less biased predictions if we train the system on balanced data. This means that ideally we should have the same number of examples of each review type."
   ]
  },
  {
   "cell_type": "code",
   "execution_count": 23,
   "metadata": {},
   "outputs": [
    {
     "data": {
      "text/plain": [
       "5.0    2933082\n",
       "4.0    1468985\n",
       "1.0    1002159\n",
       "3.0     739280\n",
       "2.0     542394\n",
       "Name: rating, dtype: int64"
      ]
     },
     "execution_count": 23,
     "metadata": {},
     "output_type": "execute_result"
    }
   ],
   "source": [
    "ratings['rating'].value_counts()"
   ]
  },
  {
   "cell_type": "code",
   "execution_count": 15,
   "metadata": {},
   "outputs": [],
   "source": [
    "from collections import Counter\n",
    "\n",
    "def balance_classes(xs, ys):\n",
    "    freqs = Counter(ys)\n",
    "\n",
    "    # the least common class is the maximum number we want for all classes\n",
    "    max_allowable = freqs.most_common()[-1][1]\n",
    "    num_added = {clss: 0 for clss in freqs.keys()}\n",
    "    new_ys = []\n",
    "    new_xs = []\n",
    "    for i, y in enumerate(ys):\n",
    "        if num_added[y] < max_allowable:\n",
    "            new_ys.append(y)\n",
    "            new_xs.append(xs[i])\n",
    "            num_added[y] += 1\n",
    "    return new_xs, new_ys\n"
   ]
  },
  {
   "cell_type": "code",
   "execution_count": 16,
   "metadata": {},
   "outputs": [
    {
     "name": "stdout",
     "output_type": "stream",
     "text": [
      "Counter({1.0: 542394, 5.0: 542394, 4.0: 542394, 3.0: 542394, 2.0: 542394})\n",
      "0:14:40.386600\n"
     ]
    }
   ],
   "source": [
    "balanced_x, balanced_y = balance_classes(ratings.reviews, ratings.rating)\n",
    "print(Counter(balanced_y))\n",
    "\n",
    "t1 = datetime.now()\n",
    "\n",
    "vectors1 = vectorizer.transform(balanced_x)\n",
    "print(datetime.now() - t1)"
   ]
  },
  {
   "cell_type": "code",
   "execution_count": 17,
   "metadata": {},
   "outputs": [
    {
     "data": {
      "text/plain": [
       "(2711970, 26536440)"
      ]
     },
     "execution_count": 17,
     "metadata": {},
     "output_type": "execute_result"
    }
   ],
   "source": [
    "vectors1.shape"
   ]
  },
  {
   "cell_type": "code",
   "execution_count": 18,
   "metadata": {},
   "outputs": [
    {
     "name": "stdout",
     "output_type": "stream",
     "text": [
      "0:49:33.747730\n"
     ]
    }
   ],
   "source": [
    "# initialise the SVM classifier\n",
    "classifier1 = LinearSVC()\n",
    "\n",
    "# train the classifier\n",
    "t1 = datetime.now()\n",
    "classifier1.fit(vectors1, balanced_y)\n",
    "vector2=vectorizer.transform(remaining_ratings.reviews)\n",
    "\n",
    "print(datetime.now() - t1)"
   ]
  },
  {
   "cell_type": "code",
   "execution_count": 40,
   "metadata": {},
   "outputs": [
    {
     "name": "stdout",
     "output_type": "stream",
     "text": [
      "0.7981105240755753\n",
      "              precision    recall  f1-score   support\n",
      "\n",
      "         1.0       0.94      0.89      0.91    955680\n",
      "         2.0       0.72      0.95      0.82    519996\n",
      "         3.0       0.69      0.83      0.75    714429\n",
      "         4.0       0.64      0.69      0.66   1420467\n",
      "         5.0       0.90      0.79      0.84   2789192\n",
      "\n",
      "    accuracy                           0.80   6399764\n",
      "   macro avg       0.78      0.83      0.80   6399764\n",
      "weighted avg       0.81      0.80      0.80   6399764\n",
      "\n"
     ]
    }
   ],
   "source": [
    "preds2=classifier1.predict(vector2)\n",
    "print(accuracy_score(y_test, preds2))\n",
    "print(classification_report(y_test, preds2))"
   ]
  },
  {
   "cell_type": "markdown",
   "metadata": {},
   "source": [
    "Clearly, a balanced train test will have much higher accuracy result and the score for each category improves greatly."
   ]
  },
  {
   "cell_type": "code",
   "execution_count": 41,
   "metadata": {},
   "outputs": [],
   "source": [
    "testing_result_df1=pd.DataFrame({'prediction':preds2,'actual':y_test})\n",
    "testing_result_df1['difference'] = testing_result_df1['prediction'] - testing_result_df1['actual'] "
   ]
  },
  {
   "cell_type": "code",
   "execution_count": 73,
   "metadata": {},
   "outputs": [],
   "source": [
    "def compute_average_word_num1(i):\n",
    "    a=ratings.loc[testing_result_df.loc[abs(testing_result_df1['difference']) == i].index.tolist()].reviews\n",
    "    word_sum=0\n",
    "    for j in a:\n",
    "        word_sum+=len(j.split())\n",
    "    avg_word_num=word_sum/len(a)\n",
    "    return i,avg_word_num,len(a)\n",
    "x=[]\n",
    "y=[]\n",
    "z=[]\n",
    "for k in range(5):\n",
    "    x.append(compute_average_word_num1(k)[0])\n",
    "    y.append(compute_average_word_num1(k)[1])\n",
    "    z.append(compute_average_word_num1(k)[2])"
   ]
  },
  {
   "cell_type": "code",
   "execution_count": 68,
   "metadata": {},
   "outputs": [
    {
     "name": "stdout",
     "output_type": "stream",
     "text": [
      "(0, 111.77850876291355)\n",
      "(1, 111.10453237628231)\n",
      "(2, 121.82855749786187)\n",
      "(3, 122.23673484650189)\n",
      "(4, 115.16324916978546)\n"
     ]
    }
   ],
   "source": [
    "for k in range(5):\n",
    "    print(compute_average_word_num1(k))"
   ]
  },
  {
   "cell_type": "code",
   "execution_count": 69,
   "metadata": {},
   "outputs": [
    {
     "data": {
      "text/plain": [
       "array([[1.        , 0.52912653],\n",
       "       [0.52912653, 1.        ]])"
      ]
     },
     "execution_count": 69,
     "metadata": {},
     "output_type": "execute_result"
    }
   ],
   "source": [
    "import numpy as np\n",
    "np.corrcoef(x,y)"
   ]
  },
  {
   "cell_type": "code",
   "execution_count": 70,
   "metadata": {},
   "outputs": [
    {
     "data": {
      "image/png": "[encoded data removed]",
      "text/plain": [
       "<Figure size 432x288 with 1 Axes>"
      ]
     },
     "metadata": {},
     "output_type": "display_data"
    },
    {
     "name": "stdout",
     "output_type": "stream",
     "text": [
      "[0, 1, 2, 3, 4]\n",
      "[111.77850876291355, 111.10453237628231, 121.82855749786187, 122.23673484650189, 115.16324916978546]\n"
     ]
    }
   ],
   "source": [
    "# Correction Matrix Plot\n",
    "import matplotlib\n",
    "import matplotlib.pyplot as plt\n",
    "%matplotlib inline\n",
    "matplotlib.style.use('ggplot')\n",
    "plt.scatter(x, y)\n",
    "plt.show()\n",
    "print(x)\n",
    "print(y)"
   ]
  },
  {
   "cell_type": "markdown",
   "metadata": {},
   "source": [
    "Combine the graph with the graph we produced for the last test, we can clearly see that when a review is short, it is likely to predict correctly or completely wrong since short reviews may contain core information and there is less information in it. Sometimes people will directly give their opinion in a short sentence. But at the same time, less information may lead to incorrect prediction.<br>\n",
    "However, when the review is long, it is unlikely to predict correctly since there are many texts in it and it's more complacited to predict the true meaning of the review."
   ]
  },
  {
   "cell_type": "code",
   "execution_count": 74,
   "metadata": {},
   "outputs": [
    {
     "data": {
      "image/png": "[encoded data removed]",
      "text/plain": [
       "<Figure size 432x288 with 1 Axes>"
      ]
     },
     "metadata": {},
     "output_type": "display_data"
    }
   ],
   "source": [
    "# Correction Matrix Plot\n",
    "import matplotlib\n",
    "import matplotlib.pyplot as plt\n",
    "%matplotlib inline\n",
    "matplotlib.style.use('ggplot')\n",
    "plt.scatter(x, z)\n",
    "plt.show()"
   ]
  },
  {
   "cell_type": "markdown",
   "metadata": {},
   "source": [
    "In the above graph, x axis represents the absolute difference between predicted rating and actual rating, y axis represents the number of data. We can clearly see a long tail."
   ]
  },
  {
   "cell_type": "code",
   "execution_count": null,
   "metadata": {},
   "outputs": [],
   "source": []
  }
 ],
 "metadata": {
  "kernelspec": {
   "display_name": "Python 3",
   "language": "python",
   "name": "python3"
  },
  "language_info": {
   "codemirror_mode": {
    "name": "ipython",
    "version": 3
   },
   "file_extension": ".py",
   "mimetype": "text/x-python",
   "name": "python",
   "nbconvert_exporter": "python",
   "pygments_lexer": "ipython3",
   "version": "3.6.9"
  }
 },
 "nbformat": 4,
 "nbformat_minor": 2
}
