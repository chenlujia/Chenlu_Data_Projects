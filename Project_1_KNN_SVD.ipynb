{
 "cells": [
  {
   "cell_type": "markdown",
   "metadata": {},
   "source": [
    "# IEOR 4571 Project_1 (MovieLen Dataset)\n",
    "\n",
    "Authors: \n",
    "Ying Du (yd2519)\n",
    "Chenlu Jia (cj2616)\n",
    "Chengyou Ju (cj2624)\n",
    "Jiaqi Tang (jt3169)"
   ]
  },
  {
   "cell_type": "markdown",
   "metadata": {},
   "source": [
    "## 1. Data cleaning and dataset choices"
   ]
  },
  {
   "cell_type": "code",
   "execution_count": 659,
   "metadata": {},
   "outputs": [],
   "source": [
    "#import all packages that will be used\n",
    "import numpy as np\n",
    "import pandas as pd\n",
    "import matplotlib.pyplot as plt \n",
    "import os\n",
    "import sys\n",
    "import time\n",
    "import pickle\n",
    "from surprise import Dataset, Reader, SVD, accuracy\n",
    "from surprise.model_selection import GridSearchCV\n",
    "from surprise.model_selection import cross_validate\n",
    "#from surprise.model_selection import train_test_split\n",
    "from sklearn.neighbors import KNeighborsClassifier\n",
    "from sklearn.neighbors import NearestNeighbors\n",
    "from sklearn.model_selection import train_test_split\n",
    "#from sklearn.model_selection import GridSearchCV\n",
    "#from sklearn.decomposition import TruncatedSVD\n",
    "from sklearn import preprocessing\n",
    "from fuzzywuzzy import fuzz\n",
    "from scipy.sparse import csr_matrix\n",
    "import seaborn as sns\n",
    "import matplotlib.pyplot as plt\n",
    "plt.style.use('ggplot')\n",
    "\n",
    "%matplotlib inline"
   ]
  },
  {
   "cell_type": "code",
   "execution_count": 660,
   "metadata": {},
   "outputs": [],
   "source": [
    "#Load the movie dataset\n",
    "movies = pd.read_csv('ml-20m/movies.csv')\n",
    "genome_scores = pd.read_csv('ml-20m/genome-scores.csv')\n",
    "tags = pd.read_csv('ml-20m/tags.csv')\n",
    "genome_tags = pd.read_csv('ml-20m/genome-tags.csv')\n",
    "ratings = pd.read_csv('ml-20m/ratings.csv')"
   ]
  },
  {
   "cell_type": "code",
   "execution_count": 661,
   "metadata": {},
   "outputs": [],
   "source": [
    "# map movie to id:\n",
    "Mapping_file = dict(zip(movies.title.tolist(), movies.movieId.tolist()))"
   ]
  },
  {
   "cell_type": "code",
   "execution_count": 662,
   "metadata": {},
   "outputs": [
    {
     "data": {
      "text/html": [
       "<div>\n",
       "<style scoped>\n",
       "    .dataframe tbody tr th:only-of-type {\n",
       "        vertical-align: middle;\n",
       "    }\n",
       "\n",
       "    .dataframe tbody tr th {\n",
       "        vertical-align: top;\n",
       "    }\n",
       "\n",
       "    .dataframe thead th {\n",
       "        text-align: right;\n",
       "    }\n",
       "</style>\n",
       "<table border=\"1\" class=\"dataframe\">\n",
       "  <thead>\n",
       "    <tr style=\"text-align: right;\">\n",
       "      <th></th>\n",
       "      <th>count</th>\n",
       "    </tr>\n",
       "    <tr>\n",
       "      <th>movieId</th>\n",
       "      <th></th>\n",
       "    </tr>\n",
       "  </thead>\n",
       "  <tbody>\n",
       "    <tr>\n",
       "      <th>1</th>\n",
       "      <td>49695</td>\n",
       "    </tr>\n",
       "    <tr>\n",
       "      <th>2</th>\n",
       "      <td>22243</td>\n",
       "    </tr>\n",
       "    <tr>\n",
       "      <th>3</th>\n",
       "      <td>12735</td>\n",
       "    </tr>\n",
       "    <tr>\n",
       "      <th>4</th>\n",
       "      <td>2756</td>\n",
       "    </tr>\n",
       "    <tr>\n",
       "      <th>5</th>\n",
       "      <td>12161</td>\n",
       "    </tr>\n",
       "  </tbody>\n",
       "</table>\n",
       "</div>"
      ],
      "text/plain": [
       "         count\n",
       "movieId       \n",
       "1        49695\n",
       "2        22243\n",
       "3        12735\n",
       "4         2756\n",
       "5        12161"
      ]
     },
     "execution_count": 662,
     "metadata": {},
     "output_type": "execute_result"
    }
   ],
   "source": [
    "# Get the rating frequency of all movies\n",
    "df_movies_cnt = pd.DataFrame(ratings.groupby('movieId').size(), columns=['count'])\n",
    "df_movies_cnt.head()"
   ]
  },
  {
   "cell_type": "code",
   "execution_count": 306,
   "metadata": {},
   "outputs": [
    {
     "data": {
      "text/plain": [
       "Text(0, 0.5, 'number of ratings')"
      ]
     },
     "execution_count": 306,
     "metadata": {},
     "output_type": "execute_result"
    },
    {
     "data": {
      "image/png": "[encoded data removed]",
      "text/plain": [
       "<Figure size 864x576 with 1 Axes>"
      ]
     },
     "metadata": {
      "needs_background": "light"
     },
     "output_type": "display_data"
    }
   ],
   "source": [
    "# Plot the rating frequency of all movies\n",
    "ax = df_movies_cnt.sort_values('count', ascending=False).reset_index(drop=True).plot.hist(\n",
    "        figsize=(12, 8),\n",
    "        title='Rating Frequency of All Movies',\n",
    "        fontsize=12,\n",
    "        bins=200)\n",
    "ax.set_xlim(0, 10000)\n",
    "ax.set_ylim(0, 30000)\n",
    "ax.set_xlabel(\"movie Id\")\n",
    "ax.set_ylabel(\"number of ratings\")"
   ]
  },
  {
   "cell_type": "markdown",
   "metadata": {},
   "source": [
    "#### From the graph above, we can tell that most movies are not rated by a number of people. Therefore, when choosing a smaller dataset, we first look at the distribution of the rating frequency for each movie."
   ]
  },
  {
   "cell_type": "code",
   "execution_count": 159,
   "metadata": {},
   "outputs": [
    {
     "data": {
      "text/plain": [
       "1.00    67310.00\n",
       "0.99    14388.69\n",
       "0.98     8835.78\n",
       "0.97     6219.97\n",
       "0.96     4700.56\n",
       "0.95     3612.95\n",
       "0.94     2847.00\n",
       "0.93     2285.98\n",
       "0.92     1848.00\n",
       "0.91     1543.00\n",
       "0.90     1305.70\n",
       "0.89     1120.00\n",
       "0.88      970.84\n",
       "0.87      844.41\n",
       "0.86      727.00\n",
       "0.85      632.55\n",
       "0.84      558.00\n",
       "0.83      486.00\n",
       "0.82      433.26\n",
       "0.81      386.83\n",
       "Name: count, dtype: float64"
      ]
     },
     "execution_count": 159,
     "metadata": {},
     "output_type": "execute_result"
    }
   ],
   "source": [
    "# Get the quantiles of the movie rating counts for each movie\n",
    "df_movies_cnt['count'].quantile(np.arange(1, 0.8, -0.01))"
   ]
  },
  {
   "cell_type": "markdown",
   "metadata": {},
   "source": [
    "### (a) 1% movies and 1% users"
   ]
  },
  {
   "cell_type": "code",
   "execution_count": 679,
   "metadata": {},
   "outputs": [
    {
     "name": "stdout",
     "output_type": "stream",
     "text": [
      "shape of original ratings data:  (20000263, 4)\n",
      "shape of ratings data after dropping unpopular movies:  (6711289, 4)\n"
     ]
    }
   ],
   "source": [
    "# Filter the data and keep the top 1% movies with the largest numbers of ratings\n",
    "popularity_thres = 14388.69\n",
    "popular_movies = list(set(df_movies_cnt.query('count >= @popularity_thres').index))\n",
    "df_ratings_drop_movies = ratings[ratings.movieId.isin(popular_movies)]\n",
    "print('shape of original ratings data: ', ratings.shape)\n",
    "print('shape of ratings data after dropping unpopular movies: ', df_ratings_drop_movies.shape)"
   ]
  },
  {
   "cell_type": "code",
   "execution_count": 680,
   "metadata": {},
   "outputs": [],
   "source": [
    "# Get number of ratings given by every user\n",
    "df_users_cnt = pd.DataFrame(df_ratings_drop_movies.groupby('userId').size(), columns=['count'])"
   ]
  },
  {
   "cell_type": "code",
   "execution_count": 31,
   "metadata": {},
   "outputs": [
    {
     "data": {
      "text/plain": [
       "Text(0, 0.5, 'number of ratings')"
      ]
     },
     "execution_count": 31,
     "metadata": {},
     "output_type": "execute_result"
    },
    {
     "data": {
      "image/png": "[encoded data removed]",
      "text/plain": [
       "<Figure size 864x576 with 1 Axes>"
      ]
     },
     "metadata": {
      "needs_background": "light"
     },
     "output_type": "display_data"
    }
   ],
   "source": [
    "# Plot rating frequency of all movies\n",
    "ax = df_users_cnt.sort_values('count', ascending=False).reset_index(drop=True).plot(\n",
    "        figsize=(12, 8),\n",
    "        title='Rating Frequency of All Users',\n",
    "        fontsize=12)\n",
    "ax.set_xlabel(\"user Id\")\n",
    "ax.set_ylabel(\"number of ratings\")"
   ]
  },
  {
   "cell_type": "markdown",
   "metadata": {},
   "source": [
    "#### From the graph above, we can tell that most users did not rate a number of movies. Therefore, when choosing a smaller dataset, we want to look at the distribution of the number of movies rated by each user."
   ]
  },
  {
   "cell_type": "code",
   "execution_count": 158,
   "metadata": {},
   "outputs": [
    {
     "data": {
      "text/plain": [
       "1.00    1335.0\n",
       "0.99     627.0\n",
       "0.98     513.0\n",
       "0.97     444.0\n",
       "0.96     395.0\n",
       "0.95     358.0\n",
       "0.94     327.0\n",
       "0.93     302.0\n",
       "0.92     282.0\n",
       "0.91     264.0\n",
       "0.90     248.0\n",
       "0.89     233.0\n",
       "0.88     220.0\n",
       "0.87     208.0\n",
       "0.86     197.0\n",
       "0.85     188.0\n",
       "0.84     179.0\n",
       "0.83     171.0\n",
       "0.82     163.0\n",
       "0.81     156.0\n",
       "Name: count, dtype: float64"
      ]
     },
     "execution_count": 158,
     "metadata": {},
     "output_type": "execute_result"
    }
   ],
   "source": [
    "df_users_cnt['count'].quantile(np.arange(1, 0.8, -0.01))"
   ]
  },
  {
   "cell_type": "code",
   "execution_count": 681,
   "metadata": {},
   "outputs": [
    {
     "name": "stdout",
     "output_type": "stream",
     "text": [
      "shape of original ratings data:  (20000263, 4)\n",
      "shape of ratings data after dropping both unpopular movies and inactive users:  (0, 4)\n"
     ]
    }
   ],
   "source": [
    "# Filter the data and keep the top 1% users who rate the largest number of movies\n",
    "ratings_thres = 627\n",
    "active_users = list(set(df_users_cnt.query('count >= @ratings_thres').index))\n",
    "df_ratings_drop_users = df_ratings_drop_movies[df_ratings_drop_movies.userId.isin(active_users)]\n",
    "print('shape of original ratings data: ', ratings.shape)\n",
    "print('shape of ratings data after dropping both unpopular movies and inactive users: ', df_ratings_drop_users.shape)"
   ]
  },
  {
   "cell_type": "code",
   "execution_count": 682,
   "metadata": {},
   "outputs": [],
   "source": [
    "# list the movie titles that survive the filtering\n",
    "movie_list_rating = df_ratings_drop_users.movieId.unique().tolist()"
   ]
  },
  {
   "cell_type": "code",
   "execution_count": 683,
   "metadata": {},
   "outputs": [],
   "source": [
    "#filter the movies data frame\n",
    "movies = movies[movies.movieId.isin(movie_list_rating)]"
   ]
  },
  {
   "cell_type": "code",
   "execution_count": null,
   "metadata": {},
   "outputs": [],
   "source": [
    "df_ratings_drop_users.drop(['timestamp'],1, inplace=True)\n",
    "df_ratings_drop_users.head()"
   ]
  },
  {
   "cell_type": "code",
   "execution_count": 37,
   "metadata": {},
   "outputs": [],
   "source": [
    "#Merge the movieId column in movies and the ratings dataset so we can have the movieIds as the feature\n",
    "ratings_f1 = pd.merge(movies[['movieId']], df_ratings_drop_users, on=\"movieId\", how=\"right\")"
   ]
  },
  {
   "cell_type": "code",
   "execution_count": 38,
   "metadata": {},
   "outputs": [
    {
     "data": {
      "text/html": [
       "<div>\n",
       "<style scoped>\n",
       "    .dataframe tbody tr th:only-of-type {\n",
       "        vertical-align: middle;\n",
       "    }\n",
       "\n",
       "    .dataframe tbody tr th {\n",
       "        vertical-align: top;\n",
       "    }\n",
       "\n",
       "    .dataframe thead th {\n",
       "        text-align: right;\n",
       "    }\n",
       "</style>\n",
       "<table border=\"1\" class=\"dataframe\">\n",
       "  <thead>\n",
       "    <tr style=\"text-align: right;\">\n",
       "      <th></th>\n",
       "      <th>movieId</th>\n",
       "      <th>userId</th>\n",
       "      <th>rating</th>\n",
       "    </tr>\n",
       "  </thead>\n",
       "  <tbody>\n",
       "    <tr>\n",
       "      <th>0</th>\n",
       "      <td>1</td>\n",
       "      <td>24</td>\n",
       "      <td>4.0</td>\n",
       "    </tr>\n",
       "    <tr>\n",
       "      <th>1</th>\n",
       "      <td>1</td>\n",
       "      <td>54</td>\n",
       "      <td>4.0</td>\n",
       "    </tr>\n",
       "    <tr>\n",
       "      <th>2</th>\n",
       "      <td>1</td>\n",
       "      <td>58</td>\n",
       "      <td>5.0</td>\n",
       "    </tr>\n",
       "    <tr>\n",
       "      <th>3</th>\n",
       "      <td>1</td>\n",
       "      <td>91</td>\n",
       "      <td>4.0</td>\n",
       "    </tr>\n",
       "    <tr>\n",
       "      <th>4</th>\n",
       "      <td>1</td>\n",
       "      <td>116</td>\n",
       "      <td>3.0</td>\n",
       "    </tr>\n",
       "  </tbody>\n",
       "</table>\n",
       "</div>"
      ],
      "text/plain": [
       "   movieId  userId  rating\n",
       "0        1      24     4.0\n",
       "1        1      54     4.0\n",
       "2        1      58     5.0\n",
       "3        1      91     4.0\n",
       "4        1     116     3.0"
      ]
     },
     "execution_count": 38,
     "metadata": {},
     "output_type": "execute_result"
    }
   ],
   "source": [
    "ratings_f1.head()"
   ]
  },
  {
   "cell_type": "code",
   "execution_count": 39,
   "metadata": {},
   "outputs": [],
   "source": [
    "#Make a matrix with userIds as columns, movieIds as rows and scoring as entries\n",
    "ratings_f2 = ratings_f1.pivot(index = 'movieId', columns ='userId', values = 'rating').fillna(0)"
   ]
  },
  {
   "cell_type": "code",
   "execution_count": 40,
   "metadata": {},
   "outputs": [
    {
     "data": {
      "text/html": [
       "<div>\n",
       "<style scoped>\n",
       "    .dataframe tbody tr th:only-of-type {\n",
       "        vertical-align: middle;\n",
       "    }\n",
       "\n",
       "    .dataframe tbody tr th {\n",
       "        vertical-align: top;\n",
       "    }\n",
       "\n",
       "    .dataframe thead th {\n",
       "        text-align: right;\n",
       "    }\n",
       "</style>\n",
       "<table border=\"1\" class=\"dataframe\">\n",
       "  <thead>\n",
       "    <tr style=\"text-align: right;\">\n",
       "      <th>userId</th>\n",
       "      <th>24</th>\n",
       "      <th>54</th>\n",
       "      <th>58</th>\n",
       "      <th>91</th>\n",
       "      <th>104</th>\n",
       "      <th>116</th>\n",
       "      <th>134</th>\n",
       "      <th>156</th>\n",
       "      <th>208</th>\n",
       "      <th>247</th>\n",
       "      <th>...</th>\n",
       "      <th>138270</th>\n",
       "      <th>138301</th>\n",
       "      <th>138307</th>\n",
       "      <th>138325</th>\n",
       "      <th>138382</th>\n",
       "      <th>138397</th>\n",
       "      <th>138406</th>\n",
       "      <th>138411</th>\n",
       "      <th>138437</th>\n",
       "      <th>138474</th>\n",
       "    </tr>\n",
       "    <tr>\n",
       "      <th>movieId</th>\n",
       "      <th></th>\n",
       "      <th></th>\n",
       "      <th></th>\n",
       "      <th></th>\n",
       "      <th></th>\n",
       "      <th></th>\n",
       "      <th></th>\n",
       "      <th></th>\n",
       "      <th></th>\n",
       "      <th></th>\n",
       "      <th></th>\n",
       "      <th></th>\n",
       "      <th></th>\n",
       "      <th></th>\n",
       "      <th></th>\n",
       "      <th></th>\n",
       "      <th></th>\n",
       "      <th></th>\n",
       "      <th></th>\n",
       "      <th></th>\n",
       "      <th></th>\n",
       "    </tr>\n",
       "  </thead>\n",
       "  <tbody>\n",
       "    <tr>\n",
       "      <th>1</th>\n",
       "      <td>4.0</td>\n",
       "      <td>4.0</td>\n",
       "      <td>5.0</td>\n",
       "      <td>4.0</td>\n",
       "      <td>0.0</td>\n",
       "      <td>3.0</td>\n",
       "      <td>4.0</td>\n",
       "      <td>5.0</td>\n",
       "      <td>4.0</td>\n",
       "      <td>0.0</td>\n",
       "      <td>...</td>\n",
       "      <td>0.0</td>\n",
       "      <td>2.5</td>\n",
       "      <td>3.5</td>\n",
       "      <td>5.0</td>\n",
       "      <td>3.0</td>\n",
       "      <td>0.0</td>\n",
       "      <td>4.0</td>\n",
       "      <td>5.0</td>\n",
       "      <td>4.0</td>\n",
       "      <td>5.0</td>\n",
       "    </tr>\n",
       "    <tr>\n",
       "      <th>2</th>\n",
       "      <td>0.0</td>\n",
       "      <td>3.0</td>\n",
       "      <td>0.0</td>\n",
       "      <td>3.5</td>\n",
       "      <td>0.0</td>\n",
       "      <td>2.0</td>\n",
       "      <td>0.0</td>\n",
       "      <td>5.0</td>\n",
       "      <td>0.0</td>\n",
       "      <td>0.0</td>\n",
       "      <td>...</td>\n",
       "      <td>0.0</td>\n",
       "      <td>2.5</td>\n",
       "      <td>2.5</td>\n",
       "      <td>3.0</td>\n",
       "      <td>4.0</td>\n",
       "      <td>0.0</td>\n",
       "      <td>3.0</td>\n",
       "      <td>0.0</td>\n",
       "      <td>0.0</td>\n",
       "      <td>4.0</td>\n",
       "    </tr>\n",
       "    <tr>\n",
       "      <th>3</th>\n",
       "      <td>0.0</td>\n",
       "      <td>0.0</td>\n",
       "      <td>0.0</td>\n",
       "      <td>3.0</td>\n",
       "      <td>0.0</td>\n",
       "      <td>2.0</td>\n",
       "      <td>0.0</td>\n",
       "      <td>2.0</td>\n",
       "      <td>0.0</td>\n",
       "      <td>0.0</td>\n",
       "      <td>...</td>\n",
       "      <td>0.0</td>\n",
       "      <td>0.0</td>\n",
       "      <td>0.0</td>\n",
       "      <td>0.0</td>\n",
       "      <td>3.0</td>\n",
       "      <td>5.0</td>\n",
       "      <td>0.0</td>\n",
       "      <td>0.0</td>\n",
       "      <td>0.0</td>\n",
       "      <td>0.0</td>\n",
       "    </tr>\n",
       "    <tr>\n",
       "      <th>5</th>\n",
       "      <td>2.0</td>\n",
       "      <td>3.0</td>\n",
       "      <td>0.0</td>\n",
       "      <td>0.0</td>\n",
       "      <td>0.0</td>\n",
       "      <td>0.0</td>\n",
       "      <td>0.0</td>\n",
       "      <td>3.0</td>\n",
       "      <td>0.0</td>\n",
       "      <td>0.0</td>\n",
       "      <td>...</td>\n",
       "      <td>0.0</td>\n",
       "      <td>0.0</td>\n",
       "      <td>0.0</td>\n",
       "      <td>0.0</td>\n",
       "      <td>0.0</td>\n",
       "      <td>0.0</td>\n",
       "      <td>0.0</td>\n",
       "      <td>0.0</td>\n",
       "      <td>0.0</td>\n",
       "      <td>4.0</td>\n",
       "    </tr>\n",
       "    <tr>\n",
       "      <th>6</th>\n",
       "      <td>4.0</td>\n",
       "      <td>3.0</td>\n",
       "      <td>4.5</td>\n",
       "      <td>0.0</td>\n",
       "      <td>0.0</td>\n",
       "      <td>1.5</td>\n",
       "      <td>3.0</td>\n",
       "      <td>4.0</td>\n",
       "      <td>0.0</td>\n",
       "      <td>5.0</td>\n",
       "      <td>...</td>\n",
       "      <td>2.0</td>\n",
       "      <td>3.5</td>\n",
       "      <td>2.0</td>\n",
       "      <td>4.5</td>\n",
       "      <td>0.0</td>\n",
       "      <td>5.0</td>\n",
       "      <td>0.0</td>\n",
       "      <td>5.0</td>\n",
       "      <td>4.0</td>\n",
       "      <td>5.0</td>\n",
       "    </tr>\n",
       "  </tbody>\n",
       "</table>\n",
       "<p>5 rows × 6945 columns</p>\n",
       "</div>"
      ],
      "text/plain": [
       "userId   24      54      58      91      104     116     134     156     \\\n",
       "movieId                                                                   \n",
       "1           4.0     4.0     5.0     4.0     0.0     3.0     4.0     5.0   \n",
       "2           0.0     3.0     0.0     3.5     0.0     2.0     0.0     5.0   \n",
       "3           0.0     0.0     0.0     3.0     0.0     2.0     0.0     2.0   \n",
       "5           2.0     3.0     0.0     0.0     0.0     0.0     0.0     3.0   \n",
       "6           4.0     3.0     4.5     0.0     0.0     1.5     3.0     4.0   \n",
       "\n",
       "userId   208     247     ...  138270  138301  138307  138325  138382  138397  \\\n",
       "movieId                  ...                                                   \n",
       "1           4.0     0.0  ...     0.0     2.5     3.5     5.0     3.0     0.0   \n",
       "2           0.0     0.0  ...     0.0     2.5     2.5     3.0     4.0     0.0   \n",
       "3           0.0     0.0  ...     0.0     0.0     0.0     0.0     3.0     5.0   \n",
       "5           0.0     0.0  ...     0.0     0.0     0.0     0.0     0.0     0.0   \n",
       "6           0.0     5.0  ...     2.0     3.5     2.0     4.5     0.0     5.0   \n",
       "\n",
       "userId   138406  138411  138437  138474  \n",
       "movieId                                  \n",
       "1           4.0     5.0     4.0     5.0  \n",
       "2           3.0     0.0     0.0     4.0  \n",
       "3           0.0     0.0     0.0     0.0  \n",
       "5           0.0     0.0     0.0     4.0  \n",
       "6           0.0     5.0     4.0     5.0  \n",
       "\n",
       "[5 rows x 6945 columns]"
      ]
     },
     "execution_count": 40,
     "metadata": {},
     "output_type": "execute_result"
    }
   ],
   "source": [
    "ratings_f2.head()"
   ]
  },
  {
   "cell_type": "markdown",
   "metadata": {},
   "source": [
    "### (b) 1% movies, 2%users"
   ]
  },
  {
   "cell_type": "code",
   "execution_count": 667,
   "metadata": {},
   "outputs": [
    {
     "name": "stdout",
     "output_type": "stream",
     "text": [
      "shape of original ratings data:  (20000263, 4)\n",
      "shape of ratings data after dropping unpopular movies:  (6711289, 4)\n"
     ]
    }
   ],
   "source": [
    "# Filter the data and keep the top 1% movies with the largest numbers of ratings\n",
    "popularity_thres = 14388.69\n",
    "popular_movies = list(set(df_movies_cnt.query('count >= @popularity_thres').index))\n",
    "df_ratings_drop_movies2 = ratings[ratings.movieId.isin(popular_movies)]\n",
    "print('shape of original ratings data: ', ratings.shape)\n",
    "print('shape of ratings data after dropping unpopular movies: ', df_ratings_drop_movies.shape)"
   ]
  },
  {
   "cell_type": "code",
   "execution_count": 668,
   "metadata": {},
   "outputs": [],
   "source": [
    "# Get number of ratings given by every user\n",
    "df_users_cnt2 = pd.DataFrame(df_ratings_drop_movies2.groupby('userId').size(), columns=['count'])"
   ]
  },
  {
   "cell_type": "code",
   "execution_count": 669,
   "metadata": {},
   "outputs": [
    {
     "data": {
      "text/plain": [
       "1.00    268.0\n",
       "0.99    212.0\n",
       "0.98    191.0\n",
       "0.97    176.0\n",
       "0.96    164.0\n",
       "0.95    153.0\n",
       "0.94    145.0\n",
       "0.93    136.0\n",
       "0.92    129.0\n",
       "0.91    122.0\n",
       "0.90    116.0\n",
       "0.89    111.0\n",
       "0.88    106.0\n",
       "0.87    102.0\n",
       "0.86     97.0\n",
       "0.85     93.0\n",
       "0.84     89.0\n",
       "0.83     86.0\n",
       "0.82     82.0\n",
       "0.81     79.0\n",
       "Name: count, dtype: float64"
      ]
     },
     "execution_count": 669,
     "metadata": {},
     "output_type": "execute_result"
    }
   ],
   "source": [
    "df_users_cnt2['count'].quantile(np.arange(1, 0.8, -0.01))"
   ]
  },
  {
   "cell_type": "code",
   "execution_count": 670,
   "metadata": {},
   "outputs": [
    {
     "name": "stdout",
     "output_type": "stream",
     "text": [
      "shape of original ratings data:  (20000263, 4)\n",
      "shape of ratings data after dropping both unpopular movies and inactive users:  (589681, 4)\n"
     ]
    }
   ],
   "source": [
    "# Filter the data and keep the top 2% users who rate the largest number of movies\n",
    "ratings_thres = 191\n",
    "active_users = list(set(df_users_cnt2.query('count >= @ratings_thres').index))\n",
    "df_ratings_drop_users2 = df_ratings_drop_movies2[df_ratings_drop_movies2.userId.isin(active_users)]\n",
    "print('shape of original ratings data: ', ratings.shape)\n",
    "print('shape of ratings data after dropping both unpopular movies and inactive users: ', df_ratings_drop_users2.shape)"
   ]
  },
  {
   "cell_type": "code",
   "execution_count": 671,
   "metadata": {},
   "outputs": [],
   "source": [
    "# list the movie titles that survive the filtering\n",
    "movie_list_rating = df_ratings_drop_users2.movieId.unique().tolist()\n",
    "\n",
    "#filter the movies data frame\n",
    "movies = movies[movies.movieId.isin(movie_list_rating)]"
   ]
  },
  {
   "cell_type": "code",
   "execution_count": 672,
   "metadata": {},
   "outputs": [
    {
     "data": {
      "text/html": [
       "<div>\n",
       "<style scoped>\n",
       "    .dataframe tbody tr th:only-of-type {\n",
       "        vertical-align: middle;\n",
       "    }\n",
       "\n",
       "    .dataframe tbody tr th {\n",
       "        vertical-align: top;\n",
       "    }\n",
       "\n",
       "    .dataframe thead th {\n",
       "        text-align: right;\n",
       "    }\n",
       "</style>\n",
       "<table border=\"1\" class=\"dataframe\">\n",
       "  <thead>\n",
       "    <tr style=\"text-align: right;\">\n",
       "      <th>userId</th>\n",
       "      <th>91</th>\n",
       "      <th>116</th>\n",
       "      <th>156</th>\n",
       "      <th>208</th>\n",
       "      <th>294</th>\n",
       "      <th>359</th>\n",
       "      <th>427</th>\n",
       "      <th>586</th>\n",
       "      <th>587</th>\n",
       "      <th>614</th>\n",
       "      <th>...</th>\n",
       "      <th>137854</th>\n",
       "      <th>137885</th>\n",
       "      <th>138019</th>\n",
       "      <th>138134</th>\n",
       "      <th>138208</th>\n",
       "      <th>138254</th>\n",
       "      <th>138256</th>\n",
       "      <th>138325</th>\n",
       "      <th>138387</th>\n",
       "      <th>138411</th>\n",
       "    </tr>\n",
       "    <tr>\n",
       "      <th>movieId</th>\n",
       "      <th></th>\n",
       "      <th></th>\n",
       "      <th></th>\n",
       "      <th></th>\n",
       "      <th></th>\n",
       "      <th></th>\n",
       "      <th></th>\n",
       "      <th></th>\n",
       "      <th></th>\n",
       "      <th></th>\n",
       "      <th></th>\n",
       "      <th></th>\n",
       "      <th></th>\n",
       "      <th></th>\n",
       "      <th></th>\n",
       "      <th></th>\n",
       "      <th></th>\n",
       "      <th></th>\n",
       "      <th></th>\n",
       "      <th></th>\n",
       "      <th></th>\n",
       "    </tr>\n",
       "  </thead>\n",
       "  <tbody>\n",
       "    <tr>\n",
       "      <th>1</th>\n",
       "      <td>4.0</td>\n",
       "      <td>3.0</td>\n",
       "      <td>5.0</td>\n",
       "      <td>4.0</td>\n",
       "      <td>4.5</td>\n",
       "      <td>5.0</td>\n",
       "      <td>4.0</td>\n",
       "      <td>2.5</td>\n",
       "      <td>5.0</td>\n",
       "      <td>3.0</td>\n",
       "      <td>...</td>\n",
       "      <td>4.5</td>\n",
       "      <td>5.0</td>\n",
       "      <td>4.5</td>\n",
       "      <td>4.5</td>\n",
       "      <td>3.0</td>\n",
       "      <td>4.0</td>\n",
       "      <td>3.0</td>\n",
       "      <td>5.0</td>\n",
       "      <td>2.5</td>\n",
       "      <td>5.0</td>\n",
       "    </tr>\n",
       "    <tr>\n",
       "      <th>2</th>\n",
       "      <td>3.5</td>\n",
       "      <td>2.0</td>\n",
       "      <td>5.0</td>\n",
       "      <td>0.0</td>\n",
       "      <td>4.5</td>\n",
       "      <td>0.0</td>\n",
       "      <td>0.5</td>\n",
       "      <td>3.0</td>\n",
       "      <td>2.0</td>\n",
       "      <td>0.0</td>\n",
       "      <td>...</td>\n",
       "      <td>3.0</td>\n",
       "      <td>3.0</td>\n",
       "      <td>0.0</td>\n",
       "      <td>2.0</td>\n",
       "      <td>2.0</td>\n",
       "      <td>3.5</td>\n",
       "      <td>0.0</td>\n",
       "      <td>3.0</td>\n",
       "      <td>3.5</td>\n",
       "      <td>0.0</td>\n",
       "    </tr>\n",
       "    <tr>\n",
       "      <th>6</th>\n",
       "      <td>0.0</td>\n",
       "      <td>1.5</td>\n",
       "      <td>4.0</td>\n",
       "      <td>0.0</td>\n",
       "      <td>3.5</td>\n",
       "      <td>5.0</td>\n",
       "      <td>5.0</td>\n",
       "      <td>4.5</td>\n",
       "      <td>0.0</td>\n",
       "      <td>2.5</td>\n",
       "      <td>...</td>\n",
       "      <td>4.5</td>\n",
       "      <td>5.0</td>\n",
       "      <td>0.0</td>\n",
       "      <td>0.0</td>\n",
       "      <td>3.0</td>\n",
       "      <td>4.5</td>\n",
       "      <td>3.0</td>\n",
       "      <td>4.5</td>\n",
       "      <td>0.0</td>\n",
       "      <td>5.0</td>\n",
       "    </tr>\n",
       "    <tr>\n",
       "      <th>10</th>\n",
       "      <td>4.0</td>\n",
       "      <td>2.0</td>\n",
       "      <td>4.0</td>\n",
       "      <td>0.0</td>\n",
       "      <td>3.5</td>\n",
       "      <td>4.0</td>\n",
       "      <td>2.0</td>\n",
       "      <td>4.0</td>\n",
       "      <td>4.0</td>\n",
       "      <td>3.0</td>\n",
       "      <td>...</td>\n",
       "      <td>3.0</td>\n",
       "      <td>3.0</td>\n",
       "      <td>0.0</td>\n",
       "      <td>3.0</td>\n",
       "      <td>2.0</td>\n",
       "      <td>4.0</td>\n",
       "      <td>2.5</td>\n",
       "      <td>3.5</td>\n",
       "      <td>2.5</td>\n",
       "      <td>3.5</td>\n",
       "    </tr>\n",
       "    <tr>\n",
       "      <th>11</th>\n",
       "      <td>4.0</td>\n",
       "      <td>2.0</td>\n",
       "      <td>5.0</td>\n",
       "      <td>3.0</td>\n",
       "      <td>3.0</td>\n",
       "      <td>4.0</td>\n",
       "      <td>2.0</td>\n",
       "      <td>2.5</td>\n",
       "      <td>4.0</td>\n",
       "      <td>0.0</td>\n",
       "      <td>...</td>\n",
       "      <td>3.0</td>\n",
       "      <td>3.0</td>\n",
       "      <td>3.5</td>\n",
       "      <td>0.0</td>\n",
       "      <td>3.0</td>\n",
       "      <td>0.0</td>\n",
       "      <td>0.0</td>\n",
       "      <td>0.0</td>\n",
       "      <td>4.0</td>\n",
       "      <td>2.5</td>\n",
       "    </tr>\n",
       "  </tbody>\n",
       "</table>\n",
       "<p>5 rows × 2737 columns</p>\n",
       "</div>"
      ],
      "text/plain": [
       "userId   91      116     156     208     294     359     427     586     \\\n",
       "movieId                                                                   \n",
       "1           4.0     3.0     5.0     4.0     4.5     5.0     4.0     2.5   \n",
       "2           3.5     2.0     5.0     0.0     4.5     0.0     0.5     3.0   \n",
       "6           0.0     1.5     4.0     0.0     3.5     5.0     5.0     4.5   \n",
       "10          4.0     2.0     4.0     0.0     3.5     4.0     2.0     4.0   \n",
       "11          4.0     2.0     5.0     3.0     3.0     4.0     2.0     2.5   \n",
       "\n",
       "userId   587     614     ...  137854  137885  138019  138134  138208  138254  \\\n",
       "movieId                  ...                                                   \n",
       "1           5.0     3.0  ...     4.5     5.0     4.5     4.5     3.0     4.0   \n",
       "2           2.0     0.0  ...     3.0     3.0     0.0     2.0     2.0     3.5   \n",
       "6           0.0     2.5  ...     4.5     5.0     0.0     0.0     3.0     4.5   \n",
       "10          4.0     3.0  ...     3.0     3.0     0.0     3.0     2.0     4.0   \n",
       "11          4.0     0.0  ...     3.0     3.0     3.5     0.0     3.0     0.0   \n",
       "\n",
       "userId   138256  138325  138387  138411  \n",
       "movieId                                  \n",
       "1           3.0     5.0     2.5     5.0  \n",
       "2           0.0     3.0     3.5     0.0  \n",
       "6           3.0     4.5     0.0     5.0  \n",
       "10          2.5     3.5     2.5     3.5  \n",
       "11          0.0     0.0     4.0     2.5  \n",
       "\n",
       "[5 rows x 2737 columns]"
      ]
     },
     "execution_count": 672,
     "metadata": {},
     "output_type": "execute_result"
    }
   ],
   "source": [
    "ratings_f1 = pd.merge(movies[['movieId']], df_ratings_drop_users2, on=\"movieId\", how=\"right\")\n",
    "ratings_f2_2 = ratings_f1.pivot(index = 'movieId', columns ='userId', values = 'rating').fillna(0)\n",
    "ratings_f2_2.head()"
   ]
  },
  {
   "cell_type": "markdown",
   "metadata": {},
   "source": [
    "### (c) 1% movies, 3% users"
   ]
  },
  {
   "cell_type": "code",
   "execution_count": 155,
   "metadata": {},
   "outputs": [
    {
     "name": "stdout",
     "output_type": "stream",
     "text": [
      "shape of original ratings data:  (20000263, 4)\n",
      "shape of ratings data after dropping unpopular movies:  (6711289, 4)\n"
     ]
    }
   ],
   "source": [
    "# Filter the data and keep the top 1% movies with the largest numbers of ratings\n",
    "popularity_thres = 14388.69\n",
    "popular_movies = list(set(df_movies_cnt.query('count >= @popularity_thres').index))\n",
    "df_ratings_drop_movies3 = ratings[ratings.movieId.isin(popular_movies)]\n",
    "print('shape of original ratings data: ', ratings.shape)\n",
    "print('shape of ratings data after dropping unpopular movies: ', df_ratings_drop_movies3.shape)"
   ]
  },
  {
   "cell_type": "code",
   "execution_count": 160,
   "metadata": {},
   "outputs": [
    {
     "data": {
      "text/plain": [
       "1.00    268.0\n",
       "0.99    212.0\n",
       "0.98    191.0\n",
       "0.97    176.0\n",
       "0.96    164.0\n",
       "0.95    153.0\n",
       "0.94    145.0\n",
       "0.93    136.0\n",
       "0.92    129.0\n",
       "0.91    122.0\n",
       "0.90    116.0\n",
       "0.89    111.0\n",
       "0.88    106.0\n",
       "0.87    102.0\n",
       "0.86     97.0\n",
       "0.85     93.0\n",
       "0.84     89.0\n",
       "0.83     86.0\n",
       "0.82     82.0\n",
       "0.81     79.0\n",
       "Name: count, dtype: float64"
      ]
     },
     "execution_count": 160,
     "metadata": {},
     "output_type": "execute_result"
    }
   ],
   "source": [
    "# Get number of ratings given by every user\n",
    "df_users_cnt3 = pd.DataFrame(df_ratings_drop_movies3.groupby('userId').size(), columns=['count'])\n",
    "df_users_cnt3['count'].quantile(np.arange(1, 0.8, -0.01))"
   ]
  },
  {
   "cell_type": "code",
   "execution_count": 162,
   "metadata": {},
   "outputs": [
    {
     "name": "stdout",
     "output_type": "stream",
     "text": [
      "shape of original ratings data:  (20000263, 4)\n",
      "shape of ratings data after dropping both unpopular movies and inactive users:  (845185, 4)\n"
     ]
    }
   ],
   "source": [
    "# Filter the data and keep the top 3% users who rate the largest number of movies\n",
    "ratings_thres = 176\n",
    "active_users = list(set(df_users_cnt3.query('count >= @ratings_thres').index))\n",
    "df_ratings_drop_users3 = df_ratings_drop_movies3[df_ratings_drop_movies3.userId.isin(active_users)]\n",
    "print('shape of original ratings data: ', ratings.shape)\n",
    "print('shape of ratings data after dropping both unpopular movies and inactive users: ', df_ratings_drop_users3.shape)"
   ]
  },
  {
   "cell_type": "code",
   "execution_count": 177,
   "metadata": {},
   "outputs": [],
   "source": [
    "# list the movie titles that survive the filtering\n",
    "movie_list_rating = df_ratings_drop_users3.movieId.unique().tolist()\n",
    "\n",
    "#filter the movies data frame\n",
    "movies = movies[movies.movieId.isin(movie_list_rating)]"
   ]
  },
  {
   "cell_type": "code",
   "execution_count": 178,
   "metadata": {},
   "outputs": [
    {
     "data": {
      "text/html": [
       "<div>\n",
       "<style scoped>\n",
       "    .dataframe tbody tr th:only-of-type {\n",
       "        vertical-align: middle;\n",
       "    }\n",
       "\n",
       "    .dataframe tbody tr th {\n",
       "        vertical-align: top;\n",
       "    }\n",
       "\n",
       "    .dataframe thead th {\n",
       "        text-align: right;\n",
       "    }\n",
       "</style>\n",
       "<table border=\"1\" class=\"dataframe\">\n",
       "  <thead>\n",
       "    <tr style=\"text-align: right;\">\n",
       "      <th>userId</th>\n",
       "      <th>58</th>\n",
       "      <th>91</th>\n",
       "      <th>116</th>\n",
       "      <th>156</th>\n",
       "      <th>208</th>\n",
       "      <th>294</th>\n",
       "      <th>298</th>\n",
       "      <th>347</th>\n",
       "      <th>359</th>\n",
       "      <th>367</th>\n",
       "      <th>...</th>\n",
       "      <th>138135</th>\n",
       "      <th>138148</th>\n",
       "      <th>138208</th>\n",
       "      <th>138211</th>\n",
       "      <th>138254</th>\n",
       "      <th>138256</th>\n",
       "      <th>138301</th>\n",
       "      <th>138325</th>\n",
       "      <th>138387</th>\n",
       "      <th>138411</th>\n",
       "    </tr>\n",
       "    <tr>\n",
       "      <th>movieId</th>\n",
       "      <th></th>\n",
       "      <th></th>\n",
       "      <th></th>\n",
       "      <th></th>\n",
       "      <th></th>\n",
       "      <th></th>\n",
       "      <th></th>\n",
       "      <th></th>\n",
       "      <th></th>\n",
       "      <th></th>\n",
       "      <th></th>\n",
       "      <th></th>\n",
       "      <th></th>\n",
       "      <th></th>\n",
       "      <th></th>\n",
       "      <th></th>\n",
       "      <th></th>\n",
       "      <th></th>\n",
       "      <th></th>\n",
       "      <th></th>\n",
       "      <th></th>\n",
       "    </tr>\n",
       "  </thead>\n",
       "  <tbody>\n",
       "    <tr>\n",
       "      <th>1</th>\n",
       "      <td>5.0</td>\n",
       "      <td>4.0</td>\n",
       "      <td>3.0</td>\n",
       "      <td>5.0</td>\n",
       "      <td>4.0</td>\n",
       "      <td>4.5</td>\n",
       "      <td>4.0</td>\n",
       "      <td>4.0</td>\n",
       "      <td>5.0</td>\n",
       "      <td>3.0</td>\n",
       "      <td>...</td>\n",
       "      <td>3.5</td>\n",
       "      <td>0.0</td>\n",
       "      <td>3.0</td>\n",
       "      <td>4.0</td>\n",
       "      <td>4.0</td>\n",
       "      <td>3.0</td>\n",
       "      <td>2.5</td>\n",
       "      <td>5.0</td>\n",
       "      <td>2.5</td>\n",
       "      <td>5.0</td>\n",
       "    </tr>\n",
       "    <tr>\n",
       "      <th>2</th>\n",
       "      <td>0.0</td>\n",
       "      <td>3.5</td>\n",
       "      <td>2.0</td>\n",
       "      <td>5.0</td>\n",
       "      <td>0.0</td>\n",
       "      <td>4.5</td>\n",
       "      <td>3.0</td>\n",
       "      <td>2.0</td>\n",
       "      <td>0.0</td>\n",
       "      <td>2.0</td>\n",
       "      <td>...</td>\n",
       "      <td>3.5</td>\n",
       "      <td>3.0</td>\n",
       "      <td>2.0</td>\n",
       "      <td>0.0</td>\n",
       "      <td>3.5</td>\n",
       "      <td>0.0</td>\n",
       "      <td>2.5</td>\n",
       "      <td>3.0</td>\n",
       "      <td>3.5</td>\n",
       "      <td>0.0</td>\n",
       "    </tr>\n",
       "    <tr>\n",
       "      <th>6</th>\n",
       "      <td>4.5</td>\n",
       "      <td>0.0</td>\n",
       "      <td>1.5</td>\n",
       "      <td>4.0</td>\n",
       "      <td>0.0</td>\n",
       "      <td>3.5</td>\n",
       "      <td>5.0</td>\n",
       "      <td>0.0</td>\n",
       "      <td>5.0</td>\n",
       "      <td>4.0</td>\n",
       "      <td>...</td>\n",
       "      <td>0.0</td>\n",
       "      <td>5.0</td>\n",
       "      <td>3.0</td>\n",
       "      <td>0.0</td>\n",
       "      <td>4.5</td>\n",
       "      <td>3.0</td>\n",
       "      <td>3.5</td>\n",
       "      <td>4.5</td>\n",
       "      <td>0.0</td>\n",
       "      <td>5.0</td>\n",
       "    </tr>\n",
       "    <tr>\n",
       "      <th>10</th>\n",
       "      <td>0.0</td>\n",
       "      <td>4.0</td>\n",
       "      <td>2.0</td>\n",
       "      <td>4.0</td>\n",
       "      <td>0.0</td>\n",
       "      <td>3.5</td>\n",
       "      <td>4.0</td>\n",
       "      <td>2.0</td>\n",
       "      <td>4.0</td>\n",
       "      <td>3.5</td>\n",
       "      <td>...</td>\n",
       "      <td>3.5</td>\n",
       "      <td>3.5</td>\n",
       "      <td>2.0</td>\n",
       "      <td>0.0</td>\n",
       "      <td>4.0</td>\n",
       "      <td>2.5</td>\n",
       "      <td>2.0</td>\n",
       "      <td>3.5</td>\n",
       "      <td>2.5</td>\n",
       "      <td>3.5</td>\n",
       "    </tr>\n",
       "    <tr>\n",
       "      <th>11</th>\n",
       "      <td>4.5</td>\n",
       "      <td>4.0</td>\n",
       "      <td>2.0</td>\n",
       "      <td>5.0</td>\n",
       "      <td>3.0</td>\n",
       "      <td>3.0</td>\n",
       "      <td>3.0</td>\n",
       "      <td>0.0</td>\n",
       "      <td>4.0</td>\n",
       "      <td>0.0</td>\n",
       "      <td>...</td>\n",
       "      <td>4.0</td>\n",
       "      <td>3.5</td>\n",
       "      <td>3.0</td>\n",
       "      <td>0.0</td>\n",
       "      <td>0.0</td>\n",
       "      <td>0.0</td>\n",
       "      <td>0.0</td>\n",
       "      <td>0.0</td>\n",
       "      <td>4.0</td>\n",
       "      <td>2.5</td>\n",
       "    </tr>\n",
       "  </tbody>\n",
       "</table>\n",
       "<p>5 rows × 4136 columns</p>\n",
       "</div>"
      ],
      "text/plain": [
       "userId   58      91      116     156     208     294     298     347     \\\n",
       "movieId                                                                   \n",
       "1           5.0     4.0     3.0     5.0     4.0     4.5     4.0     4.0   \n",
       "2           0.0     3.5     2.0     5.0     0.0     4.5     3.0     2.0   \n",
       "6           4.5     0.0     1.5     4.0     0.0     3.5     5.0     0.0   \n",
       "10          0.0     4.0     2.0     4.0     0.0     3.5     4.0     2.0   \n",
       "11          4.5     4.0     2.0     5.0     3.0     3.0     3.0     0.0   \n",
       "\n",
       "userId   359     367     ...  138135  138148  138208  138211  138254  138256  \\\n",
       "movieId                  ...                                                   \n",
       "1           5.0     3.0  ...     3.5     0.0     3.0     4.0     4.0     3.0   \n",
       "2           0.0     2.0  ...     3.5     3.0     2.0     0.0     3.5     0.0   \n",
       "6           5.0     4.0  ...     0.0     5.0     3.0     0.0     4.5     3.0   \n",
       "10          4.0     3.5  ...     3.5     3.5     2.0     0.0     4.0     2.5   \n",
       "11          4.0     0.0  ...     4.0     3.5     3.0     0.0     0.0     0.0   \n",
       "\n",
       "userId   138301  138325  138387  138411  \n",
       "movieId                                  \n",
       "1           2.5     5.0     2.5     5.0  \n",
       "2           2.5     3.0     3.5     0.0  \n",
       "6           3.5     4.5     0.0     5.0  \n",
       "10          2.0     3.5     2.5     3.5  \n",
       "11          0.0     0.0     4.0     2.5  \n",
       "\n",
       "[5 rows x 4136 columns]"
      ]
     },
     "execution_count": 178,
     "metadata": {},
     "output_type": "execute_result"
    }
   ],
   "source": [
    "ratings_f1 = pd.merge(movies[['movieId']], df_ratings_drop_users3, on=\"movieId\", how=\"right\")\n",
    "ratings_f2_3 = ratings_f1.pivot(index = 'movieId', columns ='userId', values = 'rating').fillna(0)\n",
    "ratings_f2_3.head()"
   ]
  },
  {
   "cell_type": "markdown",
   "metadata": {},
   "source": [
    "### (d) 2% movies, 3% users"
   ]
  },
  {
   "cell_type": "code",
   "execution_count": 169,
   "metadata": {},
   "outputs": [
    {
     "name": "stdout",
     "output_type": "stream",
     "text": [
      "shape of original ratings data:  (20000263, 4)\n",
      "shape of ratings data after dropping unpopular movies:  (9733001, 4)\n"
     ]
    }
   ],
   "source": [
    "# Filter the data and keep the top 1% movies with the largest numbers of ratings\n",
    "popularity_thres = 8835.78\n",
    "popular_movies = list(set(df_movies_cnt.query('count >= @popularity_thres').index))\n",
    "df_ratings_drop_movies4 = ratings[ratings.movieId.isin(popular_movies)]\n",
    "print('shape of original ratings data: ', ratings.shape)\n",
    "print('shape of ratings data after dropping unpopular movies: ', df_ratings_drop_movies4.shape)"
   ]
  },
  {
   "cell_type": "code",
   "execution_count": 170,
   "metadata": {},
   "outputs": [
    {
     "data": {
      "text/plain": [
       "1.00    535.00\n",
       "0.99    352.94\n",
       "0.98    305.00\n",
       "0.97    274.00\n",
       "0.96    250.00\n",
       "0.95    231.00\n",
       "0.94    215.00\n",
       "0.93    201.00\n",
       "0.92    189.00\n",
       "0.91    178.00\n",
       "0.90    169.00\n",
       "0.89    160.00\n",
       "0.88    152.00\n",
       "0.87    145.00\n",
       "0.86    138.00\n",
       "0.85    132.00\n",
       "0.84    126.00\n",
       "0.83    121.00\n",
       "0.82    116.00\n",
       "0.81    111.00\n",
       "Name: count, dtype: float64"
      ]
     },
     "execution_count": 170,
     "metadata": {},
     "output_type": "execute_result"
    }
   ],
   "source": [
    "# Get number of ratings given by every user\n",
    "df_users_cnt4 = pd.DataFrame(df_ratings_drop_movies4.groupby('userId').size(), columns=['count'])\n",
    "df_users_cnt4['count'].quantile(np.arange(1, 0.8, -0.01))"
   ]
  },
  {
   "cell_type": "code",
   "execution_count": 171,
   "metadata": {},
   "outputs": [
    {
     "name": "stdout",
     "output_type": "stream",
     "text": [
      "shape of original ratings data:  (20000263, 4)\n",
      "shape of ratings data after dropping both unpopular movies and inactive users:  (1409932, 4)\n"
     ]
    }
   ],
   "source": [
    "# Filter the data and keep the top 3% users who rate the largest number of movies\n",
    "ratings_thres = 274\n",
    "active_users = list(set(df_users_cnt4.query('count >= @ratings_thres').index))\n",
    "df_ratings_drop_users4 = df_ratings_drop_movies4[df_ratings_drop_movies4.userId.isin(active_users)]\n",
    "print('shape of original ratings data: ', ratings.shape)\n",
    "print('shape of ratings data after dropping both unpopular movies and inactive users: ', df_ratings_drop_users4.shape)"
   ]
  },
  {
   "cell_type": "code",
   "execution_count": 179,
   "metadata": {},
   "outputs": [],
   "source": [
    "# list the movie titles that survive the filtering\n",
    "movie_list_rating = df_ratings_drop_users4.movieId.unique().tolist()\n",
    "\n",
    "#filter the movies data frame\n",
    "movies = movies[movies.movieId.isin(movie_list_rating)]"
   ]
  },
  {
   "cell_type": "code",
   "execution_count": 180,
   "metadata": {},
   "outputs": [
    {
     "data": {
      "text/html": [
       "<div>\n",
       "<style scoped>\n",
       "    .dataframe tbody tr th:only-of-type {\n",
       "        vertical-align: middle;\n",
       "    }\n",
       "\n",
       "    .dataframe tbody tr th {\n",
       "        vertical-align: top;\n",
       "    }\n",
       "\n",
       "    .dataframe thead th {\n",
       "        text-align: right;\n",
       "    }\n",
       "</style>\n",
       "<table border=\"1\" class=\"dataframe\">\n",
       "  <thead>\n",
       "    <tr style=\"text-align: right;\">\n",
       "      <th>userId</th>\n",
       "      <th>54</th>\n",
       "      <th>58</th>\n",
       "      <th>91</th>\n",
       "      <th>116</th>\n",
       "      <th>156</th>\n",
       "      <th>208</th>\n",
       "      <th>294</th>\n",
       "      <th>298</th>\n",
       "      <th>347</th>\n",
       "      <th>359</th>\n",
       "      <th>...</th>\n",
       "      <th>138162</th>\n",
       "      <th>138208</th>\n",
       "      <th>138211</th>\n",
       "      <th>138254</th>\n",
       "      <th>138301</th>\n",
       "      <th>138307</th>\n",
       "      <th>138325</th>\n",
       "      <th>138387</th>\n",
       "      <th>138397</th>\n",
       "      <th>138411</th>\n",
       "    </tr>\n",
       "    <tr>\n",
       "      <th>movieId</th>\n",
       "      <th></th>\n",
       "      <th></th>\n",
       "      <th></th>\n",
       "      <th></th>\n",
       "      <th></th>\n",
       "      <th></th>\n",
       "      <th></th>\n",
       "      <th></th>\n",
       "      <th></th>\n",
       "      <th></th>\n",
       "      <th></th>\n",
       "      <th></th>\n",
       "      <th></th>\n",
       "      <th></th>\n",
       "      <th></th>\n",
       "      <th></th>\n",
       "      <th></th>\n",
       "      <th></th>\n",
       "      <th></th>\n",
       "      <th></th>\n",
       "      <th></th>\n",
       "    </tr>\n",
       "  </thead>\n",
       "  <tbody>\n",
       "    <tr>\n",
       "      <th>1</th>\n",
       "      <td>4.0</td>\n",
       "      <td>5.0</td>\n",
       "      <td>4.0</td>\n",
       "      <td>3.0</td>\n",
       "      <td>5.0</td>\n",
       "      <td>4.0</td>\n",
       "      <td>4.5</td>\n",
       "      <td>4.0</td>\n",
       "      <td>4.0</td>\n",
       "      <td>5.0</td>\n",
       "      <td>...</td>\n",
       "      <td>4.0</td>\n",
       "      <td>3.0</td>\n",
       "      <td>4.0</td>\n",
       "      <td>4.0</td>\n",
       "      <td>2.5</td>\n",
       "      <td>3.5</td>\n",
       "      <td>5.0</td>\n",
       "      <td>2.5</td>\n",
       "      <td>0.0</td>\n",
       "      <td>5.0</td>\n",
       "    </tr>\n",
       "    <tr>\n",
       "      <th>2</th>\n",
       "      <td>3.0</td>\n",
       "      <td>0.0</td>\n",
       "      <td>3.5</td>\n",
       "      <td>2.0</td>\n",
       "      <td>5.0</td>\n",
       "      <td>0.0</td>\n",
       "      <td>4.5</td>\n",
       "      <td>3.0</td>\n",
       "      <td>2.0</td>\n",
       "      <td>0.0</td>\n",
       "      <td>...</td>\n",
       "      <td>3.0</td>\n",
       "      <td>2.0</td>\n",
       "      <td>0.0</td>\n",
       "      <td>3.5</td>\n",
       "      <td>2.5</td>\n",
       "      <td>2.5</td>\n",
       "      <td>3.0</td>\n",
       "      <td>3.5</td>\n",
       "      <td>0.0</td>\n",
       "      <td>0.0</td>\n",
       "    </tr>\n",
       "    <tr>\n",
       "      <th>3</th>\n",
       "      <td>0.0</td>\n",
       "      <td>0.0</td>\n",
       "      <td>3.0</td>\n",
       "      <td>2.0</td>\n",
       "      <td>2.0</td>\n",
       "      <td>0.0</td>\n",
       "      <td>0.0</td>\n",
       "      <td>3.0</td>\n",
       "      <td>0.0</td>\n",
       "      <td>0.0</td>\n",
       "      <td>...</td>\n",
       "      <td>0.0</td>\n",
       "      <td>2.0</td>\n",
       "      <td>0.0</td>\n",
       "      <td>2.0</td>\n",
       "      <td>0.0</td>\n",
       "      <td>0.0</td>\n",
       "      <td>0.0</td>\n",
       "      <td>3.5</td>\n",
       "      <td>5.0</td>\n",
       "      <td>0.0</td>\n",
       "    </tr>\n",
       "    <tr>\n",
       "      <th>5</th>\n",
       "      <td>3.0</td>\n",
       "      <td>0.0</td>\n",
       "      <td>0.0</td>\n",
       "      <td>0.0</td>\n",
       "      <td>3.0</td>\n",
       "      <td>0.0</td>\n",
       "      <td>2.5</td>\n",
       "      <td>3.0</td>\n",
       "      <td>0.0</td>\n",
       "      <td>0.0</td>\n",
       "      <td>...</td>\n",
       "      <td>4.0</td>\n",
       "      <td>2.0</td>\n",
       "      <td>3.5</td>\n",
       "      <td>0.0</td>\n",
       "      <td>0.0</td>\n",
       "      <td>0.0</td>\n",
       "      <td>0.0</td>\n",
       "      <td>2.5</td>\n",
       "      <td>0.0</td>\n",
       "      <td>0.0</td>\n",
       "    </tr>\n",
       "    <tr>\n",
       "      <th>6</th>\n",
       "      <td>3.0</td>\n",
       "      <td>4.5</td>\n",
       "      <td>0.0</td>\n",
       "      <td>1.5</td>\n",
       "      <td>4.0</td>\n",
       "      <td>0.0</td>\n",
       "      <td>3.5</td>\n",
       "      <td>5.0</td>\n",
       "      <td>0.0</td>\n",
       "      <td>5.0</td>\n",
       "      <td>...</td>\n",
       "      <td>4.0</td>\n",
       "      <td>3.0</td>\n",
       "      <td>0.0</td>\n",
       "      <td>4.5</td>\n",
       "      <td>3.5</td>\n",
       "      <td>2.0</td>\n",
       "      <td>4.5</td>\n",
       "      <td>0.0</td>\n",
       "      <td>5.0</td>\n",
       "      <td>5.0</td>\n",
       "    </tr>\n",
       "  </tbody>\n",
       "</table>\n",
       "<p>5 rows × 4166 columns</p>\n",
       "</div>"
      ],
      "text/plain": [
       "userId   54      58      91      116     156     208     294     298     \\\n",
       "movieId                                                                   \n",
       "1           4.0     5.0     4.0     3.0     5.0     4.0     4.5     4.0   \n",
       "2           3.0     0.0     3.5     2.0     5.0     0.0     4.5     3.0   \n",
       "3           0.0     0.0     3.0     2.0     2.0     0.0     0.0     3.0   \n",
       "5           3.0     0.0     0.0     0.0     3.0     0.0     2.5     3.0   \n",
       "6           3.0     4.5     0.0     1.5     4.0     0.0     3.5     5.0   \n",
       "\n",
       "userId   347     359     ...  138162  138208  138211  138254  138301  138307  \\\n",
       "movieId                  ...                                                   \n",
       "1           4.0     5.0  ...     4.0     3.0     4.0     4.0     2.5     3.5   \n",
       "2           2.0     0.0  ...     3.0     2.0     0.0     3.5     2.5     2.5   \n",
       "3           0.0     0.0  ...     0.0     2.0     0.0     2.0     0.0     0.0   \n",
       "5           0.0     0.0  ...     4.0     2.0     3.5     0.0     0.0     0.0   \n",
       "6           0.0     5.0  ...     4.0     3.0     0.0     4.5     3.5     2.0   \n",
       "\n",
       "userId   138325  138387  138397  138411  \n",
       "movieId                                  \n",
       "1           5.0     2.5     0.0     5.0  \n",
       "2           3.0     3.5     0.0     0.0  \n",
       "3           0.0     3.5     5.0     0.0  \n",
       "5           0.0     2.5     0.0     0.0  \n",
       "6           4.5     0.0     5.0     5.0  \n",
       "\n",
       "[5 rows x 4166 columns]"
      ]
     },
     "execution_count": 180,
     "metadata": {},
     "output_type": "execute_result"
    }
   ],
   "source": [
    "ratings_f1 = pd.merge(movies[['movieId']], df_ratings_drop_users4, on=\"movieId\", how=\"right\")\n",
    "ratings_f2_4 = ratings_f1.pivot(index = 'movieId', columns ='userId', values = 'rating').fillna(0)\n",
    "ratings_f2_4.head()"
   ]
  },
  {
   "cell_type": "markdown",
   "metadata": {},
   "source": [
    "## 2. Model_based recommendation with SVD"
   ]
  },
  {
   "cell_type": "markdown",
   "metadata": {},
   "source": [
    "### (a) Fit model and test with dataset of 1% movies and 1% users"
   ]
  },
  {
   "cell_type": "code",
   "execution_count": 94,
   "metadata": {},
   "outputs": [],
   "source": [
    "# instantiate a reader and read in our rating data\n",
    "reader = Reader(rating_scale=(1, 5))\n",
    "new_data = Dataset.load_from_df(df_ratings_drop_users[['userId','movieId','rating']], reader)"
   ]
  },
  {
   "cell_type": "code",
   "execution_count": 308,
   "metadata": {},
   "outputs": [
    {
     "name": "stdout",
     "output_type": "stream",
     "text": [
      "Evaluating RMSE, MAE of algorithm SVD on 5 split(s).\n",
      "\n",
      "                  Fold 1  Fold 2  Fold 3  Fold 4  Fold 5  Mean    Std     \n",
      "RMSE (testset)    0.7250  0.7218  0.7193  0.7214  0.7200  0.7215  0.0020  \n",
      "MAE (testset)     0.5505  0.5495  0.5481  0.5482  0.5467  0.5486  0.0013  \n",
      "Fit time          12.98   13.21   13.42   13.04   12.98   13.13   0.17    \n",
      "Test time         0.43    14.80   0.35    2.32    0.41    3.66    5.62    \n",
      "{'test_rmse': array([0.72502149, 0.72178855, 0.71929781, 0.7214465 , 0.72001263]), 'test_mae': array([0.55046934, 0.54954561, 0.54808508, 0.54823731, 0.54669265]), 'fit_time': (12.977666854858398, 13.205210208892822, 13.42103385925293, 13.04452919960022, 12.977453708648682), 'test_time': (0.43361520767211914, 14.797943115234375, 0.35070276260375977, 2.3160617351531982, 0.40703392028808594)}\n"
     ]
    },
    {
     "data": {
      "text/plain": [
       "<surprise.prediction_algorithms.matrix_factorization.SVD at 0x1ba5e7ef98>"
      ]
     },
     "execution_count": 308,
     "metadata": {},
     "output_type": "execute_result"
    }
   ],
   "source": [
    "from surprise.model_selection import train_test_split\n",
    "# split the dataset and take 75% as the traing set and 25% as the test set\n",
    "trainset, testset = train_test_split(new_data, test_size=0.25)\n",
    "#trainset_small, testset_small = train_test_split(trainset, test_size=0.25)\n",
    "algorithm = SVD()\n",
    "\n",
    "# use cross_validation to test the accuracy of the training datasetand the test dataset, using metrics RSME and MAE\n",
    "print(cross_validate(algorithm, new_data, measures=['RMSE', 'MAE'], cv=5, verbose=True))\n",
    "\n",
    "start = time.time()\n",
    "\n",
    "# After checking the accuracy metrics, fit the model to the training dataset\n",
    "algorithm.fit(trainset)"
   ]
  },
  {
   "cell_type": "markdown",
   "metadata": {},
   "source": [
    "#### From the cross validation result above, we can tell that the SVD model fits the dataset well as the RMSE and MAE scores are both pretty low. Then we can fit the model to the training set and test the performance on the test set."
   ]
  },
  {
   "cell_type": "code",
   "execution_count": 309,
   "metadata": {},
   "outputs": [
    {
     "name": "stdout",
     "output_type": "stream",
     "text": [
      "15.939538955688477\n",
      "RMSE: 0.7223\n",
      "MAE:  0.5492\n"
     ]
    },
    {
     "data": {
      "text/plain": [
       "0.5491650991762849"
      ]
     },
     "execution_count": 309,
     "metadata": {},
     "output_type": "execute_result"
    }
   ],
   "source": [
    "# Make predictions and check the accurancy according to RMSE and MAE scores\n",
    "predictions = algorithm.test(testset)\n",
    "\n",
    "end = time.time()\n",
    "print(end - start)\n",
    "\n",
    "accuracy.rmse(predictions)\n",
    "accuracy.mae(predictions)"
   ]
  },
  {
   "cell_type": "markdown",
   "metadata": {},
   "source": [
    "#### We want to choose the hyperparameters that optimize the model performance, and we will use each hyperparameter separately to test the model performance."
   ]
  },
  {
   "cell_type": "code",
   "execution_count": 99,
   "metadata": {},
   "outputs": [],
   "source": [
    "# Test some hyperparameters for SVD get the RSME values using each value of them\n",
    "n_epochs = np.array([5, 10, 15, 20])\n",
    "lr_all =  np.array([0.002, 0.005, 0.007, 0.009])\n",
    "reg_all = np.array([0.2, 0.4, 0.6, 0.8])"
   ]
  },
  {
   "cell_type": "code",
   "execution_count": 100,
   "metadata": {},
   "outputs": [
    {
     "name": "stdout",
     "output_type": "stream",
     "text": [
      "RMSE: 0.7925\n",
      "RMSE: 0.7566\n",
      "RMSE: 0.7358\n",
      "RMSE: 0.7259\n",
      "RMSE: 0.7697\n",
      "RMSE: 0.7257\n",
      "RMSE: 0.7228\n",
      "RMSE: 0.7269\n",
      "RMSE: 0.8016\n",
      "RMSE: 0.8146\n",
      "RMSE: 0.8273\n",
      "RMSE: 0.8393\n"
     ]
    }
   ],
   "source": [
    "# Test on different parameters separately\n",
    "n_epochs_score = np.array([1])\n",
    "for i in n_epochs:\n",
    "    algorithm = SVD(n_epochs=i)\n",
    "    algorithm.fit(trainset)\n",
    "    predictions = algorithm.test(testset)\n",
    "    score = accuracy.rmse(predictions)\n",
    "    np.append(n_epochs_score, score)\n",
    "    \n",
    "lr_all_score = np.array([1])\n",
    "for i in lr_all:\n",
    "    algorithm = SVD(lr_all=i)\n",
    "    algorithm.fit(trainset)\n",
    "    predictions = algorithm.test(testset)\n",
    "    score = accuracy.rmse(predictions)\n",
    "    np.append(lr_all_score, score)\n",
    "    \n",
    "reg_all_score = np.array([1])\n",
    "for i in reg_all:\n",
    "    algorithm = SVD(reg_all=i)\n",
    "    algorithm.fit(trainset)\n",
    "    predictions = algorithm.test(testset)\n",
    "    score = accuracy.rmse(predictions)\n",
    "    np.append(reg_all_score, score)"
   ]
  },
  {
   "cell_type": "code",
   "execution_count": 307,
   "metadata": {},
   "outputs": [
    {
     "data": {
      "text/plain": [
       "Text(0, 0.5, 'RMSE')"
      ]
     },
     "execution_count": 307,
     "metadata": {},
     "output_type": "execute_result"
    },
    {
     "data": {
      "image/png": "[encoded data removed]",
      "text/plain": [
       "<Figure size 1152x216 with 3 Axes>"
      ]
     },
     "metadata": {
      "needs_background": "light"
     },
     "output_type": "display_data"
    }
   ],
   "source": [
    "# Plot the accuracy for each parameter choice\n",
    "fig,ax = plt.subplots(1,3,figsize=(16,3))\n",
    "ax[0].plot(n_epochs, np.array([0.7925, 0.7566, 0.7358, 0.7259]))\n",
    "ax[1].plot(lr_all, np.array([0.7697, 0.7257, 0.7228, 0.7269]))\n",
    "ax[2].plot(reg_all, np.array([0.8016, 0.8146, 0.8273, 0.8393]))\n",
    "ax[0].set_xlabel('n_epochs')\n",
    "ax[0].set_ylabel('RMSE')\n",
    "ax[1].set_xlabel('lr_all')\n",
    "ax[1].set_ylabel('RMSE')\n",
    "ax[2].set_xlabel('reg_all')\n",
    "ax[2].set_ylabel('RMSE')"
   ]
  },
  {
   "cell_type": "markdown",
   "metadata": {},
   "source": [
    "#### From the graphs above, we can tell which hyperparameters optimize the model performance based on the RMSE scores."
   ]
  },
  {
   "cell_type": "code",
   "execution_count": 147,
   "metadata": {},
   "outputs": [],
   "source": [
    "# Use the CVGridSearch to find the best hyperparameters for SVD\n",
    "param_grid = {'n_epochs': [5, 10, 15, 20], 'lr_all': [0.002, 0.005, 0.007, 0.009],\n",
    "              'reg_all': [0.2, 0.4, 0.6, 0.8]}\n",
    "\n",
    "gs = GridSearchCV(SVD, param_grid, measures=['rmse', 'mae'], cv=3)\n",
    "\n",
    "gs.fit(new_data)\n",
    "\n",
    "# best RMSE score\n",
    "#print(gs.best_score['rmse']) \n",
    "\n",
    "# combination of parameters that gave the best RMSE score\n",
    "#print(gs.best_params['rmse'])"
   ]
  },
  {
   "cell_type": "markdown",
   "metadata": {},
   "source": [
    "### (b) Fit model and test with dataset of 1% movies and 2% users"
   ]
  },
  {
   "cell_type": "code",
   "execution_count": 663,
   "metadata": {},
   "outputs": [],
   "source": [
    "# instantiate a reader and read in our rating data\n",
    "reader2 = Reader(rating_scale=(1, 5))\n",
    "new_data2 = Dataset.load_from_df(df_ratings_drop_users2[['userId','movieId','rating']], reader2)"
   ]
  },
  {
   "cell_type": "code",
   "execution_count": 666,
   "metadata": {},
   "outputs": [],
   "source": [
    "from surprise.model_selection import train_test_split\n",
    "# split the dataset and take 75% as the traing set and 25% as the test set\n",
    "trainset, testset = train_test_split(new_data2, test_size=0.25)\n",
    "\n",
    "#trainset_small, testset_small = train_test_split(trainset, test_size=0.25)\n",
    "algorithm = SVD()\n",
    "\n",
    "# use cross_validation to test the accuracy of the training datasetand the test dataset, using metrics RSME and MAE\n",
    "print(cross_validate(algorithm, new_data2, measures=['RMSE', 'MAE'], cv=5, verbose=True))\n",
    "\n",
    "start = time.time()\n",
    "# After checking the accuracy metrics, fit the model to the training dataset\n",
    "algorithm.fit(trainset)"
   ]
  },
  {
   "cell_type": "code",
   "execution_count": 321,
   "metadata": {},
   "outputs": [
    {
     "name": "stdout",
     "output_type": "stream",
     "text": [
      "24.61958909034729\n",
      "RMSE: 0.7094\n",
      "MAE:  0.5377\n"
     ]
    },
    {
     "data": {
      "text/plain": [
       "0.5377226357912734"
      ]
     },
     "execution_count": 321,
     "metadata": {},
     "output_type": "execute_result"
    }
   ],
   "source": [
    "# Make predictions and check the accurancy\n",
    "predictions = algorithm.test(testset)\n",
    "\n",
    "end = time.time()\n",
    "print(end - start)\n",
    "\n",
    "accuracy.rmse(predictions)\n",
    "accuracy.mae(predictions)"
   ]
  },
  {
   "cell_type": "markdown",
   "metadata": {},
   "source": [
    "### (c) Fit model and test with dataset of 1% movies and 3% users"
   ]
  },
  {
   "cell_type": "code",
   "execution_count": 322,
   "metadata": {},
   "outputs": [],
   "source": [
    "# instantiate a reader and read in our rating data\n",
    "reader3 = Reader(rating_scale=(1, 5))\n",
    "new_data3 = Dataset.load_from_df(df_ratings_drop_users3[['userId','movieId','rating']], reader3)"
   ]
  },
  {
   "cell_type": "code",
   "execution_count": 323,
   "metadata": {},
   "outputs": [
    {
     "name": "stdout",
     "output_type": "stream",
     "text": [
      "Evaluating RMSE, MAE of algorithm SVD on 5 split(s).\n",
      "\n",
      "                  Fold 1  Fold 2  Fold 3  Fold 4  Fold 5  Mean    Std     \n",
      "RMSE (testset)    0.7042  0.7072  0.7034  0.7069  0.7048  0.7053  0.0015  \n",
      "MAE (testset)     0.5330  0.5363  0.5333  0.5359  0.5333  0.5344  0.0015  \n",
      "Fit time          35.64   35.65   36.40   36.67   35.99   36.07   0.41    \n",
      "Test time         4.40    3.73    3.52    3.69    3.83    3.83    0.30    \n",
      "{'test_rmse': array([0.70419166, 0.70715446, 0.70335024, 0.70690156, 0.70484448]), 'test_mae': array([0.53295448, 0.53634328, 0.53331561, 0.53591159, 0.5332612 ]), 'fit_time': (35.640161991119385, 35.646692991256714, 36.39831781387329, 36.67048788070679, 35.99429225921631), 'test_time': (4.401957988739014, 3.725130796432495, 3.5192582607269287, 3.685580015182495, 3.8293681144714355)}\n"
     ]
    }
   ],
   "source": [
    "# split the dataset and take 75% as the traing set and 25% as the test set\n",
    "trainset, testset = train_test_split(new_data3, test_size=0.25)\n",
    "\n",
    "#trainset_small, testset_small = train_test_split(trainset, test_size=0.25)\n",
    "algorithm = SVD()\n",
    "\n",
    "# use cross_validation to test the accuracy of the training datasetand the test dataset, using metrics RSME and MAE\n",
    "print(cross_validate(algorithm, new_data3, measures=['RMSE', 'MAE'], cv=5, verbose=True))"
   ]
  },
  {
   "cell_type": "code",
   "execution_count": 324,
   "metadata": {},
   "outputs": [
    {
     "data": {
      "text/plain": [
       "<surprise.prediction_algorithms.matrix_factorization.SVD at 0x1ba5de0748>"
      ]
     },
     "execution_count": 324,
     "metadata": {},
     "output_type": "execute_result"
    }
   ],
   "source": [
    "start = time.time()\n",
    "# After checking the accuracy metrics, fit the model to the training dataset\n",
    "algorithm.fit(trainset)"
   ]
  },
  {
   "cell_type": "code",
   "execution_count": 325,
   "metadata": {},
   "outputs": [
    {
     "name": "stdout",
     "output_type": "stream",
     "text": [
      "37.73887896537781\n",
      "RMSE: 0.7072\n",
      "MAE:  0.5358\n"
     ]
    },
    {
     "data": {
      "text/plain": [
       "0.5357692011289796"
      ]
     },
     "execution_count": 325,
     "metadata": {},
     "output_type": "execute_result"
    }
   ],
   "source": [
    "# Make predictions and check the accurancy\n",
    "predictions = algorithm.test(testset)\n",
    "\n",
    "end = time.time()\n",
    "print(end - start)\n",
    "\n",
    "accuracy.rmse(predictions)\n",
    "accuracy.mae(predictions)"
   ]
  },
  {
   "cell_type": "markdown",
   "metadata": {},
   "source": [
    "### (d) Fit model and test with dataset of 2% movies and 3% users"
   ]
  },
  {
   "cell_type": "code",
   "execution_count": 326,
   "metadata": {},
   "outputs": [],
   "source": [
    "# instantiate a reader and read in our rating data\n",
    "reader4 = Reader(rating_scale=(1, 5))\n",
    "new_data4 = Dataset.load_from_df(df_ratings_drop_users4[['userId','movieId','rating']], reader4)"
   ]
  },
  {
   "cell_type": "code",
   "execution_count": 327,
   "metadata": {},
   "outputs": [
    {
     "name": "stdout",
     "output_type": "stream",
     "text": [
      "Evaluating RMSE, MAE of algorithm SVD on 5 split(s).\n",
      "\n",
      "                  Fold 1  Fold 2  Fold 3  Fold 4  Fold 5  Mean    Std     \n",
      "RMSE (testset)    0.7099  0.7073  0.7112  0.7077  0.7086  0.7090  0.0014  \n",
      "MAE (testset)     0.5389  0.5376  0.5399  0.5381  0.5379  0.5385  0.0008  \n",
      "Fit time          60.88   61.28   61.21   64.34   61.31   61.80   1.28    \n",
      "Test time         7.44    8.55    10.60   7.64    11.63   9.18    1.66    \n",
      "{'test_rmse': array([0.70994267, 0.707345  , 0.7112284 , 0.70770184, 0.70862681]), 'test_mae': array([0.53894879, 0.53763629, 0.53988243, 0.53805029, 0.53789282]), 'fit_time': (60.88244295120239, 61.276803970336914, 61.20691990852356, 64.3365261554718, 61.305716037750244), 'test_time': (7.444140195846558, 8.552290916442871, 10.602921962738037, 7.642343044281006, 11.634684801101685)}\n"
     ]
    }
   ],
   "source": [
    "# split the dataset and take 75% as the traing set and 25% as the test set\n",
    "trainset, testset = train_test_split(new_data4, test_size=0.25)\n",
    "\n",
    "#trainset_small, testset_small = train_test_split(trainset, test_size=0.25)\n",
    "algorithm = SVD()\n",
    "\n",
    "# use cross_validation to test the accuracy of the training datasetand the test dataset, using metrics RSME and MAE\n",
    "print(cross_validate(algorithm, new_data4, measures=['RMSE', 'MAE'], cv=5, verbose=True))"
   ]
  },
  {
   "cell_type": "code",
   "execution_count": 328,
   "metadata": {},
   "outputs": [
    {
     "data": {
      "text/plain": [
       "<surprise.prediction_algorithms.matrix_factorization.SVD at 0x1b5c7a4ef0>"
      ]
     },
     "execution_count": 328,
     "metadata": {},
     "output_type": "execute_result"
    }
   ],
   "source": [
    "start = time.time()\n",
    "# After checking the accuracy metrics, fit the model to the training dataset\n",
    "algorithm.fit(trainset)"
   ]
  },
  {
   "cell_type": "code",
   "execution_count": 329,
   "metadata": {},
   "outputs": [
    {
     "name": "stdout",
     "output_type": "stream",
     "text": [
      "72.66835904121399\n",
      "RMSE: 0.7117\n",
      "MAE:  0.5404\n"
     ]
    },
    {
     "data": {
      "text/plain": [
       "0.5403634051912576"
      ]
     },
     "execution_count": 329,
     "metadata": {},
     "output_type": "execute_result"
    }
   ],
   "source": [
    "# Make predictions and check the accurancy\n",
    "predictions = algorithm.test(testset)\n",
    "\n",
    "end = time.time()\n",
    "print(end - start)\n",
    "\n",
    "accuracy.rmse(predictions)\n",
    "accuracy.mae(predictions)"
   ]
  },
  {
   "cell_type": "markdown",
   "metadata": {},
   "source": [
    "### Now look at the RMSE, MAE scores and the run-time of the model on each dataset with different size."
   ]
  },
  {
   "cell_type": "code",
   "execution_count": 342,
   "metadata": {},
   "outputs": [
    {
     "data": {
      "text/plain": [
       "Text(0, 0.5, 'run-time')"
      ]
     },
     "execution_count": 342,
     "metadata": {},
     "output_type": "execute_result"
    },
    {
     "data": {
      "image/png": "[encoded data removed]",
      "text/plain": [
       "<Figure size 1152x216 with 3 Axes>"
      ]
     },
     "metadata": {
      "needs_background": "light"
     },
     "output_type": "display_data"
    }
   ],
   "source": [
    "# Plot the accuracy for each dataset size choice\n",
    "percentage = np.array([310413/20000263, 589681/20000263, 845185/20000263, 1409932/20000263])\n",
    "RMSE_scores = np.array([0.7268, 0.7067, 0.7090, 0.7136])\n",
    "MAE_scores = np. array([0.5524, 0.5365, 0.5373, 0.5407])\n",
    "run_time = np.array([15.939538955688477, 24.61958909034729, 37.73887896537781, 72.66835904121399])\n",
    "fig,ax = plt.subplots(1,3,figsize=(16,3))\n",
    "ax[0].plot(percentage, RMSE_scores)\n",
    "ax[1].plot(percentage, MAE_scores)\n",
    "ax[2].plot(percentage, run_time, color='blue')\n",
    "ax[0].set_ylim(0.5,1)\n",
    "ax[1].set_ylim(0,1)\n",
    "ax[0].set_xlabel('data size')\n",
    "ax[0].set_ylabel('RMSE')\n",
    "ax[1].set_xlabel('data size')\n",
    "ax[1].set_ylabel('MAE')\n",
    "ax[2].set_xlabel('data size')\n",
    "ax[2].set_ylabel('run-time')"
   ]
  },
  {
   "cell_type": "markdown",
   "metadata": {},
   "source": [
    "#### From the two graphs above, we can tell that the RMSE and MAE values do not change a lot as dataset sizes increase.\n",
    "#### As the dataset size increases, the run-time also increases approximatrly linearly with respect to the dataset size. (The run-time includes both the training run-time and testing run-time)"
   ]
  },
  {
   "cell_type": "markdown",
   "metadata": {},
   "source": [
    "### Recommend movies to a given user based on predicted movie ratings"
   ]
  },
  {
   "cell_type": "code",
   "execution_count": 331,
   "metadata": {},
   "outputs": [],
   "source": [
    "# This function make recommendations to a given user based on the movie ratings the user has given\n",
    "# Given a userId, the function predicts all movie ratings of this user and choose the 10 movies with the highest\n",
    "# ratings\n",
    "def pred_user_rating(ui):\n",
    "    if ui in df_ratings_drop_users.userId.unique():\n",
    "        ui_list = df_ratings_drop_users[df_ratings_drop_users.userId == ui].movieId.tolist()\n",
    "        d = {k: v for k,v in Mapping_file.items() if not v in ui_list}        \n",
    "        predictedL = []\n",
    "        for i, j in d.items():     \n",
    "            predicted = algorithm.predict(ui, j)\n",
    "            predictedL.append((i, predicted[3])) \n",
    "        pdf = pd.DataFrame(predictedL, columns = ['movies', 'ratings'])\n",
    "        pdf.sort_values('ratings', ascending=False, inplace=True)  \n",
    "        pdf.set_index('movies', inplace=True)    \n",
    "        return pdf.head(10)        \n",
    "    else:\n",
    "        print(\"User Id does not exist in the list!\")\n",
    "        return None"
   ]
  },
  {
   "cell_type": "code",
   "execution_count": 332,
   "metadata": {},
   "outputs": [
    {
     "data": {
      "text/html": [
       "<div>\n",
       "<style scoped>\n",
       "    .dataframe tbody tr th:only-of-type {\n",
       "        vertical-align: middle;\n",
       "    }\n",
       "\n",
       "    .dataframe tbody tr th {\n",
       "        vertical-align: top;\n",
       "    }\n",
       "\n",
       "    .dataframe thead th {\n",
       "        text-align: right;\n",
       "    }\n",
       "</style>\n",
       "<table border=\"1\" class=\"dataframe\">\n",
       "  <thead>\n",
       "    <tr style=\"text-align: right;\">\n",
       "      <th></th>\n",
       "      <th>ratings</th>\n",
       "    </tr>\n",
       "    <tr>\n",
       "      <th>movies</th>\n",
       "      <th></th>\n",
       "    </tr>\n",
       "  </thead>\n",
       "  <tbody>\n",
       "    <tr>\n",
       "      <th>Dark Knight, The (2008)</th>\n",
       "      <td>4.353475</td>\n",
       "    </tr>\n",
       "    <tr>\n",
       "      <th>300 (2007)</th>\n",
       "      <td>4.094266</td>\n",
       "    </tr>\n",
       "    <tr>\n",
       "      <th>Lock, Stock &amp; Two Smoking Barrels (1998)</th>\n",
       "      <td>4.041330</td>\n",
       "    </tr>\n",
       "    <tr>\n",
       "      <th>Departed, The (2006)</th>\n",
       "      <td>3.939277</td>\n",
       "    </tr>\n",
       "    <tr>\n",
       "      <th>Inception (2010)</th>\n",
       "      <td>3.935722</td>\n",
       "    </tr>\n",
       "    <tr>\n",
       "      <th>Memento (2000)</th>\n",
       "      <td>3.854132</td>\n",
       "    </tr>\n",
       "    <tr>\n",
       "      <th>Good, the Bad and the Ugly, The (Buono, il brutto, il cattivo, Il) (1966)</th>\n",
       "      <td>3.841154</td>\n",
       "    </tr>\n",
       "    <tr>\n",
       "      <th>Army of Darkness (1993)</th>\n",
       "      <td>3.831812</td>\n",
       "    </tr>\n",
       "    <tr>\n",
       "      <th>City of God (Cidade de Deus) (2002)</th>\n",
       "      <td>3.822930</td>\n",
       "    </tr>\n",
       "    <tr>\n",
       "      <th>Inglourious Basterds (2009)</th>\n",
       "      <td>3.815959</td>\n",
       "    </tr>\n",
       "  </tbody>\n",
       "</table>\n",
       "</div>"
      ],
      "text/plain": [
       "                                                     ratings\n",
       "movies                                                      \n",
       "Dark Knight, The (2008)                             4.353475\n",
       "300 (2007)                                          4.094266\n",
       "Lock, Stock & Two Smoking Barrels (1998)            4.041330\n",
       "Departed, The (2006)                                3.939277\n",
       "Inception (2010)                                    3.935722\n",
       "Memento (2000)                                      3.854132\n",
       "Good, the Bad and the Ugly, The (Buono, il brut...  3.841154\n",
       "Army of Darkness (1993)                             3.831812\n",
       "City of God (Cidade de Deus) (2002)                 3.822930\n",
       "Inglourious Basterds (2009)                         3.815959"
      ]
     },
     "execution_count": 332,
     "metadata": {},
     "output_type": "execute_result"
    }
   ],
   "source": [
    "# Given the user with userId 100, make recommendations\n",
    "user_id = 116\n",
    "pred_user_rating(user_id)"
   ]
  },
  {
   "cell_type": "markdown",
   "metadata": {},
   "source": [
    "\n",
    "## 3. Neighborhood-based (item-to-item)"
   ]
  },
  {
   "cell_type": "code",
   "execution_count": 673,
   "metadata": {},
   "outputs": [],
   "source": [
    "# This function returns the matched index of the given movie name in the user-movie matrix\n",
    "def fuzzy_matching(mapper, fav_movie, verbose=True):\n",
    "    match_tuple = []\n",
    "    # get match\n",
    "    for title, idx in mapper.items():\n",
    "        ratio = fuzz.ratio(str(title).lower(), str(fav_movie).lower())\n",
    "        if ratio >= 60:\n",
    "            match_tuple.append((title, idx, ratio))\n",
    "    # sort\n",
    "    match_tuple = sorted(match_tuple, key=lambda x: x[2])[::-1]\n",
    "    if not match_tuple:\n",
    "        print('Oops! No match is found')\n",
    "        return\n",
    "    if verbose:\n",
    "        print('Found possible matches in our database: {0}\\n'.format([x[0] for x in match_tuple]))\n",
    "    return match_tuple[0][1]"
   ]
  },
  {
   "cell_type": "code",
   "execution_count": 674,
   "metadata": {},
   "outputs": [],
   "source": [
    "# This function returns the nearest n movies to recommend based on the given movie\n",
    "def make_recommendation_movie(model_knn, data, mapper, fav_movie, n_recommendations):\n",
    "    # fit\n",
    "    model_knn.fit(data)\n",
    "    # get input movie index\n",
    "    print('You have input movie:', fav_movie)\n",
    "    idx = fuzzy_matching(mapper, fav_movie, verbose=True)\n",
    "    \n",
    "    print('Recommendation system start to make inference')\n",
    "    print('......\\n')\n",
    "    distances, indices = model_knn.kneighbors(data[idx], n_neighbors=n_recommendations+1)\n",
    "    \n",
    "    raw_recommends = sorted(list(zip(indices.squeeze().tolist(), distances.squeeze().tolist())), \n",
    "                            key=lambda x: x[1])[:0:-1]\n",
    "    # get reverse mapper\n",
    "    reverse_mapper = {v: k for k, v in mapper.items()}\n",
    "    # print recommendations\n",
    "    print('Recommendations for {}:'.format(fav_movie))\n",
    "    for i, (idx, dist) in enumerate(raw_recommends):\n",
    "        print('{0}: {1}, with distance of {2}'.format(i+1, reverse_mapper[idx], dist))"
   ]
  },
  {
   "cell_type": "code",
   "execution_count": 675,
   "metadata": {},
   "outputs": [],
   "source": [
    "# Fit the NearestNeighbor model to the user-movie matrix, using cosine distance as the distance metric\n",
    "model_knn = NearestNeighbors(metric='cosine', algorithm='auto', n_neighbors=40, n_jobs=-1)\n",
    "model_knn2 = NearestNeighbors(metric='euclidean', algorithm='auto', n_neighbors=40, n_jobs=-1)\n",
    "\n",
    "movie_user_mat_sparse = csr_matrix(ratings_f2_2.values)"
   ]
  },
  {
   "cell_type": "code",
   "execution_count": 676,
   "metadata": {},
   "outputs": [],
   "source": [
    "# Map movie titles to movie Index in the user-movie matrix\n",
    "movie_to_idx = {\n",
    "    movie: i for i, movie in \n",
    "    enumerate(list(movies.set_index('movieId').loc[ratings_f2_2.index].title))\n",
    "}"
   ]
  },
  {
   "cell_type": "code",
   "execution_count": 677,
   "metadata": {},
   "outputs": [
    {
     "name": "stdout",
     "output_type": "stream",
     "text": [
      "You have input movie: Batman\n",
      "Found possible matches in our database: ['Batman (1989)']\n",
      "\n",
      "Recommendation system start to make inference\n",
      "......\n",
      "\n",
      "Recommendations for Batman:\n",
      "1: Silence of the Lambs, The (1991), with distance of 0.05042044641102672\n",
      "2: Star Wars: Episode IV - A New Hope (1977), with distance of 0.04952833520632005\n",
      "3: Indiana Jones and the Last Crusade (1989), with distance of 0.04811177989958182\n",
      "4: Terminator 2: Judgment Day (1991), with distance of 0.04805285120386904\n",
      "5: Star Wars: Episode V - The Empire Strikes Back (1980), with distance of 0.04794701150978842\n",
      "6: Ghostbusters (a.k.a. Ghost Busters) (1984), with distance of 0.045728549997158474\n",
      "7: Jurassic Park (1993), with distance of 0.04509976515511649\n",
      "8: Back to the Future (1985), with distance of 0.04504522353279772\n",
      "9: Raiders of the Lost Ark (Indiana Jones and the Raiders of the Lost Ark) (1981), with distance of 0.04380069063920822\n",
      "10: Matrix, The (1999), with distance of 0.04378800148564488\n"
     ]
    }
   ],
   "source": [
    "# Now test the recommendation function given the inpout movie 'Maleficent'\n",
    "testMovie =  'Batman'\n",
    "\n",
    "make_recommendation_movie(\n",
    "    model_knn=model_knn,\n",
    "    data=movie_user_mat_sparse,\n",
    "    fav_movie=testMovie,\n",
    "    mapper=movie_to_idx,\n",
    "    n_recommendations=10)"
   ]
  },
  {
   "cell_type": "code",
   "execution_count": 678,
   "metadata": {},
   "outputs": [
    {
     "name": "stdout",
     "output_type": "stream",
     "text": [
      "You have input movie: Batman\n",
      "Found possible matches in our database: ['Batman (1989)']\n",
      "\n",
      "Recommendation system start to make inference\n",
      "......\n",
      "\n",
      "Recommendations for Batman:\n",
      "1: Speed (1994), with distance of 67.61471733284108\n",
      "2: Star Wars: Episode VI - Return of the Jedi (1983), with distance of 67.30527468185537\n",
      "3: Terminator, The (1984), with distance of 67.28670002311007\n",
      "4: Fugitive, The (1993), with distance of 66.6258208204597\n",
      "5: Terminator 2: Judgment Day (1991), with distance of 64.85753618508801\n",
      "6: Indiana Jones and the Last Crusade (1989), with distance of 64.34865965970076\n",
      "7: Back to the Future (1985), with distance of 64.1833311693932\n",
      "8: Men in Black (a.k.a. MIB) (1997), with distance of 61.79603547154137\n",
      "9: Ghostbusters (a.k.a. Ghost Busters) (1984), with distance of 60.66712454039667\n",
      "10: Jurassic Park (1993), with distance of 58.35451996203893\n"
     ]
    }
   ],
   "source": [
    "make_recommendation_movie(\n",
    "    model_knn=model_knn2,\n",
    "    data=movie_user_mat_sparse,\n",
    "    fav_movie=testMovie,\n",
    "    mapper=movie_to_idx,\n",
    "    n_recommendations=10)"
   ]
  },
  {
   "cell_type": "code",
   "execution_count": null,
   "metadata": {},
   "outputs": [],
   "source": []
  }
 ],
 "metadata": {
  "kernelspec": {
   "display_name": "Python 3",
   "language": "python",
   "name": "python3"
  },
  "language_info": {
   "codemirror_mode": {
    "name": "ipython",
    "version": 3
   },
   "file_extension": ".py",
   "mimetype": "text/x-python",
   "name": "python",
   "nbconvert_exporter": "python",
   "pygments_lexer": "ipython3",
   "version": "3.7.3"
  }
 },
 "nbformat": 4,
 "nbformat_minor": 2
}
