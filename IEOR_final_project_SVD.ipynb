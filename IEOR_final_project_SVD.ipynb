{
 "cells": [
  {
   "cell_type": "markdown",
   "metadata": {},
   "source": [
    "## 1. Data Loading"
   ]
  },
  {
   "cell_type": "code",
   "execution_count": 2,
   "metadata": {},
   "outputs": [
    {
     "name": "stderr",
     "output_type": "stream",
     "text": [
      "/Users/chenlujia/anaconda3/lib/python3.7/site-packages/fuzzywuzzy/fuzz.py:11: UserWarning: Using slow pure-python SequenceMatcher. Install python-Levenshtein to remove this warning\n",
      "  warnings.warn('Using slow pure-python SequenceMatcher. Install python-Levenshtein to remove this warning')\n"
     ]
    }
   ],
   "source": [
    "# import all packages needed\n",
    "import pandas as pd\n",
    "import json\n",
    "from tqdm import tqdm\n",
    "import numpy as np\n",
    "import matplotlib.pyplot as plt \n",
    "import os\n",
    "import sys\n",
    "import time\n",
    "import pickle\n",
    "from sklearn.dummy import DummyClassifier\n",
    "from surprise import Dataset, Reader, SVD, accuracy\n",
    "from surprise.model_selection import GridSearchCV\n",
    "from surprise.model_selection import cross_validate\n",
    "from surprise.model_selection import train_test_split\n",
    "from fuzzywuzzy import fuzz\n",
    "from scipy.sparse import csr_matrix\n",
    "import seaborn as sns\n",
    "import matplotlib.pyplot as plt\n",
    "plt.style.use('ggplot')\n",
    "\n",
    "%matplotlib inline"
   ]
  },
  {
   "cell_type": "code",
   "execution_count": 3,
   "metadata": {},
   "outputs": [
    {
     "name": "stderr",
     "output_type": "stream",
     "text": [
      "100%|██████████| 6685900/6685900 [00:59<00:00, 112618.01it/s]\n"
     ]
    }
   ],
   "source": [
    "# load the dataset and find the active users\n",
    "import pandas as pd\n",
    "import json\n",
    "from tqdm import tqdm\n",
    "line_count = len(open(\"yelp_dataset/review.json\").readlines())\n",
    "user_ids, business_ids, stars, dates = [], [], [], []\n",
    "with open(\"yelp_dataset/review.json\") as f:\n",
    "    for line in tqdm(f, total=line_count):\n",
    "        blob = json.loads(line)\n",
    "        user_ids += [blob[\"user_id\"]]\n",
    "        business_ids += [blob[\"business_id\"]]\n",
    "        stars += [blob[\"stars\"]]\n",
    "        dates += [blob[\"date\"]]\n",
    "ratings = pd.DataFrame(\n",
    "    {\"user_id\": user_ids, \"business_id\": business_ids, \"rating\": stars, \"date\": dates}\n",
    ")\n",
    "user_counts = ratings[\"user_id\"].value_counts()\n",
    "active_users = user_counts.loc[user_counts >= 5].index.tolist()"
   ]
  },
  {
   "cell_type": "code",
   "execution_count": 3,
   "metadata": {},
   "outputs": [
    {
     "data": {
      "text/html": [
       "<div>\n",
       "<style scoped>\n",
       "    .dataframe tbody tr th:only-of-type {\n",
       "        vertical-align: middle;\n",
       "    }\n",
       "\n",
       "    .dataframe tbody tr th {\n",
       "        vertical-align: top;\n",
       "    }\n",
       "\n",
       "    .dataframe thead th {\n",
       "        text-align: right;\n",
       "    }\n",
       "</style>\n",
       "<table border=\"1\" class=\"dataframe\">\n",
       "  <thead>\n",
       "    <tr style=\"text-align: right;\">\n",
       "      <th></th>\n",
       "      <th>user_id</th>\n",
       "      <th>business_id</th>\n",
       "      <th>rating</th>\n",
       "      <th>date</th>\n",
       "    </tr>\n",
       "  </thead>\n",
       "  <tbody>\n",
       "    <tr>\n",
       "      <th>0</th>\n",
       "      <td>hG7b0MtEbXx5QzbzE6C_VA</td>\n",
       "      <td>ujmEBvifdJM6h6RLv4wQIg</td>\n",
       "      <td>1.0</td>\n",
       "      <td>2013-05-07 04:34:36</td>\n",
       "    </tr>\n",
       "    <tr>\n",
       "      <th>1</th>\n",
       "      <td>yXQM5uF2jS6es16SJzNHfg</td>\n",
       "      <td>NZnhc2sEQy3RmzKTZnqtwQ</td>\n",
       "      <td>5.0</td>\n",
       "      <td>2017-01-14 21:30:33</td>\n",
       "    </tr>\n",
       "    <tr>\n",
       "      <th>2</th>\n",
       "      <td>n6-Gk65cPZL6Uz8qRm3NYw</td>\n",
       "      <td>WTqjgwHlXbSFevF32_DJVw</td>\n",
       "      <td>5.0</td>\n",
       "      <td>2016-11-09 20:09:03</td>\n",
       "    </tr>\n",
       "    <tr>\n",
       "      <th>3</th>\n",
       "      <td>dacAIZ6fTM6mqwW5uxkskg</td>\n",
       "      <td>ikCg8xy5JIg_NGPx-MSIDA</td>\n",
       "      <td>5.0</td>\n",
       "      <td>2018-01-09 20:56:38</td>\n",
       "    </tr>\n",
       "    <tr>\n",
       "      <th>4</th>\n",
       "      <td>ssoyf2_x0EQMed6fgHeMyQ</td>\n",
       "      <td>b1b1eb3uo-w561D0ZfCEiQ</td>\n",
       "      <td>1.0</td>\n",
       "      <td>2018-01-30 23:07:38</td>\n",
       "    </tr>\n",
       "  </tbody>\n",
       "</table>\n",
       "</div>"
      ],
      "text/plain": [
       "                  user_id             business_id  rating                 date\n",
       "0  hG7b0MtEbXx5QzbzE6C_VA  ujmEBvifdJM6h6RLv4wQIg     1.0  2013-05-07 04:34:36\n",
       "1  yXQM5uF2jS6es16SJzNHfg  NZnhc2sEQy3RmzKTZnqtwQ     5.0  2017-01-14 21:30:33\n",
       "2  n6-Gk65cPZL6Uz8qRm3NYw  WTqjgwHlXbSFevF32_DJVw     5.0  2016-11-09 20:09:03\n",
       "3  dacAIZ6fTM6mqwW5uxkskg  ikCg8xy5JIg_NGPx-MSIDA     5.0  2018-01-09 20:56:38\n",
       "4  ssoyf2_x0EQMed6fgHeMyQ  b1b1eb3uo-w561D0ZfCEiQ     1.0  2018-01-30 23:07:38"
      ]
     },
     "execution_count": 3,
     "metadata": {},
     "output_type": "execute_result"
    }
   ],
   "source": [
    "ratings.head()"
   ]
  },
  {
   "cell_type": "markdown",
   "metadata": {},
   "source": [
    "## 2. Baseline Model by DummyClassifier"
   ]
  },
  {
   "cell_type": "code",
   "execution_count": 5,
   "metadata": {},
   "outputs": [],
   "source": [
    "# select the active users in the dataset\n",
    "ratings_active = ratings[ratings.user_id.isin(active_users)]"
   ]
  },
  {
   "cell_type": "code",
   "execution_count": 6,
   "metadata": {},
   "outputs": [],
   "source": [
    "# hold the last rating of each user as the test set, and the other ratings of each user as training set\n",
    "ratings_group = ratings_active.groupby('user_id', as_index=False)"
   ]
  },
  {
   "cell_type": "code",
   "execution_count": 7,
   "metadata": {},
   "outputs": [],
   "source": [
    "ratings_byDate = ratings_group.apply(lambda _ratings_group: _ratings_group.sort_values(by=['date']))"
   ]
  },
  {
   "cell_type": "code",
   "execution_count": 8,
   "metadata": {},
   "outputs": [],
   "source": [
    "ratings_byDate = ratings_byDate.set_index('user_id')"
   ]
  },
  {
   "cell_type": "code",
   "execution_count": 9,
   "metadata": {},
   "outputs": [],
   "source": [
    "ratings_test = ratings_byDate.groupby('user_id').tail(1)"
   ]
  },
  {
   "cell_type": "code",
   "execution_count": 10,
   "metadata": {},
   "outputs": [],
   "source": [
    "ratings_train = ratings_byDate.groupby('user_id').apply(lambda _ratings_byDate: _ratings_byDate.iloc[:-1])"
   ]
  },
  {
   "cell_type": "code",
   "execution_count": 11,
   "metadata": {},
   "outputs": [],
   "source": [
    "ratings_train.reset_index(level=0, inplace=True)\n",
    "ratings_test.reset_index(level=0, inplace=True)"
   ]
  },
  {
   "cell_type": "code",
   "execution_count": 12,
   "metadata": {},
   "outputs": [],
   "source": [
    "ratings_train_x = ratings_train.iloc[:,:2]\n",
    "ratings_train_y = ratings_train.iloc[:,2]\n",
    "ratings_test_x = ratings_test.iloc[:,:2]\n",
    "ratings_test_y = ratings_test.iloc[:,2]"
   ]
  },
  {
   "cell_type": "code",
   "execution_count": 71,
   "metadata": {},
   "outputs": [
    {
     "data": {
      "text/plain": [
       "DummyClassifier(constant=None, random_state=None, strategy='most_frequent')"
      ]
     },
     "execution_count": 71,
     "metadata": {},
     "output_type": "execute_result"
    }
   ],
   "source": [
    "# Baseline test (DummyClassifier)\n",
    "dummyModel = DummyClassifier(strategy=\"most_frequent\")\n",
    "dummyModel.fit(ratings_train_x, ratings_train_y)"
   ]
  },
  {
   "cell_type": "code",
   "execution_count": 73,
   "metadata": {},
   "outputs": [
    {
     "name": "stdout",
     "output_type": "stream",
     "text": [
      "0.5028728200468319\n"
     ]
    }
   ],
   "source": [
    "print(dummyModel.score(ratings_test_x, ratings_test_y))"
   ]
  },
  {
   "cell_type": "markdown",
   "metadata": {},
   "source": [
    "As seen above, we used the DummyClassifier from sklearn package as our baseline model. We treat the problem as a classifier problem as there are 5 possible outcomes for the ratings. When tested on the baseline model, we get the mean accuracy score 0.5, which we treat as our baseline accuracy."
   ]
  },
  {
   "cell_type": "markdown",
   "metadata": {},
   "source": [
    "## 3. SVD Model"
   ]
  },
  {
   "cell_type": "code",
   "execution_count": 23,
   "metadata": {},
   "outputs": [],
   "source": [
    "# instantiate a reader and read in our rating data\n",
    "reader = Reader(rating_scale=(1, 5))\n",
    "new_data_train = Dataset.load_from_df(ratings_train[['user_id','business_id','rating']], reader)\n",
    "new_data_test = Dataset.load_from_df(ratings_test[['user_id','business_id','rating']], reader)"
   ]
  },
  {
   "cell_type": "code",
   "execution_count": 44,
   "metadata": {},
   "outputs": [
    {
     "name": "stdout",
     "output_type": "stream",
     "text": [
      "Evaluating FCP, MAE of algorithm SVD on 5 split(s).\n",
      "\n",
      "                  Fold 1  Fold 2  Fold 3  Fold 4  Fold 5  Mean    Std     \n",
      "FCP (testset)     0.5899  0.5911  0.5883  0.5880  0.5913  0.5897  0.0014  \n",
      "MAE (testset)     0.9464  0.9464  0.9462  0.9458  0.9441  0.9458  0.0009  \n",
      "Fit time          220.30  209.43  224.96  223.75  216.70  219.03  5.60    \n",
      "Test time         33.85   56.07   51.44   58.34   33.85   46.71   10.73   \n",
      "{'test_fcp': array([0.58985751, 0.59107861, 0.58832375, 0.58797544, 0.59127529]), 'test_mae': array([0.94642572, 0.9464262 , 0.9462291 , 0.94575678, 0.94410832]), 'fit_time': (220.30108380317688, 209.42786407470703, 224.9608130455017, 223.7523012161255, 216.69667887687683), 'test_time': (33.84821009635925, 56.06706786155701, 51.436155796051025, 58.34398007392883, 33.84874224662781)}\n"
     ]
    }
   ],
   "source": [
    "# instantiate the model\n",
    "algorithm = SVD()\n",
    "\n",
    "# use cross_validation to test the accuracy of the training datasetand the test dataset, using metrics RSME and MAE\n",
    "print(cross_validate(algorithm, new_data_train, measures=['FCP', 'MAE'], cv=5, verbose=True))"
   ]
  },
  {
   "cell_type": "markdown",
   "metadata": {},
   "source": [
    "As shown above, we use SVD model to cross validate on the training set, and the FCP and MAE scores indicate that the model fits pretty well on the training set. "
   ]
  },
  {
   "cell_type": "code",
   "execution_count": 43,
   "metadata": {},
   "outputs": [],
   "source": [
    "# Get the trainset and testset\n",
    "trainset, testset_null = train_test_split(new_data_train, test_size=0.001)\n",
    "trainset_null, testset = train_test_split(new_data_test, test_size=0.999)"
   ]
  },
  {
   "cell_type": "code",
   "execution_count": 38,
   "metadata": {},
   "outputs": [
    {
     "name": "stdout",
     "output_type": "stream",
     "text": [
      "228.2971429824829\n"
     ]
    }
   ],
   "source": [
    "start = time.time()\n",
    "# After checking the accuracy metrics, fit the model to the training dataset\n",
    "algorithm.fit(trainset)\n",
    "\n",
    "# Make predictions and check the accurancy\n",
    "predictions = algorithm.test(testset)\n",
    "\n",
    "end = time.time()\n",
    "print(end - start)"
   ]
  },
  {
   "cell_type": "markdown",
   "metadata": {},
   "source": [
    "## 3.1 Train on all active users and test on different groups of users"
   ]
  },
  {
   "cell_type": "markdown",
   "metadata": {},
   "source": [
    "### 3.1.1 Accuracy scores for all active users"
   ]
  },
  {
   "cell_type": "code",
   "execution_count": 41,
   "metadata": {},
   "outputs": [
    {
     "name": "stdout",
     "output_type": "stream",
     "text": [
      "FCP:  0.5911\n",
      "MAE:  0.9484\n"
     ]
    },
    {
     "data": {
      "text/plain": [
       "0.9483691153864773"
      ]
     },
     "execution_count": 41,
     "metadata": {},
     "output_type": "execute_result"
    }
   ],
   "source": [
    "accuracy.fcp(predictions)\n",
    "accuracy.mae(predictions)"
   ]
  },
  {
   "cell_type": "markdown",
   "metadata": {},
   "source": [
    "As shown above, we train the SVD model on the training set and test it on the testset. From the FCP score and the MAE score, we can tell that the model also gives good predictions for the testset."
   ]
  },
  {
   "cell_type": "code",
   "execution_count": 62,
   "metadata": {},
   "outputs": [
    {
     "name": "stdout",
     "output_type": "stream",
     "text": [
      "user_id: D43OWyfzIQjL8feJpYh2SQ  predicted_rating: 4.228982083535216  actual_rating: 5.0\n",
      "user_id: K-nJvlZKQOHp1R5CkHh0Eg  predicted_rating: 3.9655607191279367  actual_rating: 3.0\n",
      "user_id: g5ihTl7F8VmVuKHtpPYCaw  predicted_rating: 3.798063529906925  actual_rating: 2.0\n",
      "user_id: ntLOxCEnWYT4nbqm8s2OEA  predicted_rating: 3.787484031657568  actual_rating: 4.0\n",
      "user_id: 2wt-t_0TwwU5XqZY-b5ZUA  predicted_rating: 3.0902782380266127  actual_rating: 4.0\n",
      "user_id: zerj914l8J7o6tHDtun42A  predicted_rating: 4.752392593452944  actual_rating: 5.0\n",
      "user_id: -w97ixdca92JmfcSot7FOQ  predicted_rating: 3.79611479162273  actual_rating: 4.0\n",
      "user_id: -8MACpGwGFRa-oyecgJRRg  predicted_rating: 3.5222860053179867  actual_rating: 1.0\n",
      "user_id: y2V68RT5BkIFT9LEVfCvJQ  predicted_rating: 3.445527373573  actual_rating: 5.0\n",
      "user_id: T8qlIljTLURyvSm5ZIlrjw  predicted_rating: 3.263664341974304  actual_rating: 3.0\n",
      "user_id: uJ7xdV3rgKPM0ufyZn7Lfw  predicted_rating: 3.3128902565930147  actual_rating: 4.0\n",
      "user_id: ebbf9ysSqQi46_jxEX_m-g  predicted_rating: 4.274676880871416  actual_rating: 5.0\n",
      "user_id: 92e_B3VDY5TqxVYsKuNzKg  predicted_rating: 4.183053736008577  actual_rating: 4.0\n",
      "user_id: qpujBDnG3HIys1duA_SJow  predicted_rating: 3.5632245568195327  actual_rating: 4.0\n",
      "user_id: MbC0xPzIdGkFMCpPb8yWDA  predicted_rating: 3.4860948150202704  actual_rating: 4.0\n",
      "user_id: EKpcPppK6iQv0fO0j-Fv-A  predicted_rating: 3.445578314742093  actual_rating: 4.0\n",
      "user_id: 7OptLGL-tUb00E1Mw_fcVA  predicted_rating: 4.814235836875416  actual_rating: 5.0\n",
      "user_id: lJFBgSAccsMGwIjfD7LMeQ  predicted_rating: 4.055039007681574  actual_rating: 4.0\n",
      "user_id: -NwDw6HgVpA4ys6WYcI6Xg  predicted_rating: 3.818654765736895  actual_rating: 4.0\n",
      "user_id: 6WKZ2Aowzhp3gtOkc8n3HQ  predicted_rating: 4.058791668935554  actual_rating: 5.0\n"
     ]
    }
   ],
   "source": [
    "for index in predictions[:20]:\n",
    "    print('user_id:',index[0], ' predicted_rating:',index[3], ' actual_rating:',index[2])"
   ]
  },
  {
   "cell_type": "markdown",
   "metadata": {},
   "source": [
    "The information above is from the predictions given by the model for the first 20 users' last ratings. Both the real ratings and the predicted ratings are shown. Comparing the predicted ratings and the real ratings, most of them are close to each other for the same user."
   ]
  },
  {
   "cell_type": "markdown",
   "metadata": {},
   "source": [
    "### 3.1.2 Accuracy scores for last 10k active users (not prolific)"
   ]
  },
  {
   "cell_type": "code",
   "execution_count": 191,
   "metadata": {},
   "outputs": [],
   "source": [
    "# Get the rating predictions for last 10k active users\n",
    "last_10k_users = []\n",
    "for i in range(len(predictions)):\n",
    "    if predictions[i][0] in ratings_test.user_id[-10000:].tolist():\n",
    "        last_10k_users.append(predictions[i])"
   ]
  },
  {
   "cell_type": "code",
   "execution_count": 119,
   "metadata": {},
   "outputs": [
    {
     "name": "stdout",
     "output_type": "stream",
     "text": [
      "FCP:  0.5798\n",
      "MAE:  0.9569\n"
     ]
    },
    {
     "data": {
      "text/plain": [
       "0.9569484993480656"
      ]
     },
     "execution_count": 119,
     "metadata": {},
     "output_type": "execute_result"
    }
   ],
   "source": [
    "# get the accuracy scores for the last 10k active users\n",
    "accuracy.fcp(last_10k_users)\n",
    "accuracy.mae(last_10k_users)"
   ]
  },
  {
   "cell_type": "markdown",
   "metadata": {},
   "source": [
    "### 3.1.3 Accuracy scores for first 10k active users (prolific)"
   ]
  },
  {
   "cell_type": "code",
   "execution_count": 120,
   "metadata": {},
   "outputs": [],
   "source": [
    "# get the rating predictions for the first 10k active users\n",
    "first_10k_users = []\n",
    "for i in range(len(predictions)):\n",
    "    if predictions[i][0] in ratings_test.user_id[:10000].tolist():\n",
    "        first_10k_users.append(predictions[i])"
   ]
  },
  {
   "cell_type": "code",
   "execution_count": 121,
   "metadata": {},
   "outputs": [
    {
     "name": "stdout",
     "output_type": "stream",
     "text": [
      "FCP:  0.5961\n",
      "MAE:  0.9478\n"
     ]
    },
    {
     "data": {
      "text/plain": [
       "0.9477894591245409"
      ]
     },
     "execution_count": 121,
     "metadata": {},
     "output_type": "execute_result"
    }
   ],
   "source": [
    "# get the accuracy scores for the first 10k active users\n",
    "accuracy.fcp(first_10k_users)\n",
    "accuracy.mae(first_10k_users)"
   ]
  },
  {
   "cell_type": "markdown",
   "metadata": {},
   "source": [
    "### 3.1.4 Accuracy scores for second last 10k active users (not prolific)"
   ]
  },
  {
   "cell_type": "code",
   "execution_count": 141,
   "metadata": {},
   "outputs": [],
   "source": [
    "# get the rating predictions for the second last 10k active users\n",
    "second_last_10k_users = []\n",
    "for i in range(len(predictions)):\n",
    "    if predictions[i][0] in ratings_test.user_id[-20000:-10000].tolist():\n",
    "        second_last_10k_users.append(predictions[i])"
   ]
  },
  {
   "cell_type": "code",
   "execution_count": 142,
   "metadata": {},
   "outputs": [
    {
     "name": "stdout",
     "output_type": "stream",
     "text": [
      "FCP:  0.5986\n",
      "MAE:  0.9523\n"
     ]
    },
    {
     "data": {
      "text/plain": [
       "0.9523215785091909"
      ]
     },
     "execution_count": 142,
     "metadata": {},
     "output_type": "execute_result"
    }
   ],
   "source": [
    "# get the accuracy scores for the second last 10k active users\n",
    "accuracy.fcp(second_last_10k_users)\n",
    "accuracy.mae(second_last_10k_users)"
   ]
  },
  {
   "cell_type": "markdown",
   "metadata": {},
   "source": [
    "Now we draw a line chart to compare the accuracy scores for different user groups, including all active users, the first 10k prolific users and the first 10k non-prolific users. \n",
    "\n",
    "As shown in the charts below, there's no big difference in the accuracy scores for different groups of users for the SVD model according to the users' activeness if trained on the dataset of all active users."
   ]
  },
  {
   "cell_type": "code",
   "execution_count": 143,
   "metadata": {},
   "outputs": [
    {
     "data": {
      "text/plain": [
       "Text(0, 0.5, 'MAE score')"
      ]
     },
     "execution_count": 143,
     "metadata": {},
     "output_type": "execute_result"
    },
    {
     "data": {
      "image/png": "[encoded data removed]",
      "text/plain": [
       "<Figure size 864x432 with 2 Axes>"
      ]
     },
     "metadata": {
      "needs_background": "light"
     },
     "output_type": "display_data"
    }
   ],
   "source": [
    "fig, ax=plt.subplots(1,2,figsize=(12,6))\n",
    "ax[0].plot(['all_users','first_10k_users','last_10k_users','second_last_10k_users'],[0.5911,0.5961,0.5798,0.5986])\n",
    "ax[0].set_ylim(0,1)\n",
    "ax[0].set_xlabel('User Groups')\n",
    "ax[0].set_ylabel('FCP score')\n",
    "ax[1].plot(['all_users','first_10k_users','last_10k_users','second_last_10k_users'],[0.9484,0.9478,0.9569,0.9523])\n",
    "ax[1].set_ylim(0.8,1)\n",
    "ax[1].set_xlabel('User Groups')\n",
    "ax[1].set_ylabel('MAE score')"
   ]
  },
  {
   "cell_type": "markdown",
   "metadata": {},
   "source": [
    "## 3.2 Train and Test on less prolific users"
   ]
  },
  {
   "cell_type": "markdown",
   "metadata": {},
   "source": [
    "### 3.2.1 Accuracy scores for users with 5-10 reviews"
   ]
  },
  {
   "cell_type": "code",
   "execution_count": 145,
   "metadata": {},
   "outputs": [],
   "source": [
    "ratings_byDate.reset_index(level=0, inplace=True)"
   ]
  },
  {
   "cell_type": "code",
   "execution_count": 186,
   "metadata": {},
   "outputs": [
    {
     "name": "stdout",
     "output_type": "stream",
     "text": [
      "79.16412472724915\n"
     ]
    }
   ],
   "source": [
    "user_counts = ratings_byDate[\"user_id\"].value_counts()\n",
    "active_users = user_counts.loc[user_counts <= 10].index.tolist()\n",
    "ratings_less_than_10 = ratings_byDate[ratings_byDate.user_id.isin(active_users)]\n",
    "\n",
    "ratings_train = ratings_less_than_10.groupby('user_id').apply(lambda _ratings_less_than_10: _ratings_less_than_10.iloc[:-1])\n",
    "ratings_test = ratings_less_than_10.groupby('user_id').tail(1)\n",
    "\n",
    "# instantiate a reader and read in our rating data\n",
    "reader = Reader(rating_scale=(1, 5))\n",
    "new_data_train = Dataset.load_from_df(ratings_train[['user_id','business_id','rating']], reader)\n",
    "new_data_test = Dataset.load_from_df(ratings_test[['user_id','business_id','rating']], reader)\n",
    "\n",
    "# instantiate the model\n",
    "algorithm = SVD()\n",
    "\n",
    "# use cross_validation to test the accuracy of the training datasetand the test dataset, using metrics RSME and MAE\n",
    "#print(cross_validate(algorithm, new_data_train, measures=['FCP', 'MAE'], cv=5, verbose=True))\n",
    "\n",
    "# Get the trainset and testset\n",
    "trainset, testset_null = train_test_split(new_data_train, test_size=0.001)\n",
    "trainset_null, testset = train_test_split(new_data_test, test_size=0.999)\n",
    "\n",
    "start = time.time()\n",
    "# After checking the accuracy metrics, fit the model to the training dataset\n",
    "algorithm.fit(trainset)\n",
    "\n",
    "# Make predictions and check the accurancy\n",
    "predictions = algorithm.test(testset)\n",
    "\n",
    "end = time.time()\n",
    "print(end - start)"
   ]
  },
  {
   "cell_type": "code",
   "execution_count": 160,
   "metadata": {},
   "outputs": [
    {
     "name": "stdout",
     "output_type": "stream",
     "text": [
      "RMSE: 1.3680\n",
      "MAE:  1.1263\n"
     ]
    },
    {
     "data": {
      "text/plain": [
       "1.126280843782891"
      ]
     },
     "execution_count": 160,
     "metadata": {},
     "output_type": "execute_result"
    }
   ],
   "source": [
    "accuracy.rmse(predictions)\n",
    "accuracy.mae(predictions)"
   ]
  },
  {
   "cell_type": "code",
   "execution_count": 187,
   "metadata": {},
   "outputs": [
    {
     "data": {
      "text/plain": [
       "177398"
      ]
     },
     "execution_count": 187,
     "metadata": {},
     "output_type": "execute_result"
    }
   ],
   "source": [
    "len(predictions)"
   ]
  },
  {
   "cell_type": "markdown",
   "metadata": {},
   "source": [
    "### 3.2.2 Accuracy scores for users with 5-7 reviews"
   ]
  },
  {
   "cell_type": "code",
   "execution_count": 184,
   "metadata": {},
   "outputs": [
    {
     "name": "stdout",
     "output_type": "stream",
     "text": [
      "37.11776685714722\n"
     ]
    }
   ],
   "source": [
    "user_counts = ratings_byDate[\"user_id\"].value_counts()\n",
    "active_users = user_counts.loc[user_counts <= 7].index.tolist()\n",
    "ratings_less_than_7 = ratings_byDate[ratings_byDate.user_id.isin(active_users)]\n",
    "\n",
    "ratings_train = ratings_less_than_7.groupby('user_id').apply(lambda _ratings_less_than_7: _ratings_less_than_7.iloc[:-1])\n",
    "ratings_test = ratings_less_than_7.groupby('user_id').tail(1)\n",
    "\n",
    "# instantiate a reader and read in our rating data\n",
    "reader = Reader(rating_scale=(1, 5))\n",
    "new_data_train = Dataset.load_from_df(ratings_train[['user_id','business_id','rating']], reader)\n",
    "new_data_test = Dataset.load_from_df(ratings_test[['user_id','business_id','rating']], reader)\n",
    "\n",
    "# instantiate the model\n",
    "algorithm = SVD()\n",
    "\n",
    "# Get the trainset and testset\n",
    "trainset, testset_null = train_test_split(new_data_train, test_size=0.001)\n",
    "trainset_null, testset = train_test_split(new_data_test, test_size=0.999)\n",
    "\n",
    "start = time.time()\n",
    "# After checking the accuracy metrics, fit the model to the training dataset\n",
    "algorithm.fit(trainset)\n",
    "\n",
    "# Make predictions and check the accurancy\n",
    "predictions = algorithm.test(testset)\n",
    "\n",
    "end = time.time()\n",
    "print(end - start)"
   ]
  },
  {
   "cell_type": "code",
   "execution_count": 162,
   "metadata": {},
   "outputs": [
    {
     "name": "stdout",
     "output_type": "stream",
     "text": [
      "RMSE: 1.3878\n",
      "MAE:  1.1556\n"
     ]
    },
    {
     "data": {
      "text/plain": [
       "1.1556315553186534"
      ]
     },
     "execution_count": 162,
     "metadata": {},
     "output_type": "execute_result"
    }
   ],
   "source": [
    "accuracy.rmse(predictions)\n",
    "accuracy.mae(predictions)"
   ]
  },
  {
   "cell_type": "code",
   "execution_count": 185,
   "metadata": {},
   "outputs": [
    {
     "data": {
      "text/plain": [
       "123057"
      ]
     },
     "execution_count": 185,
     "metadata": {},
     "output_type": "execute_result"
    }
   ],
   "source": [
    "len(predictions)"
   ]
  },
  {
   "cell_type": "markdown",
   "metadata": {},
   "source": [
    "### 3.2.3 Accuracy scores for users with 5-15 reviews"
   ]
  },
  {
   "cell_type": "code",
   "execution_count": 182,
   "metadata": {},
   "outputs": [
    {
     "name": "stdout",
     "output_type": "stream",
     "text": [
      "95.23886895179749\n"
     ]
    }
   ],
   "source": [
    "user_counts = ratings_byDate[\"user_id\"].value_counts()\n",
    "active_users = user_counts.loc[user_counts <= 15].index.tolist()\n",
    "ratings_less_than_15 = ratings_byDate[ratings_byDate.user_id.isin(active_users)]\n",
    "\n",
    "ratings_train = ratings_less_than_15.groupby('user_id').apply(lambda _ratings_less_than_15: _ratings_less_than_15.iloc[:-1])\n",
    "ratings_test = ratings_less_than_15.groupby('user_id').tail(1)\n",
    "\n",
    "# instantiate a reader and read in our rating data\n",
    "reader = Reader(rating_scale=(1, 5))\n",
    "new_data_train = Dataset.load_from_df(ratings_train[['user_id','business_id','rating']], reader)\n",
    "new_data_test = Dataset.load_from_df(ratings_test[['user_id','business_id','rating']], reader)\n",
    "\n",
    "# instantiate the model\n",
    "algorithm = SVD()\n",
    "\n",
    "# Get the trainset and testset\n",
    "trainset, testset_null = train_test_split(new_data_train, test_size=0.001)\n",
    "trainset_null, testset = train_test_split(new_data_test, test_size=0.999)\n",
    "\n",
    "start = time.time()\n",
    "# After checking the accuracy metrics, fit the model to the training dataset\n",
    "algorithm.fit(trainset)\n",
    "\n",
    "# Make predictions and check the accurancy\n",
    "predictions = algorithm.test(testset)\n",
    "\n",
    "end = time.time()\n",
    "print(end - start)"
   ]
  },
  {
   "cell_type": "code",
   "execution_count": 165,
   "metadata": {},
   "outputs": [
    {
     "name": "stdout",
     "output_type": "stream",
     "text": [
      "RMSE: 1.3518\n",
      "MAE:  1.1044\n"
     ]
    },
    {
     "data": {
      "text/plain": [
       "1.1044251988189462"
      ]
     },
     "execution_count": 165,
     "metadata": {},
     "output_type": "execute_result"
    }
   ],
   "source": [
    "accuracy.rmse(predictions)\n",
    "accuracy.mae(predictions)"
   ]
  },
  {
   "cell_type": "code",
   "execution_count": 183,
   "metadata": {},
   "outputs": [
    {
     "data": {
      "text/plain": [
       "220392"
      ]
     },
     "execution_count": 183,
     "metadata": {},
     "output_type": "execute_result"
    }
   ],
   "source": [
    "len(predictions)"
   ]
  },
  {
   "cell_type": "markdown",
   "metadata": {},
   "source": [
    "### 3.2.4 Accuracy scores for users with 15-25 reviews"
   ]
  },
  {
   "cell_type": "code",
   "execution_count": 173,
   "metadata": {},
   "outputs": [
    {
     "name": "stdout",
     "output_type": "stream",
     "text": [
      "40.64778184890747\n"
     ]
    }
   ],
   "source": [
    "user_counts = ratings_byDate[\"user_id\"].value_counts()\n",
    "active_users = user_counts.loc[(user_counts <= 25)&(15 <= user_counts)].index.tolist()\n",
    "ratings_less_than_20 = ratings_byDate[ratings_byDate.user_id.isin(active_users)]\n",
    "\n",
    "ratings_train = ratings_less_than_20.groupby('user_id').apply(lambda _ratings_less_than_20: _ratings_less_than_20.iloc[:-1])\n",
    "ratings_test = ratings_less_than_20.groupby('user_id').tail(1)\n",
    "\n",
    "# instantiate a reader and read in our rating data\n",
    "reader = Reader(rating_scale=(1, 5))\n",
    "new_data_train = Dataset.load_from_df(ratings_train[['user_id','business_id','rating']], reader)\n",
    "new_data_test = Dataset.load_from_df(ratings_test[['user_id','business_id','rating']], reader)\n",
    "\n",
    "# instantiate the model\n",
    "algorithm = SVD()\n",
    "\n",
    "# Get the trainset and testset\n",
    "trainset, testset_null = train_test_split(new_data_train, test_size=0.001)\n",
    "trainset_null, testset = train_test_split(new_data_test, test_size=0.999)\n",
    "\n",
    "start = time.time()\n",
    "# After checking the accuracy metrics, fit the model to the training dataset\n",
    "algorithm.fit(trainset)\n",
    "\n",
    "# Make predictions and check the accurancy\n",
    "predictions = algorithm.test(testset)\n",
    "\n",
    "end = time.time()\n",
    "print(end - start)"
   ]
  },
  {
   "cell_type": "code",
   "execution_count": 176,
   "metadata": {},
   "outputs": [
    {
     "name": "stdout",
     "output_type": "stream",
     "text": [
      "RMSE: 1.3533\n",
      "MAE:  1.1042\n"
     ]
    },
    {
     "data": {
      "text/plain": [
       "1.104176718198299"
      ]
     },
     "execution_count": 176,
     "metadata": {},
     "output_type": "execute_result"
    }
   ],
   "source": [
    "accuracy.rmse(predictions)\n",
    "accuracy.mae(predictions)"
   ]
  },
  {
   "cell_type": "code",
   "execution_count": 181,
   "metadata": {},
   "outputs": [
    {
     "data": {
      "text/plain": [
       "38328"
      ]
     },
     "execution_count": 181,
     "metadata": {},
     "output_type": "execute_result"
    }
   ],
   "source": [
    "len(predictions)"
   ]
  },
  {
   "cell_type": "markdown",
   "metadata": {},
   "source": [
    "Now we draw a line chart to compare the accuracy scores for different user groups, including users with 5-7 review, users with 5-10 reviews and users with 5-15 reviews.\n",
    "\n",
    "As shown in the first two charts below, as the users become more active (more reviews), the accuracy scores decrease, which indicates that traning on the dataset with more active users (more reviews) will give better predictions.\n",
    "\n",
    "(Note that the accuracy scores here are RMSE and MAE, both indicate better predictions when becoming smaller, indicating smaller total errors.)\n",
    "\n",
    "In the third chart, we draw the line chart indicating the number of users in each training and testing process. Although for the last training, there are only 38,328 users, which is far smaller than the numbers of users in the other training processes, the accuracy is better than the others as there are more reviews for each user and thus the last rating for each user can be better predicted."
   ]
  },
  {
   "cell_type": "code",
   "execution_count": 190,
   "metadata": {},
   "outputs": [
    {
     "data": {
      "text/plain": [
       "Text(0, 0.5, '#Users')"
      ]
     },
     "execution_count": 190,
     "metadata": {},
     "output_type": "execute_result"
    },
    {
     "data": {
      "image/png": "[encoded data removed]",
      "text/plain": [
       "<Figure size 1296x432 with 3 Axes>"
      ]
     },
     "metadata": {
      "needs_background": "light"
     },
     "output_type": "display_data"
    }
   ],
   "source": [
    "fig, ax=plt.subplots(1,3,figsize=(18,6))\n",
    "ax[0].plot(['5-7 reviews','5-10 reviews','5-15 reviews','15-25 reviews'],[1.3878,1.3680,1.3518,1.3533])\n",
    "ax[0].set_ylim(1.3,1.4)\n",
    "ax[0].set_xlabel('User Groups')\n",
    "ax[0].set_ylabel('RMSE score')\n",
    "ax[1].plot(['5-7 reviews','5-10 reviews','5-15 reviews','15-25 reviews'],[1.1556,1.1263,1.1044,1.1042])\n",
    "ax[1].set_ylim(1.0,1.3)\n",
    "ax[1].set_xlabel('User Groups')\n",
    "ax[1].set_ylabel('MAE score')\n",
    "\n",
    "ax[2].plot(['5-7 reviews','5-10 reviews','5-15 reviews','15-25 reviews'],[123057,177398,220392,38328],c='b')\n",
    "ax[2].set_ylim(35000,225000)\n",
    "ax[2].set_xlabel('User Groups')\n",
    "ax[2].set_ylabel('#Users')"
   ]
  },
  {
   "cell_type": "markdown",
   "metadata": {},
   "source": [
    "## 3.3 Train and Test on less popular businesses"
   ]
  },
  {
   "cell_type": "markdown",
   "metadata": {},
   "source": [
    "### 3.3.1 Accuracy scores for businesses with more than 100 reviews"
   ]
  },
  {
   "cell_type": "code",
   "execution_count": 4,
   "metadata": {},
   "outputs": [
    {
     "name": "stdout",
     "output_type": "stream",
     "text": [
      "175.2643427848816\n"
     ]
    }
   ],
   "source": [
    "business_counts = ratings[\"business_id\"].value_counts()\n",
    "popular_business = business_counts.loc[business_counts >= 100].index.tolist()\n",
    "ratings_popular_business = ratings[ratings.business_id.isin(popular_business)]\n",
    "\n",
    "ratings_train = ratings_popular_business.groupby('user_id').apply(lambda _ratings_popular_business: _ratings_popular_business.iloc[:-1])\n",
    "ratings_test = ratings_popular_business.groupby('user_id').tail(1)\n",
    "\n",
    "# instantiate a reader and read in our rating data\n",
    "reader = Reader(rating_scale=(1, 5))\n",
    "new_data_train = Dataset.load_from_df(ratings_train[['user_id','business_id','rating']], reader)\n",
    "new_data_test = Dataset.load_from_df(ratings_test[['user_id','business_id','rating']], reader)\n",
    "\n",
    "# instantiate the model\n",
    "algorithm = SVD()\n",
    "\n",
    "# use cross_validation to test the accuracy of the training datasetand the test dataset, using metrics RSME and MAE\n",
    "#print(cross_validate(algorithm, new_data_train, measures=['FCP', 'MAE'], cv=5, verbose=True))\n",
    "\n",
    "# Get the trainset and testset\n",
    "trainset, testset_null = train_test_split(new_data_train, test_size=0.001)\n",
    "trainset_null, testset = train_test_split(new_data_test, test_size=0.999)\n",
    "\n",
    "start = time.time()\n",
    "# After checking the accuracy metrics, fit the model to the training dataset\n",
    "algorithm.fit(trainset)\n",
    "\n",
    "# Make predictions and check the accurancy\n",
    "predictions = algorithm.test(testset) \n",
    "\n",
    "end = time.time()\n",
    "print(end - start)"
   ]
  },
  {
   "cell_type": "code",
   "execution_count": 5,
   "metadata": {},
   "outputs": [
    {
     "name": "stdout",
     "output_type": "stream",
     "text": [
      "RMSE: 1.3902\n",
      "MAE:  1.1377\n"
     ]
    },
    {
     "data": {
      "text/plain": [
       "1.1376885617436847"
      ]
     },
     "execution_count": 5,
     "metadata": {},
     "output_type": "execute_result"
    }
   ],
   "source": [
    "accuracy.rmse(predictions)\n",
    "accuracy.mae(predictions)"
   ]
  },
  {
   "cell_type": "markdown",
   "metadata": {},
   "source": [
    "### 3.3.2 Accuracy scores for businesses with more than 200 reviews"
   ]
  },
  {
   "cell_type": "code",
   "execution_count": 6,
   "metadata": {},
   "outputs": [
    {
     "name": "stdout",
     "output_type": "stream",
     "text": [
      "108.43532013893127\n"
     ]
    }
   ],
   "source": [
    "business_counts = ratings[\"business_id\"].value_counts()\n",
    "popular_business = business_counts.loc[business_counts >= 200].index.tolist()\n",
    "ratings_popular_business = ratings[ratings.business_id.isin(popular_business)]\n",
    "\n",
    "ratings_train = ratings_popular_business.groupby('user_id').apply(lambda _ratings_popular_business: _ratings_popular_business.iloc[:-1])\n",
    "ratings_test = ratings_popular_business.groupby('user_id').tail(1)\n",
    "\n",
    "# instantiate a reader and read in our rating data\n",
    "reader = Reader(rating_scale=(1, 5))\n",
    "new_data_train = Dataset.load_from_df(ratings_train[['user_id','business_id','rating']], reader)\n",
    "new_data_test = Dataset.load_from_df(ratings_test[['user_id','business_id','rating']], reader)\n",
    "\n",
    "# instantiate the model\n",
    "algorithm = SVD()\n",
    "\n",
    "# use cross_validation to test the accuracy of the training datasetand the test dataset, using metrics RSME and MAE\n",
    "#print(cross_validate(algorithm, new_data_train, measures=['FCP', 'MAE'], cv=5, verbose=True))\n",
    "\n",
    "# Get the trainset and testset\n",
    "trainset, testset_null = train_test_split(new_data_train, test_size=0.001)\n",
    "trainset_null, testset = train_test_split(new_data_test, test_size=0.999)\n",
    "\n",
    "start = time.time()\n",
    "# After checking the accuracy metrics, fit the model to the training dataset\n",
    "algorithm.fit(trainset)\n",
    "\n",
    "# Make predictions and check the accurancy\n",
    "predictions = algorithm.test(testset) \n",
    "\n",
    "end = time.time()\n",
    "print(end - start)"
   ]
  },
  {
   "cell_type": "code",
   "execution_count": 7,
   "metadata": {},
   "outputs": [
    {
     "name": "stdout",
     "output_type": "stream",
     "text": [
      "RMSE: 1.3702\n",
      "MAE:  1.1173\n"
     ]
    },
    {
     "data": {
      "text/plain": [
       "1.117273061533005"
      ]
     },
     "execution_count": 7,
     "metadata": {},
     "output_type": "execute_result"
    }
   ],
   "source": [
    "accuracy.rmse(predictions)\n",
    "accuracy.mae(predictions)"
   ]
  },
  {
   "cell_type": "markdown",
   "metadata": {},
   "source": [
    "### 3.3.3 Accuracy scores for businesses with more than 500 reviews"
   ]
  },
  {
   "cell_type": "code",
   "execution_count": 8,
   "metadata": {},
   "outputs": [
    {
     "name": "stdout",
     "output_type": "stream",
     "text": [
      "46.72786474227905\n"
     ]
    }
   ],
   "source": [
    "business_counts = ratings[\"business_id\"].value_counts()\n",
    "popular_business = business_counts.loc[business_counts >= 500].index.tolist()\n",
    "ratings_popular_business = ratings[ratings.business_id.isin(popular_business)]\n",
    "\n",
    "ratings_train = ratings_popular_business.groupby('user_id').apply(lambda _ratings_popular_business: _ratings_popular_business.iloc[:-1])\n",
    "ratings_test = ratings_popular_business.groupby('user_id').tail(1)\n",
    "\n",
    "# instantiate a reader and read in our rating data\n",
    "reader = Reader(rating_scale=(1, 5))\n",
    "new_data_train = Dataset.load_from_df(ratings_train[['user_id','business_id','rating']], reader)\n",
    "new_data_test = Dataset.load_from_df(ratings_test[['user_id','business_id','rating']], reader)\n",
    "\n",
    "# instantiate the model\n",
    "algorithm = SVD()\n",
    "\n",
    "# use cross_validation to test the accuracy of the training datasetand the test dataset, using metrics RSME and MAE\n",
    "#print(cross_validate(algorithm, new_data_train, measures=['FCP', 'MAE'], cv=5, verbose=True))\n",
    "\n",
    "# Get the trainset and testset\n",
    "trainset, testset_null = train_test_split(new_data_train, test_size=0.001)\n",
    "trainset_null, testset = train_test_split(new_data_test, test_size=0.999)\n",
    "\n",
    "start = time.time()\n",
    "# After checking the accuracy metrics, fit the model to the training dataset\n",
    "algorithm.fit(trainset)\n",
    "\n",
    "# Make predictions and check the accurancy\n",
    "predictions = algorithm.test(testset) \n",
    "\n",
    "end = time.time()\n",
    "print(end - start)"
   ]
  },
  {
   "cell_type": "code",
   "execution_count": 9,
   "metadata": {},
   "outputs": [
    {
     "name": "stdout",
     "output_type": "stream",
     "text": [
      "RMSE: 1.3307\n",
      "MAE:  1.0776\n"
     ]
    },
    {
     "data": {
      "text/plain": [
       "1.0775755833943128"
      ]
     },
     "execution_count": 9,
     "metadata": {},
     "output_type": "execute_result"
    }
   ],
   "source": [
    "accuracy.rmse(predictions)\n",
    "accuracy.mae(predictions)"
   ]
  },
  {
   "cell_type": "markdown",
   "metadata": {},
   "source": [
    "Now we draw a line chart to compare the accuracy scores for different business groups, including businesses with more than 100 reviews, businesses with more than 200 reviews and businesses with more than 500 reviews.\n",
    "\n",
    "As shown in the two charts below, as the businesses become more popular (more reviews), the accuracy scores decrease, which indicates that traning on the dataset with more popular businesses (more reviews) will give better predictions.\n",
    "(Note that the accuracy scores here are RMSE and MAE, both indicate better predictions when becoming smaller, indicating smaller total errors.)"
   ]
  },
  {
   "cell_type": "code",
   "execution_count": 10,
   "metadata": {},
   "outputs": [
    {
     "data": {
      "text/plain": [
       "Text(0, 0.5, 'MAE score')"
      ]
     },
     "execution_count": 10,
     "metadata": {},
     "output_type": "execute_result"
    },
    {
     "data": {
      "image/png": "[encoded data removed]",
      "text/plain": [
       "<Figure size 1296x432 with 2 Axes>"
      ]
     },
     "metadata": {
      "needs_background": "light"
     },
     "output_type": "display_data"
    }
   ],
   "source": [
    "fig, ax=plt.subplots(1,2,figsize=(18,6))\n",
    "ax[0].plot(['>100 reviews','>200 reviews','>500 reviews'],[1.3902,1.3702,1.3307])\n",
    "ax[0].set_ylim(1.3,1.4)\n",
    "ax[0].set_xlabel('Business Groups')\n",
    "ax[0].set_ylabel('RMSE score')\n",
    "ax[1].plot(['>100 reviews','>200 reviews','>500 reviews'],[1.1377,1.1173,1.0776])\n",
    "ax[1].set_ylim(1.0,1.3)\n",
    "ax[1].set_xlabel('Business Groups')\n",
    "ax[1].set_ylabel('MAE score')"
   ]
  }
 ],
 "metadata": {
  "kernelspec": {
   "display_name": "Python 3",
   "language": "python",
   "name": "python3"
  },
  "language_info": {
   "codemirror_mode": {
    "name": "ipython",
    "version": 3
   },
   "file_extension": ".py",
   "mimetype": "text/x-python",
   "name": "python",
   "nbconvert_exporter": "python",
   "pygments_lexer": "ipython3",
   "version": "3.7.3"
  }
 },
 "nbformat": 4,
 "nbformat_minor": 2
}
